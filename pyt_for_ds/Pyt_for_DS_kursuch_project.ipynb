{
 "cells": [
  {
   "cell_type": "markdown",
   "metadata": {},
   "source": [
    "### Подготовка исходных данных"
   ]
  },
  {
   "cell_type": "code",
   "execution_count": 1,
   "metadata": {},
   "outputs": [],
   "source": [
    "import pandas as pd\n",
    "import numpy as np\n",
    "import matplotlib.pyplot as plt\n",
    "import seaborn as sns"
   ]
  },
  {
   "cell_type": "code",
   "execution_count": 2,
   "metadata": {},
   "outputs": [],
   "source": [
    "# Загрузка исходного датафрейма\n",
    "\n",
    "df = pd.read_csv('train.csv')\n",
    "data = df.copy()\n",
    "df1 = pd.read_csv('test.csv')\n",
    "test = df1.copy()"
   ]
  },
  {
   "cell_type": "code",
   "execution_count": 3,
   "metadata": {},
   "outputs": [],
   "source": [
    "# Функция обработки выбросов тренировочного датасета\n",
    "\n",
    "def prepare_data(data):\n",
    "    # Правим выбросы Rooms\n",
    "    data.loc[data['Rooms']==10, 'Rooms'] = 2\n",
    "    data.loc[data['Rooms']==19, 'Rooms'] = 1\n",
    "    data.loc[data['Rooms']==6, 'Rooms'] = 2\n",
    "    data.loc[data['Id']==3159, 'Rooms'] = 1\n",
    "    \n",
    "    # Правим выбросы Square\n",
    "    data.loc[data['Id']==28, 'Square'] = data.loc[data['Rooms']==2, 'Square'].mean()\n",
    "    data.loc[data['Id']==2307, 'Square'] = data.loc[data['Rooms']==1, 'Square'].mean()\n",
    "    data.loc[data['Id']==11602, 'Square'] = data.loc[data['Rooms']==2, 'Square'].mean()\n",
    "    data.loc[data['Id']==3224, 'Square'] = data.loc[data['Rooms']==0, 'Square'].mean()\n",
    "    data.loc[(data['Square']>data['Rooms']*45+45) & (data['Rooms']>0), 'Square'] = data['Rooms']*45 + 45\n",
    "    data.loc[data['Square']<data['Rooms']*15, 'Square'] = data['Rooms']*15\n",
    "    \n",
    "    # Правим выбросы KitchenSquare\n",
    "    data.loc[data['Id'] == 14656, 'KitchenSquare'] = data['KitchenSquare'].mean()\n",
    "    data.loc[data['Id'] == 14679, 'KitchenSquare'] = data['KitchenSquare'].mean()\n",
    "    data.loc[data['KitchenSquare'] > 20, 'KitchenSquare'] = data['KitchenSquare'].mean()\n",
    "    \n",
    "    # Правим выбросы LifeSquare\n",
    "    data.loc[data['Id'] == 16550, 'LifeSquare'] = 60\n",
    "    data.loc[data['LifeSquare'] > 250, 'LifeSquare'] = data['Square'] - data['KitchenSquare']\n",
    "    data.loc[data['LifeSquare'] > data['Square'], 'LifeSquare'] = data['Square'] - data['KitchenSquare']\n",
    "    \n",
    "    # Правим выбросы Square\n",
    "    data.loc[data['LifeSquare'] + data['KitchenSquare'] > data['Square'], 'Square'] = data['LifeSquare'] + data['KitchenSquare'] + 10\n",
    "    \n",
    "    # Правим выбросы LifeSquare\n",
    "    data.loc[data['LifeSquare'] < data['Square']*0.4, 'LifeSquare'] = data['Square']*0.7\n",
    "    data['LifeSquare'] = data['LifeSquare'].fillna(data['Square']-data['KitchenSquare'])\n",
    "    \n",
    "    # Правим выбросы HouseFloor\n",
    "    data.loc[data['Floor'] > data['HouseFloor'], 'HouseFloor'] = data['Floor']\n",
    "    data.loc[data['HouseFloor'] > 90, 'HouseFloor'] = data['Floor']\n",
    "    \n",
    "    # Правим выбросы HouseYear\n",
    "    data.loc[data['Id']==10814, 'HouseYear'] = 2008\n",
    "    data.loc[data['Id']==11607, 'HouseYear'] = 1968\n",
    "    \n",
    "    # Половины Healthcare_1 нет, поэтому удаляем\n",
    "    data.drop('Healthcare_1', axis = 1, inplace = True)\n",
    "    \n",
    "    return data"
   ]
  },
  {
   "cell_type": "code",
   "execution_count": 4,
   "metadata": {},
   "outputs": [],
   "source": [
    "# Функция обработки выбросов тестового датасета (по аналогии)\n",
    "\n",
    "def prepare_test(test):\n",
    "    test.loc[test['Id']==1435, 'Rooms'] = 2\n",
    "    test.loc[(test['Square']>test['Rooms']*45+45) & (test['Rooms']>0), 'Square'] = test['Rooms']*45 + 45\n",
    "    test.loc[test['Square']<test['Rooms']*15, 'Square'] = test['Rooms']*15\n",
    "    test.loc[test['KitchenSquare'] > 20, 'KitchenSquare'] = test['KitchenSquare'].mean()\n",
    "    test.loc[test['LifeSquare'] > test['Square'], 'LifeSquare'] = test['Square'] - test['KitchenSquare']\n",
    "    test.loc[test['LifeSquare'] + test['KitchenSquare'] > test['Square'], 'Square'] = test['LifeSquare'] + test['KitchenSquare'] + 10\n",
    "    test.loc[test['LifeSquare'] < test['Square']*0.4, 'LifeSquare'] = test['Square']*0.7\n",
    "    test['LifeSquare'] = test['LifeSquare'].fillna(test['Square']-test['KitchenSquare'])\n",
    "    test.loc[test['Floor'] > test['HouseFloor'], 'HouseFloor'] = test['Floor']\n",
    "    \n",
    "    return test"
   ]
  },
  {
   "cell_type": "code",
   "execution_count": 5,
   "metadata": {},
   "outputs": [],
   "source": [
    "data = prepare_data(data)\n",
    "test = prepare_test(test)"
   ]
  },
  {
   "cell_type": "markdown",
   "metadata": {},
   "source": [
    "### Разбиение исходного датасета на тренировочный и валидационный и добавление новых признаков"
   ]
  },
  {
   "cell_type": "code",
   "execution_count": 6,
   "metadata": {},
   "outputs": [],
   "source": [
    "from sklearn.model_selection import train_test_split\n",
    "train, valid = train_test_split(data, test_size=0.3, random_state=42)"
   ]
  },
  {
   "cell_type": "code",
   "execution_count": 7,
   "metadata": {},
   "outputs": [],
   "source": [
    "# Полученный ниже датафрейм - содержит информацию о количестве предложений о продаже квартиры для каждого района\n",
    "\n",
    "distr_info = train['DistrictId'].value_counts().reset_index().\\\n",
    "    rename(columns={'index':'DistrictId','DistrictId':'large_district'})"
   ]
  },
  {
   "cell_type": "code",
   "execution_count": 8,
   "metadata": {
    "scrolled": true
   },
   "outputs": [
    {
     "name": "stderr",
     "output_type": "stream",
     "text": [
      "C:\\Anaconda3\\lib\\site-packages\\ipykernel_launcher.py:3: SettingWithCopyWarning: \n",
      "A value is trying to be set on a copy of a slice from a DataFrame.\n",
      "Try using .loc[row_indexer,col_indexer] = value instead\n",
      "\n",
      "See the caveats in the documentation: http://pandas.pydata.org/pandas-docs/stable/indexing.html#indexing-view-versus-copy\n",
      "  This is separate from the ipykernel package so we can avoid doing imports until\n"
     ]
    }
   ],
   "source": [
    "# Добавим в тренировочный датафрейм поле - цена на квадратный метр\n",
    "\n",
    "train['price_per_m2'] = train['Price'] / train['Square']"
   ]
  },
  {
   "cell_type": "code",
   "execution_count": 9,
   "metadata": {},
   "outputs": [],
   "source": [
    "# Добавляем в distr_info среднюю стоимость квадратного метра для каждого дистрикта\n",
    "\n",
    "ppm_for_dist=train.groupby(['DistrictId'], as_index=False).agg({'price_per_m2':'mean'}).rename(columns={'price_per_m2':'ppm_for_dist'})\n",
    "distr_info=pd.merge(distr_info, ppm_for_dist, on='DistrictId', how='left')"
   ]
  },
  {
   "cell_type": "code",
   "execution_count": 10,
   "metadata": {},
   "outputs": [
    {
     "data": {
      "text/plain": [
       "4792.720178114966"
      ]
     },
     "execution_count": 10,
     "metadata": {},
     "output_type": "execute_result"
    }
   ],
   "source": [
    "# Вычисляем среднюю цену на квадратный метр для каждого дистрикта\n",
    "\n",
    "mean_ppm = ppm_for_dist['ppm_for_dist'].mean()\n",
    "mean_ppm"
   ]
  },
  {
   "cell_type": "code",
   "execution_count": 11,
   "metadata": {},
   "outputs": [],
   "source": [
    "# Функция добавления к датафрейму distr_info\n",
    "\n",
    "def add_distr_info(df, distr_info, mean_ppm):\n",
    "    df = pd.merge(df, distr_info, on='DistrictId', how='left')\n",
    "    df['large_district'] = df['large_district'].fillna(1)\n",
    "    df['ppm_for_dist']=df['ppm_for_dist'].fillna(mean_ppm)\n",
    "    return df"
   ]
  },
  {
   "cell_type": "code",
   "execution_count": 12,
   "metadata": {},
   "outputs": [],
   "source": [
    "train = add_distr_info(train, distr_info, mean_ppm)"
   ]
  },
  {
   "cell_type": "code",
   "execution_count": 13,
   "metadata": {},
   "outputs": [],
   "source": [
    "valid = add_distr_info(valid, distr_info, mean_ppm)"
   ]
  },
  {
   "cell_type": "markdown",
   "metadata": {},
   "source": [
    "###  Кластеризация по HouseYear и DistrictId"
   ]
  },
  {
   "cell_type": "code",
   "execution_count": 14,
   "metadata": {},
   "outputs": [],
   "source": [
    "from sklearn.cluster import KMeans\n",
    "from sklearn.preprocessing import MinMaxScaler\n",
    "from sklearn.cluster import AgglomerativeClustering\n",
    "from sklearn.neighbors import KNeighborsClassifier"
   ]
  },
  {
   "cell_type": "code",
   "execution_count": 15,
   "metadata": {},
   "outputs": [
    {
     "name": "stderr",
     "output_type": "stream",
     "text": [
      "C:\\Anaconda3\\lib\\site-packages\\sklearn\\preprocessing\\data.py:334: DataConversionWarning: Data with input dtype int64 were all converted to float64 by MinMaxScaler.\n",
      "  return self.partial_fit(X, y)\n"
     ]
    }
   ],
   "source": [
    "scaler = MinMaxScaler()\n",
    "train_scaled = scaler.fit_transform(train.loc[:,['HouseYear','DistrictId']])"
   ]
  },
  {
   "cell_type": "code",
   "execution_count": 16,
   "metadata": {},
   "outputs": [],
   "source": [
    "model_year_dist = AgglomerativeClustering(n_clusters = 4)"
   ]
  },
  {
   "cell_type": "code",
   "execution_count": 17,
   "metadata": {},
   "outputs": [],
   "source": [
    "train['cluster_year_distr'] = model_year_dist.fit_predict(train_scaled)"
   ]
  },
  {
   "cell_type": "code",
   "execution_count": 18,
   "metadata": {},
   "outputs": [
    {
     "data": {
      "text/plain": [
       "Text(0.5, 1.0, 'Train')"
      ]
     },
     "execution_count": 18,
     "metadata": {},
     "output_type": "execute_result"
    },
    {
     "data": {
      "image/png": "[encoded data removed]",
      "text/plain": [
       "<Figure size 432x288 with 1 Axes>"
      ]
     },
     "metadata": {
      "needs_background": "light"
     },
     "output_type": "display_data"
    }
   ],
   "source": [
    "plt.scatter(train['HouseYear'], train['DistrictId'], c = train['cluster_year_distr'])\n",
    "plt.xlabel('HouseYear')\n",
    "plt.ylabel('DistrictId')\n",
    "plt.title('Train')"
   ]
  },
  {
   "cell_type": "code",
   "execution_count": 19,
   "metadata": {},
   "outputs": [],
   "source": [
    "knn_year_dist = KNeighborsClassifier(n_neighbors=4)"
   ]
  },
  {
   "cell_type": "code",
   "execution_count": 20,
   "metadata": {},
   "outputs": [
    {
     "data": {
      "text/plain": [
       "KNeighborsClassifier(algorithm='auto', leaf_size=30, metric='minkowski',\n",
       "           metric_params=None, n_jobs=None, n_neighbors=4, p=2,\n",
       "           weights='uniform')"
      ]
     },
     "execution_count": 20,
     "metadata": {},
     "output_type": "execute_result"
    }
   ],
   "source": [
    "knn_year_dist.fit(train_scaled, train['cluster_year_distr'])"
   ]
  },
  {
   "cell_type": "code",
   "execution_count": 21,
   "metadata": {},
   "outputs": [
    {
     "data": {
      "text/plain": [
       "<matplotlib.axes._subplots.AxesSubplot at 0x3002e3dd8>"
      ]
     },
     "execution_count": 21,
     "metadata": {},
     "output_type": "execute_result"
    },
    {
     "data": {
      "image/png": "[encoded data removed]",
      "text/plain": [
       "<Figure size 432x288 with 1 Axes>"
      ]
     },
     "metadata": {
      "needs_background": "light"
     },
     "output_type": "display_data"
    }
   ],
   "source": [
    "# Преобразуем валидационную выборку\n",
    "\n",
    "valid_scaled = scaler.transform(valid.loc[:, ['HouseYear', 'DistrictId']])\n",
    "valid['cluster_year_distr'] = knn_year_dist.predict(valid_scaled)\n",
    "valid['cluster_year_distr'].hist(bins=4)"
   ]
  },
  {
   "cell_type": "markdown",
   "metadata": {},
   "source": [
    "### Кластеризация по ppm_for_dist (средняя цена на кв м для района) и DistrictId"
   ]
  },
  {
   "cell_type": "code",
   "execution_count": 22,
   "metadata": {},
   "outputs": [
    {
     "name": "stderr",
     "output_type": "stream",
     "text": [
      "C:\\Anaconda3\\lib\\site-packages\\sklearn\\preprocessing\\data.py:334: DataConversionWarning: Data with input dtype int64, float64 were all converted to float64 by MinMaxScaler.\n",
      "  return self.partial_fit(X, y)\n"
     ]
    }
   ],
   "source": [
    "train_scaled = scaler.fit_transform(train.loc[:,['ppm_for_dist','DistrictId']])"
   ]
  },
  {
   "cell_type": "code",
   "execution_count": 23,
   "metadata": {},
   "outputs": [],
   "source": [
    "model_ppm_dist = AgglomerativeClustering(n_clusters = 5)\n",
    "train['cluster_dist_ppm'] = model_ppm_dist.fit_predict(train_scaled)"
   ]
  },
  {
   "cell_type": "code",
   "execution_count": 24,
   "metadata": {},
   "outputs": [
    {
     "data": {
      "text/plain": [
       "Text(0.5, 1.0, 'Train')"
      ]
     },
     "execution_count": 24,
     "metadata": {},
     "output_type": "execute_result"
    },
    {
     "data": {
      "image/png": "[encoded data removed]",
      "text/plain": [
       "<Figure size 432x288 with 1 Axes>"
      ]
     },
     "metadata": {
      "needs_background": "light"
     },
     "output_type": "display_data"
    }
   ],
   "source": [
    "plt.scatter(train['ppm_for_dist'], train['DistrictId'], c = train['cluster_dist_ppm'])\n",
    "plt.xlabel('ppm_for_dist')\n",
    "plt.ylabel('DistrictId')\n",
    "plt.title('Train')"
   ]
  },
  {
   "cell_type": "code",
   "execution_count": 25,
   "metadata": {},
   "outputs": [
    {
     "data": {
      "text/plain": [
       "KNeighborsClassifier(algorithm='auto', leaf_size=30, metric='minkowski',\n",
       "           metric_params=None, n_jobs=None, n_neighbors=5, p=2,\n",
       "           weights='uniform')"
      ]
     },
     "execution_count": 25,
     "metadata": {},
     "output_type": "execute_result"
    }
   ],
   "source": [
    "knn_ppm_dist = KNeighborsClassifier(n_neighbors=5)\n",
    "knn_ppm_dist.fit(train_scaled, train['cluster_dist_ppm'])"
   ]
  },
  {
   "cell_type": "code",
   "execution_count": 26,
   "metadata": {},
   "outputs": [],
   "source": [
    "valid_scaled = scaler.transform(valid.loc[:, ['ppm_for_dist','DistrictId']])"
   ]
  },
  {
   "cell_type": "code",
   "execution_count": 27,
   "metadata": {},
   "outputs": [
    {
     "data": {
      "text/plain": [
       "<matplotlib.axes._subplots.AxesSubplot at 0x36bff8208>"
      ]
     },
     "execution_count": 27,
     "metadata": {},
     "output_type": "execute_result"
    },
    {
     "data": {
      "image/png": "[encoded data removed]",
      "text/plain": [
       "<Figure size 432x288 with 1 Axes>"
      ]
     },
     "metadata": {
      "needs_background": "light"
     },
     "output_type": "display_data"
    }
   ],
   "source": [
    "valid['cluster_dist_ppm'] = knn_ppm_dist.predict(valid_scaled)\n",
    "valid['cluster_dist_ppm'].hist(bins=5)"
   ]
  },
  {
   "cell_type": "code",
   "execution_count": 28,
   "metadata": {},
   "outputs": [],
   "source": [
    "# cluster_year_distr и cluster_dist_ppm надо преобразовать в дами-переменные\n",
    "\n",
    "def dummies(df):\n",
    "    df['cluster_year_distr']=df['cluster_year_distr'].astype(object)\n",
    "    df['cluster_dist_ppm']=df['cluster_dist_ppm'].astype(object)\n",
    "    df = pd.get_dummies(df)\n",
    "    return df"
   ]
  },
  {
   "cell_type": "code",
   "execution_count": 29,
   "metadata": {},
   "outputs": [],
   "source": [
    "train = dummies(train)\n",
    "valid = dummies(valid)"
   ]
  },
  {
   "cell_type": "markdown",
   "metadata": {},
   "source": [
    "### Предсказания на валидационной выборке "
   ]
  },
  {
   "cell_type": "code",
   "execution_count": 30,
   "metadata": {},
   "outputs": [],
   "source": [
    "from sklearn.ensemble import RandomForestRegressor as RF\n",
    "from sklearn.metrics import r2_score as r2"
   ]
  },
  {
   "cell_type": "code",
   "execution_count": 31,
   "metadata": {},
   "outputs": [
    {
     "data": {
      "text/plain": [
       "0.7145288820598859"
      ]
     },
     "execution_count": 31,
     "metadata": {},
     "output_type": "execute_result"
    }
   ],
   "source": [
    "feats = ['DistrictId', 'Rooms', 'Square', 'LifeSquare', 'KitchenSquare', 'Floor',\n",
    "        'HouseFloor', 'HouseYear', 'Ecology_1', 'Social_1',\n",
    "        'Helthcare_2', 'Shops_1', 'Ecology_2_A',\n",
    "       'Ecology_2_B', 'Ecology_3_A', 'Ecology_3_B', 'Shops_2_A', 'Shops_2_B',\n",
    "       'ppm_for_dist', 'cluster_dist_ppm_0','cluster_dist_ppm_1','cluster_dist_ppm_2','cluster_dist_ppm_3','cluster_dist_ppm_4',\n",
    "        'cluster_year_distr_0', 'cluster_year_distr_1', 'cluster_year_distr_2', 'cluster_year_distr_3']\n",
    "\n",
    "model = RF(n_estimators = 1000, max_depth = 10, random_state = 42)\n",
    "model.fit(train.loc[:, feats], train['Price'])\n",
    "y_pred = model.predict(valid.loc[:, feats])\n",
    "r2(valid['Price'], y_pred)"
   ]
  },
  {
   "cell_type": "markdown",
   "metadata": {},
   "source": [
    "### Предсказание на тестовой выборке "
   ]
  },
  {
   "cell_type": "code",
   "execution_count": 32,
   "metadata": {},
   "outputs": [],
   "source": [
    "# Добавим информацию в тестовую выборку о District: средняя цена на кв м и количество предложений о продаже\n",
    "\n",
    "test = add_distr_info(test, distr_info, mean_ppm)"
   ]
  },
  {
   "cell_type": "code",
   "execution_count": 33,
   "metadata": {},
   "outputs": [
    {
     "name": "stderr",
     "output_type": "stream",
     "text": [
      "C:\\Anaconda3\\lib\\site-packages\\sklearn\\preprocessing\\data.py:334: DataConversionWarning: Data with input dtype int64 were all converted to float64 by MinMaxScaler.\n",
      "  return self.partial_fit(X, y)\n",
      "C:\\Anaconda3\\lib\\site-packages\\sklearn\\preprocessing\\data.py:334: DataConversionWarning: Data with input dtype int64, float64 were all converted to float64 by MinMaxScaler.\n",
      "  return self.partial_fit(X, y)\n"
     ]
    }
   ],
   "source": [
    "# Проведем классификацию для тестовой выборки\n",
    "\n",
    "test_scaled = scaler.fit_transform(test.loc[:, ['HouseYear', 'DistrictId']])\n",
    "test['cluster_year_distr'] = knn_year_dist.predict(test_scaled)\n",
    "test_scaled = scaler.fit_transform(test.loc[:,['ppm_for_dist','DistrictId']])\n",
    "test['cluster_dist_ppm'] = knn_ppm_dist.predict(test_scaled)"
   ]
  },
  {
   "cell_type": "code",
   "execution_count": 34,
   "metadata": {},
   "outputs": [
    {
     "data": {
      "text/html": [
       "<div>\n",
       "<style scoped>\n",
       "    .dataframe tbody tr th:only-of-type {\n",
       "        vertical-align: middle;\n",
       "    }\n",
       "\n",
       "    .dataframe tbody tr th {\n",
       "        vertical-align: top;\n",
       "    }\n",
       "\n",
       "    .dataframe thead th {\n",
       "        text-align: right;\n",
       "    }\n",
       "</style>\n",
       "<table border=\"1\" class=\"dataframe\">\n",
       "  <thead>\n",
       "    <tr style=\"text-align: right;\">\n",
       "      <th></th>\n",
       "      <th>Id</th>\n",
       "      <th>DistrictId</th>\n",
       "      <th>Rooms</th>\n",
       "      <th>Square</th>\n",
       "      <th>LifeSquare</th>\n",
       "      <th>KitchenSquare</th>\n",
       "      <th>Floor</th>\n",
       "      <th>HouseFloor</th>\n",
       "      <th>HouseYear</th>\n",
       "      <th>Ecology_1</th>\n",
       "      <th>...</th>\n",
       "      <th>Social_2</th>\n",
       "      <th>Social_3</th>\n",
       "      <th>Healthcare_1</th>\n",
       "      <th>Helthcare_2</th>\n",
       "      <th>Shops_1</th>\n",
       "      <th>Shops_2</th>\n",
       "      <th>large_district</th>\n",
       "      <th>ppm_for_dist</th>\n",
       "      <th>cluster_year_distr</th>\n",
       "      <th>cluster_dist_ppm</th>\n",
       "    </tr>\n",
       "  </thead>\n",
       "  <tbody>\n",
       "    <tr>\n",
       "      <th>0</th>\n",
       "      <td>725</td>\n",
       "      <td>58</td>\n",
       "      <td>2.0</td>\n",
       "      <td>49.882643</td>\n",
       "      <td>33.432782</td>\n",
       "      <td>6.0</td>\n",
       "      <td>6</td>\n",
       "      <td>14.0</td>\n",
       "      <td>1972</td>\n",
       "      <td>0.310199</td>\n",
       "      <td>...</td>\n",
       "      <td>2748</td>\n",
       "      <td>1</td>\n",
       "      <td>NaN</td>\n",
       "      <td>0</td>\n",
       "      <td>0</td>\n",
       "      <td>B</td>\n",
       "      <td>118.0</td>\n",
       "      <td>2891.162798</td>\n",
       "      <td>1</td>\n",
       "      <td>4</td>\n",
       "    </tr>\n",
       "    <tr>\n",
       "      <th>1</th>\n",
       "      <td>15856</td>\n",
       "      <td>74</td>\n",
       "      <td>2.0</td>\n",
       "      <td>69.263183</td>\n",
       "      <td>68.263183</td>\n",
       "      <td>1.0</td>\n",
       "      <td>6</td>\n",
       "      <td>6.0</td>\n",
       "      <td>1977</td>\n",
       "      <td>0.075779</td>\n",
       "      <td>...</td>\n",
       "      <td>1437</td>\n",
       "      <td>3</td>\n",
       "      <td>NaN</td>\n",
       "      <td>0</td>\n",
       "      <td>2</td>\n",
       "      <td>B</td>\n",
       "      <td>77.0</td>\n",
       "      <td>3303.114479</td>\n",
       "      <td>0</td>\n",
       "      <td>1</td>\n",
       "    </tr>\n",
       "    <tr>\n",
       "      <th>2</th>\n",
       "      <td>5480</td>\n",
       "      <td>190</td>\n",
       "      <td>1.0</td>\n",
       "      <td>15.000000</td>\n",
       "      <td>10.500000</td>\n",
       "      <td>12.0</td>\n",
       "      <td>2</td>\n",
       "      <td>5.0</td>\n",
       "      <td>1909</td>\n",
       "      <td>0.000000</td>\n",
       "      <td>...</td>\n",
       "      <td>7538</td>\n",
       "      <td>87</td>\n",
       "      <td>4702.0</td>\n",
       "      <td>5</td>\n",
       "      <td>5</td>\n",
       "      <td>B</td>\n",
       "      <td>4.0</td>\n",
       "      <td>8096.549882</td>\n",
       "      <td>0</td>\n",
       "      <td>3</td>\n",
       "    </tr>\n",
       "    <tr>\n",
       "      <th>3</th>\n",
       "      <td>15664</td>\n",
       "      <td>47</td>\n",
       "      <td>2.0</td>\n",
       "      <td>73.046609</td>\n",
       "      <td>51.940842</td>\n",
       "      <td>9.0</td>\n",
       "      <td>22</td>\n",
       "      <td>22.0</td>\n",
       "      <td>2007</td>\n",
       "      <td>0.101872</td>\n",
       "      <td>...</td>\n",
       "      <td>4583</td>\n",
       "      <td>3</td>\n",
       "      <td>NaN</td>\n",
       "      <td>3</td>\n",
       "      <td>3</td>\n",
       "      <td>B</td>\n",
       "      <td>66.0</td>\n",
       "      <td>4108.659766</td>\n",
       "      <td>2</td>\n",
       "      <td>2</td>\n",
       "    </tr>\n",
       "    <tr>\n",
       "      <th>4</th>\n",
       "      <td>14275</td>\n",
       "      <td>27</td>\n",
       "      <td>1.0</td>\n",
       "      <td>47.527111</td>\n",
       "      <td>43.387569</td>\n",
       "      <td>1.0</td>\n",
       "      <td>17</td>\n",
       "      <td>17.0</td>\n",
       "      <td>2017</td>\n",
       "      <td>0.072158</td>\n",
       "      <td>...</td>\n",
       "      <td>629</td>\n",
       "      <td>1</td>\n",
       "      <td>NaN</td>\n",
       "      <td>0</td>\n",
       "      <td>0</td>\n",
       "      <td>A</td>\n",
       "      <td>574.0</td>\n",
       "      <td>2734.767489</td>\n",
       "      <td>2</td>\n",
       "      <td>4</td>\n",
       "    </tr>\n",
       "  </tbody>\n",
       "</table>\n",
       "<p>5 rows × 23 columns</p>\n",
       "</div>"
      ],
      "text/plain": [
       "      Id  DistrictId  Rooms     Square  LifeSquare  KitchenSquare  Floor  \\\n",
       "0    725          58    2.0  49.882643   33.432782            6.0      6   \n",
       "1  15856          74    2.0  69.263183   68.263183            1.0      6   \n",
       "2   5480         190    1.0  15.000000   10.500000           12.0      2   \n",
       "3  15664          47    2.0  73.046609   51.940842            9.0     22   \n",
       "4  14275          27    1.0  47.527111   43.387569            1.0     17   \n",
       "\n",
       "   HouseFloor  HouseYear  Ecology_1  ... Social_2 Social_3  Healthcare_1  \\\n",
       "0        14.0       1972   0.310199  ...     2748        1           NaN   \n",
       "1         6.0       1977   0.075779  ...     1437        3           NaN   \n",
       "2         5.0       1909   0.000000  ...     7538       87        4702.0   \n",
       "3        22.0       2007   0.101872  ...     4583        3           NaN   \n",
       "4        17.0       2017   0.072158  ...      629        1           NaN   \n",
       "\n",
       "   Helthcare_2  Shops_1  Shops_2  large_district  ppm_for_dist  \\\n",
       "0            0        0        B           118.0   2891.162798   \n",
       "1            0        2        B            77.0   3303.114479   \n",
       "2            5        5        B             4.0   8096.549882   \n",
       "3            3        3        B            66.0   4108.659766   \n",
       "4            0        0        A           574.0   2734.767489   \n",
       "\n",
       "  cluster_year_distr  cluster_dist_ppm  \n",
       "0                  1                 4  \n",
       "1                  0                 1  \n",
       "2                  0                 3  \n",
       "3                  2                 2  \n",
       "4                  2                 4  \n",
       "\n",
       "[5 rows x 23 columns]"
      ]
     },
     "execution_count": 34,
     "metadata": {},
     "output_type": "execute_result"
    }
   ],
   "source": [
    "test.head()"
   ]
  },
  {
   "cell_type": "code",
   "execution_count": 35,
   "metadata": {},
   "outputs": [],
   "source": [
    "# Преобразуем необходимые поля в дамми переменные\n",
    "\n",
    "test = dummies(test)"
   ]
  },
  {
   "cell_type": "code",
   "execution_count": 36,
   "metadata": {},
   "outputs": [],
   "source": [
    "test['Price'] = model.predict(test.loc[:, feats])"
   ]
  },
  {
   "cell_type": "code",
   "execution_count": 37,
   "metadata": {},
   "outputs": [
    {
     "data": {
      "text/html": [
       "<div>\n",
       "<style scoped>\n",
       "    .dataframe tbody tr th:only-of-type {\n",
       "        vertical-align: middle;\n",
       "    }\n",
       "\n",
       "    .dataframe tbody tr th {\n",
       "        vertical-align: top;\n",
       "    }\n",
       "\n",
       "    .dataframe thead th {\n",
       "        text-align: right;\n",
       "    }\n",
       "</style>\n",
       "<table border=\"1\" class=\"dataframe\">\n",
       "  <thead>\n",
       "    <tr style=\"text-align: right;\">\n",
       "      <th></th>\n",
       "      <th>Id</th>\n",
       "      <th>Price</th>\n",
       "    </tr>\n",
       "  </thead>\n",
       "  <tbody>\n",
       "    <tr>\n",
       "      <th>0</th>\n",
       "      <td>725</td>\n",
       "      <td>160590.800649</td>\n",
       "    </tr>\n",
       "    <tr>\n",
       "      <th>1</th>\n",
       "      <td>15856</td>\n",
       "      <td>226764.364546</td>\n",
       "    </tr>\n",
       "    <tr>\n",
       "      <th>2</th>\n",
       "      <td>5480</td>\n",
       "      <td>323928.416639</td>\n",
       "    </tr>\n",
       "    <tr>\n",
       "      <th>3</th>\n",
       "      <td>15664</td>\n",
       "      <td>318930.489084</td>\n",
       "    </tr>\n",
       "    <tr>\n",
       "      <th>4</th>\n",
       "      <td>14275</td>\n",
       "      <td>132459.223820</td>\n",
       "    </tr>\n",
       "  </tbody>\n",
       "</table>\n",
       "</div>"
      ],
      "text/plain": [
       "      Id          Price\n",
       "0    725  160590.800649\n",
       "1  15856  226764.364546\n",
       "2   5480  323928.416639\n",
       "3  15664  318930.489084\n",
       "4  14275  132459.223820"
      ]
     },
     "execution_count": 37,
     "metadata": {},
     "output_type": "execute_result"
    }
   ],
   "source": [
    "test.loc[:, ['Id', 'Price']].head()"
   ]
  },
  {
   "cell_type": "code",
   "execution_count": 38,
   "metadata": {},
   "outputs": [],
   "source": [
    "test.loc[:, ['Id', 'Price']].to_csv('DFedorov_predictions.csv', index=None)"
   ]
  },
  {
   "cell_type": "code",
   "execution_count": null,
   "metadata": {},
   "outputs": [],
   "source": []
  }
 ],
 "metadata": {
  "kernelspec": {
   "display_name": "Python 3",
   "language": "python",
   "name": "python3"
  },
  "language_info": {
   "codemirror_mode": {
    "name": "ipython",
    "version": 3
   },
   "file_extension": ".py",
   "mimetype": "text/x-python",
   "name": "python",
   "nbconvert_exporter": "python",
   "pygments_lexer": "ipython3",
   "version": "3.7.3"
  }
 },
 "nbformat": 4,
 "nbformat_minor": 2
}
