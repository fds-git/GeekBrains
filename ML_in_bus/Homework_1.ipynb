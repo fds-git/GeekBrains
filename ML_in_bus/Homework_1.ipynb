{
 "cells": [
  {
   "cell_type": "markdown",
   "metadata": {},
   "source": [
    "## Домашнее задание\n",
    "\n",
    "### 1. Выберите наборы данных. которые можно интерпретировать, как временные ряды:\n",
    "\n",
    "    а) зависимость цены на недвижимость в конкретном регионе от времени,\n",
    "    \n",
    "    б) скорость полета самолета при перелете из аэропорта А в аэропорт В,\n",
    "    \n",
    "    в) количество отказов компьютера,\n",
    "    \n",
    "    г) число обращений в поликлинику по району,\n",
    "    \n",
    "    д) координаты автобуса при движении по маршруту,\n",
    "    \n",
    "    е) координаты фигуры нарушителя в файле видеофиксации охранной системы."
   ]
  },
  {
   "cell_type": "markdown",
   "metadata": {},
   "source": [
    "### Ответ"
   ]
  },
  {
   "cell_type": "markdown",
   "metadata": {},
   "source": [
    "а, б, д, е"
   ]
  },
  {
   "cell_type": "markdown",
   "metadata": {},
   "source": [
    "### 2. Прочитайте DUQ_hourly.csv и проверьте качество и порядок разметки этой выборки с информацией о потреблении энергии в одном из районов Восточной Электросети США. Сделайте описание особенностей этой выборки."
   ]
  },
  {
   "cell_type": "code",
   "execution_count": 1,
   "metadata": {},
   "outputs": [],
   "source": [
    "import pandas as pd\n",
    "import numpy as np\n",
    "import seaborn as sns\n",
    "import matplotlib.pyplot as plt"
   ]
  },
  {
   "cell_type": "code",
   "execution_count": 2,
   "metadata": {},
   "outputs": [],
   "source": [
    "data = pd.read_csv('DUQ_hourly.csv', index_col=[0], parse_dates=[0])"
   ]
  },
  {
   "cell_type": "markdown",
   "metadata": {},
   "source": [
    "Отсортируем данные по индексу"
   ]
  },
  {
   "cell_type": "code",
   "execution_count": 3,
   "metadata": {},
   "outputs": [],
   "source": [
    "data = data.sort_index()"
   ]
  },
  {
   "cell_type": "markdown",
   "metadata": {},
   "source": [
    "Удалим дубликаты"
   ]
  },
  {
   "cell_type": "code",
   "execution_count": 4,
   "metadata": {},
   "outputs": [
    {
     "data": {
      "text/plain": [
       "(119068, 1)"
      ]
     },
     "execution_count": 4,
     "metadata": {},
     "output_type": "execute_result"
    }
   ],
   "source": [
    "data.shape"
   ]
  },
  {
   "cell_type": "code",
   "execution_count": 5,
   "metadata": {},
   "outputs": [],
   "source": [
    "#data.shape"
   ]
  },
  {
   "cell_type": "code",
   "execution_count": 6,
   "metadata": {},
   "outputs": [],
   "source": [
    "#data"
   ]
  },
  {
   "cell_type": "code",
   "execution_count": 7,
   "metadata": {},
   "outputs": [
    {
     "data": {
      "text/html": [
       "<div>\n",
       "<style scoped>\n",
       "    .dataframe tbody tr th:only-of-type {\n",
       "        vertical-align: middle;\n",
       "    }\n",
       "\n",
       "    .dataframe tbody tr th {\n",
       "        vertical-align: top;\n",
       "    }\n",
       "\n",
       "    .dataframe thead th {\n",
       "        text-align: right;\n",
       "    }\n",
       "</style>\n",
       "<table border=\"1\" class=\"dataframe\">\n",
       "  <thead>\n",
       "    <tr style=\"text-align: right;\">\n",
       "      <th></th>\n",
       "      <th>DUQ_MW</th>\n",
       "    </tr>\n",
       "    <tr>\n",
       "      <th>Datetime</th>\n",
       "      <th></th>\n",
       "    </tr>\n",
       "  </thead>\n",
       "  <tbody>\n",
       "    <tr>\n",
       "      <th>2005-01-01 01:00:00</th>\n",
       "      <td>1364.0</td>\n",
       "    </tr>\n",
       "    <tr>\n",
       "      <th>2005-01-01 02:00:00</th>\n",
       "      <td>1273.0</td>\n",
       "    </tr>\n",
       "    <tr>\n",
       "      <th>2005-01-01 03:00:00</th>\n",
       "      <td>1218.0</td>\n",
       "    </tr>\n",
       "    <tr>\n",
       "      <th>2005-01-01 04:00:00</th>\n",
       "      <td>1170.0</td>\n",
       "    </tr>\n",
       "    <tr>\n",
       "      <th>2005-01-01 05:00:00</th>\n",
       "      <td>1166.0</td>\n",
       "    </tr>\n",
       "  </tbody>\n",
       "</table>\n",
       "</div>"
      ],
      "text/plain": [
       "                     DUQ_MW\n",
       "Datetime                   \n",
       "2005-01-01 01:00:00  1364.0\n",
       "2005-01-01 02:00:00  1273.0\n",
       "2005-01-01 03:00:00  1218.0\n",
       "2005-01-01 04:00:00  1170.0\n",
       "2005-01-01 05:00:00  1166.0"
      ]
     },
     "execution_count": 7,
     "metadata": {},
     "output_type": "execute_result"
    }
   ],
   "source": [
    "data.head()"
   ]
  },
  {
   "cell_type": "code",
   "execution_count": 8,
   "metadata": {},
   "outputs": [
    {
     "data": {
      "text/plain": [
       "(119068, 1)"
      ]
     },
     "execution_count": 8,
     "metadata": {},
     "output_type": "execute_result"
    }
   ],
   "source": [
    "data.shape"
   ]
  },
  {
   "cell_type": "code",
   "execution_count": 9,
   "metadata": {},
   "outputs": [
    {
     "name": "stdout",
     "output_type": "stream",
     "text": [
      "<class 'pandas.core.frame.DataFrame'>\n",
      "DatetimeIndex: 119068 entries, 2005-01-01 01:00:00 to 2018-08-03 00:00:00\n",
      "Data columns (total 1 columns):\n",
      "DUQ_MW    119068 non-null float64\n",
      "dtypes: float64(1)\n",
      "memory usage: 1.8 MB\n"
     ]
    }
   ],
   "source": [
    "data.info()"
   ]
  },
  {
   "cell_type": "code",
   "execution_count": 10,
   "metadata": {},
   "outputs": [
    {
     "data": {
      "text/html": [
       "<div>\n",
       "<style scoped>\n",
       "    .dataframe tbody tr th:only-of-type {\n",
       "        vertical-align: middle;\n",
       "    }\n",
       "\n",
       "    .dataframe tbody tr th {\n",
       "        vertical-align: top;\n",
       "    }\n",
       "\n",
       "    .dataframe thead th {\n",
       "        text-align: right;\n",
       "    }\n",
       "</style>\n",
       "<table border=\"1\" class=\"dataframe\">\n",
       "  <thead>\n",
       "    <tr style=\"text-align: right;\">\n",
       "      <th></th>\n",
       "      <th>DUQ_MW</th>\n",
       "    </tr>\n",
       "  </thead>\n",
       "  <tbody>\n",
       "    <tr>\n",
       "      <th>count</th>\n",
       "      <td>119068.000000</td>\n",
       "    </tr>\n",
       "    <tr>\n",
       "      <th>mean</th>\n",
       "      <td>1658.820296</td>\n",
       "    </tr>\n",
       "    <tr>\n",
       "      <th>std</th>\n",
       "      <td>301.740640</td>\n",
       "    </tr>\n",
       "    <tr>\n",
       "      <th>min</th>\n",
       "      <td>1014.000000</td>\n",
       "    </tr>\n",
       "    <tr>\n",
       "      <th>25%</th>\n",
       "      <td>1444.000000</td>\n",
       "    </tr>\n",
       "    <tr>\n",
       "      <th>50%</th>\n",
       "      <td>1630.000000</td>\n",
       "    </tr>\n",
       "    <tr>\n",
       "      <th>75%</th>\n",
       "      <td>1819.000000</td>\n",
       "    </tr>\n",
       "    <tr>\n",
       "      <th>max</th>\n",
       "      <td>3054.000000</td>\n",
       "    </tr>\n",
       "  </tbody>\n",
       "</table>\n",
       "</div>"
      ],
      "text/plain": [
       "              DUQ_MW\n",
       "count  119068.000000\n",
       "mean     1658.820296\n",
       "std       301.740640\n",
       "min      1014.000000\n",
       "25%      1444.000000\n",
       "50%      1630.000000\n",
       "75%      1819.000000\n",
       "max      3054.000000"
      ]
     },
     "execution_count": 10,
     "metadata": {},
     "output_type": "execute_result"
    }
   ],
   "source": [
    "data.describe()"
   ]
  },
  {
   "cell_type": "markdown",
   "metadata": {},
   "source": [
    "Поскольку данные лежат в диапазоне от 1014МВт до 3054, то очевидно, что точность представления float64 избыточна. Перейдем к целым. Это позволит сократить объем занимаемой памяти."
   ]
  },
  {
   "cell_type": "code",
   "execution_count": 11,
   "metadata": {},
   "outputs": [
    {
     "name": "stdout",
     "output_type": "stream",
     "text": [
      "<class 'pandas.core.frame.DataFrame'>\n",
      "DatetimeIndex: 119068 entries, 2005-01-01 01:00:00 to 2018-08-03 00:00:00\n",
      "Data columns (total 1 columns):\n",
      "DUQ_MW    119068 non-null int32\n",
      "dtypes: int32(1)\n",
      "memory usage: 1.4 MB\n"
     ]
    }
   ],
   "source": [
    "# Теперь целые\n",
    "data['DUQ_MW'] = data['DUQ_MW'].astype('int')\n",
    "data.info()"
   ]
  },
  {
   "cell_type": "code",
   "execution_count": 12,
   "metadata": {},
   "outputs": [
    {
     "data": {
      "text/plain": [
       "0"
      ]
     },
     "execution_count": 12,
     "metadata": {},
     "output_type": "execute_result"
    }
   ],
   "source": [
    "# проверим пропуски\n",
    "data['DUQ_MW'].isnull().sum()"
   ]
  },
  {
   "cell_type": "markdown",
   "metadata": {},
   "source": [
    "Пропусков нет"
   ]
  },
  {
   "cell_type": "code",
   "execution_count": 13,
   "metadata": {},
   "outputs": [
    {
     "data": {
      "text/plain": [
       "Text(0, 0.5, 'МВт')"
      ]
     },
     "execution_count": 13,
     "metadata": {},
     "output_type": "execute_result"
    },
    {
     "data": {
      "image/png": "[encoded data removed]",
      "text/plain": [
       "<Figure size 1080x504 with 1 Axes>"
      ]
     },
     "metadata": {
      "needs_background": "light"
     },
     "output_type": "display_data"
    }
   ],
   "source": [
    "data.plot( style = '.', figsize = ( 15, 7 ), title = 'DUQ_MW потребление энергии' )\n",
    "plt.ylabel ( 'МВт' )"
   ]
  },
  {
   "cell_type": "markdown",
   "metadata": {},
   "source": [
    "- Основные статистики показали, что пропусков нет\n",
    "- Визуальный анализ показывает что:\n",
    "    - Предъявленные данные имеют циклы"
   ]
  },
  {
   "cell_type": "code",
   "execution_count": 14,
   "metadata": {},
   "outputs": [],
   "source": [
    "import pandas_profiling"
   ]
  },
  {
   "cell_type": "code",
   "execution_count": 15,
   "metadata": {},
   "outputs": [],
   "source": [
    "#pandas_profiling.ProfileReport(data)"
   ]
  },
  {
   "cell_type": "markdown",
   "metadata": {},
   "source": [
    "Добавим индекс как отдельную колонку. "
   ]
  },
  {
   "cell_type": "code",
   "execution_count": 16,
   "metadata": {},
   "outputs": [
    {
     "data": {
      "text/html": [
       "<div>\n",
       "<style scoped>\n",
       "    .dataframe tbody tr th:only-of-type {\n",
       "        vertical-align: middle;\n",
       "    }\n",
       "\n",
       "    .dataframe tbody tr th {\n",
       "        vertical-align: top;\n",
       "    }\n",
       "\n",
       "    .dataframe thead th {\n",
       "        text-align: right;\n",
       "    }\n",
       "</style>\n",
       "<table border=\"1\" class=\"dataframe\">\n",
       "  <thead>\n",
       "    <tr style=\"text-align: right;\">\n",
       "      <th></th>\n",
       "      <th>DUQ_MW</th>\n",
       "      <th>date</th>\n",
       "    </tr>\n",
       "    <tr>\n",
       "      <th>Datetime</th>\n",
       "      <th></th>\n",
       "      <th></th>\n",
       "    </tr>\n",
       "  </thead>\n",
       "  <tbody>\n",
       "    <tr>\n",
       "      <th>2005-01-01 01:00:00</th>\n",
       "      <td>1364</td>\n",
       "      <td>2005-01-01 01:00:00</td>\n",
       "    </tr>\n",
       "    <tr>\n",
       "      <th>2005-01-01 02:00:00</th>\n",
       "      <td>1273</td>\n",
       "      <td>2005-01-01 02:00:00</td>\n",
       "    </tr>\n",
       "    <tr>\n",
       "      <th>2005-01-01 03:00:00</th>\n",
       "      <td>1218</td>\n",
       "      <td>2005-01-01 03:00:00</td>\n",
       "    </tr>\n",
       "    <tr>\n",
       "      <th>2005-01-01 04:00:00</th>\n",
       "      <td>1170</td>\n",
       "      <td>2005-01-01 04:00:00</td>\n",
       "    </tr>\n",
       "    <tr>\n",
       "      <th>2005-01-01 05:00:00</th>\n",
       "      <td>1166</td>\n",
       "      <td>2005-01-01 05:00:00</td>\n",
       "    </tr>\n",
       "  </tbody>\n",
       "</table>\n",
       "</div>"
      ],
      "text/plain": [
       "                     DUQ_MW                date\n",
       "Datetime                                       \n",
       "2005-01-01 01:00:00    1364 2005-01-01 01:00:00\n",
       "2005-01-01 02:00:00    1273 2005-01-01 02:00:00\n",
       "2005-01-01 03:00:00    1218 2005-01-01 03:00:00\n",
       "2005-01-01 04:00:00    1170 2005-01-01 04:00:00\n",
       "2005-01-01 05:00:00    1166 2005-01-01 05:00:00"
      ]
     },
     "execution_count": 16,
     "metadata": {},
     "output_type": "execute_result"
    }
   ],
   "source": [
    "data['date'] = data.index\n",
    "data.head()"
   ]
  },
  {
   "cell_type": "markdown",
   "metadata": {},
   "source": [
    "### Удаление строк-дубликатов"
   ]
  },
  {
   "cell_type": "code",
   "execution_count": 17,
   "metadata": {},
   "outputs": [
    {
     "data": {
      "text/plain": [
       "(119068, 2)"
      ]
     },
     "execution_count": 17,
     "metadata": {},
     "output_type": "execute_result"
    }
   ],
   "source": [
    "data.shape"
   ]
  },
  {
   "cell_type": "code",
   "execution_count": 18,
   "metadata": {},
   "outputs": [],
   "source": [
    "data = data.drop_duplicates()"
   ]
  },
  {
   "cell_type": "code",
   "execution_count": 19,
   "metadata": {},
   "outputs": [
    {
     "data": {
      "text/plain": [
       "(119068, 2)"
      ]
     },
     "execution_count": 19,
     "metadata": {},
     "output_type": "execute_result"
    }
   ],
   "source": [
    "data.shape"
   ]
  },
  {
   "cell_type": "markdown",
   "metadata": {},
   "source": [
    "### Поиск индексов-дубликатов"
   ]
  },
  {
   "cell_type": "code",
   "execution_count": 20,
   "metadata": {},
   "outputs": [
    {
     "data": {
      "text/plain": [
       "False"
      ]
     },
     "execution_count": 20,
     "metadata": {},
     "output_type": "execute_result"
    }
   ],
   "source": [
    "data.shape[0] == data['date'].nunique()"
   ]
  },
  {
   "cell_type": "code",
   "execution_count": 21,
   "metadata": {},
   "outputs": [
    {
     "name": "stdout",
     "output_type": "stream",
     "text": [
      "число уникальных значений:    119064  : число наблюдений :  119068\n"
     ]
    }
   ],
   "source": [
    "ut = data['date'].unique()\n",
    "print('число уникальных значений:   ',ut.shape[0],' : число наблюдений : ', data.shape[0])"
   ]
  },
  {
   "cell_type": "code",
   "execution_count": 22,
   "metadata": {},
   "outputs": [
    {
     "data": {
      "text/plain": [
       "2017-11-05 02:00:00    2\n",
       "2014-11-02 02:00:00    2\n",
       "2015-11-01 02:00:00    2\n",
       "2016-11-06 02:00:00    2\n",
       "2007-07-15 10:00:00    1\n",
       "2012-02-07 10:00:00    1\n",
       "Name: date, dtype: int64"
      ]
     },
     "execution_count": 22,
     "metadata": {},
     "output_type": "execute_result"
    }
   ],
   "source": [
    "count_data = data['date'].value_counts()\n",
    "count_data.head(6)"
   ]
  },
  {
   "cell_type": "markdown",
   "metadata": {},
   "source": [
    "Видно, что 4 года подряд в начале ноября вносили данные за день 2 раза. Это, скорее всего, переход на зимнее время и тогда, в марте-апреле должен быть пропуск. Избавимся от дублирования."
   ]
  },
  {
   "cell_type": "code",
   "execution_count": 23,
   "metadata": {},
   "outputs": [
    {
     "data": {
      "text/plain": [
       "2017-11-05 02:00:00    2\n",
       "2014-11-02 02:00:00    2\n",
       "2015-11-01 02:00:00    2\n",
       "2016-11-06 02:00:00    2\n",
       "Name: date, dtype: int64"
      ]
     },
     "execution_count": 23,
     "metadata": {},
     "output_type": "execute_result"
    }
   ],
   "source": [
    "count_data.iloc[:4]"
   ]
  },
  {
   "cell_type": "code",
   "execution_count": 24,
   "metadata": {},
   "outputs": [
    {
     "data": {
      "text/html": [
       "<div>\n",
       "<style scoped>\n",
       "    .dataframe tbody tr th:only-of-type {\n",
       "        vertical-align: middle;\n",
       "    }\n",
       "\n",
       "    .dataframe tbody tr th {\n",
       "        vertical-align: top;\n",
       "    }\n",
       "\n",
       "    .dataframe thead th {\n",
       "        text-align: right;\n",
       "    }\n",
       "</style>\n",
       "<table border=\"1\" class=\"dataframe\">\n",
       "  <thead>\n",
       "    <tr style=\"text-align: right;\">\n",
       "      <th></th>\n",
       "      <th>DUQ_MW</th>\n",
       "      <th>date</th>\n",
       "    </tr>\n",
       "    <tr>\n",
       "      <th>Datetime</th>\n",
       "      <th></th>\n",
       "      <th></th>\n",
       "    </tr>\n",
       "  </thead>\n",
       "  <tbody>\n",
       "    <tr>\n",
       "      <th>2017-11-05 02:00:00</th>\n",
       "      <td>1131</td>\n",
       "      <td>2017-11-05 02:00:00</td>\n",
       "    </tr>\n",
       "    <tr>\n",
       "      <th>2017-11-05 02:00:00</th>\n",
       "      <td>1105</td>\n",
       "      <td>2017-11-05 02:00:00</td>\n",
       "    </tr>\n",
       "    <tr>\n",
       "      <th>2014-11-02 02:00:00</th>\n",
       "      <td>1272</td>\n",
       "      <td>2014-11-02 02:00:00</td>\n",
       "    </tr>\n",
       "    <tr>\n",
       "      <th>2014-11-02 02:00:00</th>\n",
       "      <td>1240</td>\n",
       "      <td>2014-11-02 02:00:00</td>\n",
       "    </tr>\n",
       "    <tr>\n",
       "      <th>2015-11-01 02:00:00</th>\n",
       "      <td>1113</td>\n",
       "      <td>2015-11-01 02:00:00</td>\n",
       "    </tr>\n",
       "    <tr>\n",
       "      <th>2015-11-01 02:00:00</th>\n",
       "      <td>1138</td>\n",
       "      <td>2015-11-01 02:00:00</td>\n",
       "    </tr>\n",
       "    <tr>\n",
       "      <th>2016-11-06 02:00:00</th>\n",
       "      <td>1121</td>\n",
       "      <td>2016-11-06 02:00:00</td>\n",
       "    </tr>\n",
       "    <tr>\n",
       "      <th>2016-11-06 02:00:00</th>\n",
       "      <td>1107</td>\n",
       "      <td>2016-11-06 02:00:00</td>\n",
       "    </tr>\n",
       "  </tbody>\n",
       "</table>\n",
       "</div>"
      ],
      "text/plain": [
       "                     DUQ_MW                date\n",
       "Datetime                                       \n",
       "2017-11-05 02:00:00    1131 2017-11-05 02:00:00\n",
       "2017-11-05 02:00:00    1105 2017-11-05 02:00:00\n",
       "2014-11-02 02:00:00    1272 2014-11-02 02:00:00\n",
       "2014-11-02 02:00:00    1240 2014-11-02 02:00:00\n",
       "2015-11-01 02:00:00    1113 2015-11-01 02:00:00\n",
       "2015-11-01 02:00:00    1138 2015-11-01 02:00:00\n",
       "2016-11-06 02:00:00    1121 2016-11-06 02:00:00\n",
       "2016-11-06 02:00:00    1107 2016-11-06 02:00:00"
      ]
     },
     "execution_count": 24,
     "metadata": {},
     "output_type": "execute_result"
    }
   ],
   "source": [
    "data.loc[count_data.iloc[:4].index]"
   ]
  },
  {
   "cell_type": "code",
   "execution_count": 25,
   "metadata": {},
   "outputs": [],
   "source": [
    "df = data.loc[count_data.iloc[:4].index]"
   ]
  },
  {
   "cell_type": "code",
   "execution_count": 26,
   "metadata": {},
   "outputs": [],
   "source": [
    "df_ = df.groupby('date').mean()"
   ]
  },
  {
   "cell_type": "code",
   "execution_count": 27,
   "metadata": {},
   "outputs": [],
   "source": [
    "df_['date'] = df_.index"
   ]
  },
  {
   "cell_type": "code",
   "execution_count": 28,
   "metadata": {},
   "outputs": [],
   "source": [
    "data.drop(count_data.iloc[:4].index, inplace=True)"
   ]
  },
  {
   "cell_type": "code",
   "execution_count": 29,
   "metadata": {},
   "outputs": [
    {
     "data": {
      "text/html": [
       "<div>\n",
       "<style scoped>\n",
       "    .dataframe tbody tr th:only-of-type {\n",
       "        vertical-align: middle;\n",
       "    }\n",
       "\n",
       "    .dataframe tbody tr th {\n",
       "        vertical-align: top;\n",
       "    }\n",
       "\n",
       "    .dataframe thead th {\n",
       "        text-align: right;\n",
       "    }\n",
       "</style>\n",
       "<table border=\"1\" class=\"dataframe\">\n",
       "  <thead>\n",
       "    <tr style=\"text-align: right;\">\n",
       "      <th></th>\n",
       "      <th>DUQ_MW</th>\n",
       "      <th>date</th>\n",
       "    </tr>\n",
       "    <tr>\n",
       "      <th>Datetime</th>\n",
       "      <th></th>\n",
       "      <th></th>\n",
       "    </tr>\n",
       "  </thead>\n",
       "  <tbody>\n",
       "    <tr>\n",
       "      <th>2005-01-01 01:00:00</th>\n",
       "      <td>1364</td>\n",
       "      <td>2005-01-01 01:00:00</td>\n",
       "    </tr>\n",
       "    <tr>\n",
       "      <th>2005-01-01 02:00:00</th>\n",
       "      <td>1273</td>\n",
       "      <td>2005-01-01 02:00:00</td>\n",
       "    </tr>\n",
       "    <tr>\n",
       "      <th>2005-01-01 03:00:00</th>\n",
       "      <td>1218</td>\n",
       "      <td>2005-01-01 03:00:00</td>\n",
       "    </tr>\n",
       "    <tr>\n",
       "      <th>2005-01-01 04:00:00</th>\n",
       "      <td>1170</td>\n",
       "      <td>2005-01-01 04:00:00</td>\n",
       "    </tr>\n",
       "    <tr>\n",
       "      <th>2005-01-01 05:00:00</th>\n",
       "      <td>1166</td>\n",
       "      <td>2005-01-01 05:00:00</td>\n",
       "    </tr>\n",
       "    <tr>\n",
       "      <th>...</th>\n",
       "      <td>...</td>\n",
       "      <td>...</td>\n",
       "    </tr>\n",
       "    <tr>\n",
       "      <th>2018-08-02 20:00:00</th>\n",
       "      <td>1966</td>\n",
       "      <td>2018-08-02 20:00:00</td>\n",
       "    </tr>\n",
       "    <tr>\n",
       "      <th>2018-08-02 21:00:00</th>\n",
       "      <td>1944</td>\n",
       "      <td>2018-08-02 21:00:00</td>\n",
       "    </tr>\n",
       "    <tr>\n",
       "      <th>2018-08-02 22:00:00</th>\n",
       "      <td>1901</td>\n",
       "      <td>2018-08-02 22:00:00</td>\n",
       "    </tr>\n",
       "    <tr>\n",
       "      <th>2018-08-02 23:00:00</th>\n",
       "      <td>1789</td>\n",
       "      <td>2018-08-02 23:00:00</td>\n",
       "    </tr>\n",
       "    <tr>\n",
       "      <th>2018-08-03 00:00:00</th>\n",
       "      <td>1656</td>\n",
       "      <td>2018-08-03 00:00:00</td>\n",
       "    </tr>\n",
       "  </tbody>\n",
       "</table>\n",
       "<p>119060 rows × 2 columns</p>\n",
       "</div>"
      ],
      "text/plain": [
       "                     DUQ_MW                date\n",
       "Datetime                                       \n",
       "2005-01-01 01:00:00    1364 2005-01-01 01:00:00\n",
       "2005-01-01 02:00:00    1273 2005-01-01 02:00:00\n",
       "2005-01-01 03:00:00    1218 2005-01-01 03:00:00\n",
       "2005-01-01 04:00:00    1170 2005-01-01 04:00:00\n",
       "2005-01-01 05:00:00    1166 2005-01-01 05:00:00\n",
       "...                     ...                 ...\n",
       "2018-08-02 20:00:00    1966 2018-08-02 20:00:00\n",
       "2018-08-02 21:00:00    1944 2018-08-02 21:00:00\n",
       "2018-08-02 22:00:00    1901 2018-08-02 22:00:00\n",
       "2018-08-02 23:00:00    1789 2018-08-02 23:00:00\n",
       "2018-08-03 00:00:00    1656 2018-08-03 00:00:00\n",
       "\n",
       "[119060 rows x 2 columns]"
      ]
     },
     "execution_count": 29,
     "metadata": {},
     "output_type": "execute_result"
    }
   ],
   "source": [
    "data"
   ]
  },
  {
   "cell_type": "code",
   "execution_count": 30,
   "metadata": {},
   "outputs": [],
   "source": [
    "data = data.append(df_,sort = False)"
   ]
  },
  {
   "cell_type": "code",
   "execution_count": 31,
   "metadata": {},
   "outputs": [
    {
     "data": {
      "text/html": [
       "<div>\n",
       "<style scoped>\n",
       "    .dataframe tbody tr th:only-of-type {\n",
       "        vertical-align: middle;\n",
       "    }\n",
       "\n",
       "    .dataframe tbody tr th {\n",
       "        vertical-align: top;\n",
       "    }\n",
       "\n",
       "    .dataframe thead th {\n",
       "        text-align: right;\n",
       "    }\n",
       "</style>\n",
       "<table border=\"1\" class=\"dataframe\">\n",
       "  <thead>\n",
       "    <tr style=\"text-align: right;\">\n",
       "      <th></th>\n",
       "      <th>DUQ_MW</th>\n",
       "      <th>date</th>\n",
       "    </tr>\n",
       "  </thead>\n",
       "  <tbody>\n",
       "    <tr>\n",
       "      <th>2005-01-01 01:00:00</th>\n",
       "      <td>1364.0</td>\n",
       "      <td>2005-01-01 01:00:00</td>\n",
       "    </tr>\n",
       "    <tr>\n",
       "      <th>2005-01-01 02:00:00</th>\n",
       "      <td>1273.0</td>\n",
       "      <td>2005-01-01 02:00:00</td>\n",
       "    </tr>\n",
       "    <tr>\n",
       "      <th>2005-01-01 03:00:00</th>\n",
       "      <td>1218.0</td>\n",
       "      <td>2005-01-01 03:00:00</td>\n",
       "    </tr>\n",
       "    <tr>\n",
       "      <th>2005-01-01 04:00:00</th>\n",
       "      <td>1170.0</td>\n",
       "      <td>2005-01-01 04:00:00</td>\n",
       "    </tr>\n",
       "    <tr>\n",
       "      <th>2005-01-01 05:00:00</th>\n",
       "      <td>1166.0</td>\n",
       "      <td>2005-01-01 05:00:00</td>\n",
       "    </tr>\n",
       "    <tr>\n",
       "      <th>...</th>\n",
       "      <td>...</td>\n",
       "      <td>...</td>\n",
       "    </tr>\n",
       "    <tr>\n",
       "      <th>2018-08-03 00:00:00</th>\n",
       "      <td>1656.0</td>\n",
       "      <td>2018-08-03 00:00:00</td>\n",
       "    </tr>\n",
       "    <tr>\n",
       "      <th>2014-11-02 02:00:00</th>\n",
       "      <td>1256.0</td>\n",
       "      <td>2014-11-02 02:00:00</td>\n",
       "    </tr>\n",
       "    <tr>\n",
       "      <th>2015-11-01 02:00:00</th>\n",
       "      <td>1125.5</td>\n",
       "      <td>2015-11-01 02:00:00</td>\n",
       "    </tr>\n",
       "    <tr>\n",
       "      <th>2016-11-06 02:00:00</th>\n",
       "      <td>1114.0</td>\n",
       "      <td>2016-11-06 02:00:00</td>\n",
       "    </tr>\n",
       "    <tr>\n",
       "      <th>2017-11-05 02:00:00</th>\n",
       "      <td>1118.0</td>\n",
       "      <td>2017-11-05 02:00:00</td>\n",
       "    </tr>\n",
       "  </tbody>\n",
       "</table>\n",
       "<p>119064 rows × 2 columns</p>\n",
       "</div>"
      ],
      "text/plain": [
       "                     DUQ_MW                date\n",
       "2005-01-01 01:00:00  1364.0 2005-01-01 01:00:00\n",
       "2005-01-01 02:00:00  1273.0 2005-01-01 02:00:00\n",
       "2005-01-01 03:00:00  1218.0 2005-01-01 03:00:00\n",
       "2005-01-01 04:00:00  1170.0 2005-01-01 04:00:00\n",
       "2005-01-01 05:00:00  1166.0 2005-01-01 05:00:00\n",
       "...                     ...                 ...\n",
       "2018-08-03 00:00:00  1656.0 2018-08-03 00:00:00\n",
       "2014-11-02 02:00:00  1256.0 2014-11-02 02:00:00\n",
       "2015-11-01 02:00:00  1125.5 2015-11-01 02:00:00\n",
       "2016-11-06 02:00:00  1114.0 2016-11-06 02:00:00\n",
       "2017-11-05 02:00:00  1118.0 2017-11-05 02:00:00\n",
       "\n",
       "[119064 rows x 2 columns]"
      ]
     },
     "execution_count": 31,
     "metadata": {},
     "output_type": "execute_result"
    }
   ],
   "source": [
    "data"
   ]
  },
  {
   "cell_type": "code",
   "execution_count": 32,
   "metadata": {},
   "outputs": [
    {
     "data": {
      "text/plain": [
       "2010-07-31 10:00:00    1\n",
       "2017-03-11 00:00:00    1\n",
       "2015-01-02 20:00:00    1\n",
       "2006-12-27 21:00:00    1\n",
       "2011-07-22 21:00:00    1\n",
       "2016-02-14 21:00:00    1\n",
       "Name: date, dtype: int64"
      ]
     },
     "execution_count": 32,
     "metadata": {},
     "output_type": "execute_result"
    }
   ],
   "source": [
    "count_data = data['date'].value_counts()\n",
    "count_data.head(6)"
   ]
  },
  {
   "cell_type": "markdown",
   "metadata": {},
   "source": [
    "Теперь все значения уникальны"
   ]
  },
  {
   "cell_type": "code",
   "execution_count": 33,
   "metadata": {},
   "outputs": [
    {
     "name": "stdout",
     "output_type": "stream",
     "text": [
      "число уникальных значений:    119064  : число наблюдений :  119064\n"
     ]
    }
   ],
   "source": [
    "ut = data['date'].unique()\n",
    "print('число уникальных значений:   ',ut.shape[0],' : число наблюдений : ', data.shape[0])"
   ]
  },
  {
   "cell_type": "code",
   "execution_count": 34,
   "metadata": {},
   "outputs": [],
   "source": [
    "data = data.sort_index()"
   ]
  },
  {
   "cell_type": "markdown",
   "metadata": {},
   "source": [
    "### Поиск пропущенных значений"
   ]
  },
  {
   "cell_type": "markdown",
   "metadata": {},
   "source": [
    "Проверим март-апрель 2015 года"
   ]
  },
  {
   "cell_type": "code",
   "execution_count": 35,
   "metadata": {},
   "outputs": [
    {
     "data": {
      "image/png": "[encoded data removed]",
      "text/plain": [
       "<Figure size 1440x216 with 1 Axes>"
      ]
     },
     "metadata": {},
     "output_type": "display_data"
    }
   ],
   "source": [
    "day_H = data['2015-03-01 00:00:00':'2015-03-31 23:00:00'].index.day\n",
    "\n",
    "plt.figure(figsize=(20,3))\n",
    "plt.plot(day_H.value_counts().index, day_H.value_counts().values ,'o')\n",
    "\n",
    "plt.xlabel('номер дня')\n",
    "plt.ylabel('число измерений в дне')\n",
    "plt.title('число измерений в день')\n",
    "plt.show()"
   ]
  },
  {
   "cell_type": "markdown",
   "metadata": {},
   "source": [
    "Видим, что один из дней марта имеет меньше измерений, чем остальные. Определим номер этого дня используя подсчет числа измерений по дням и сравнение этой цифры с идеальным значением 24."
   ]
  },
  {
   "cell_type": "code",
   "execution_count": 36,
   "metadata": {},
   "outputs": [
    {
     "data": {
      "text/plain": [
       "8    23\n",
       "dtype: int64"
      ]
     },
     "execution_count": 36,
     "metadata": {},
     "output_type": "execute_result"
    }
   ],
   "source": [
    "Day_count = day_H.value_counts() \n",
    "Day_count[Day_count != 24]"
   ]
  },
  {
   "cell_type": "code",
   "execution_count": 37,
   "metadata": {},
   "outputs": [
    {
     "data": {
      "text/plain": [
       "DatetimeIndex(['2015-03-08 01:00:00', '2015-03-08 02:00:00',\n",
       "               '2015-03-08 04:00:00', '2015-03-08 05:00:00',\n",
       "               '2015-03-08 06:00:00'],\n",
       "              dtype='datetime64[ns]', freq=None)"
      ]
     },
     "execution_count": 37,
     "metadata": {},
     "output_type": "execute_result"
    }
   ],
   "source": [
    "data['2015-03-08 01:00:00':'2015-03-08 06:00:00'].index"
   ]
  },
  {
   "cell_type": "markdown",
   "metadata": {},
   "source": [
    "После 2-го часа сразу наступил 4-й"
   ]
  },
  {
   "cell_type": "code",
   "execution_count": 38,
   "metadata": {},
   "outputs": [
    {
     "data": {
      "image/png": "[encoded data removed]",
      "text/plain": [
       "<Figure size 1440x216 with 1 Axes>"
      ]
     },
     "metadata": {},
     "output_type": "display_data"
    }
   ],
   "source": [
    "plt.figure(figsize=(20,3))\n",
    "plt.plot(data['2015-03-07 21:00:00':'2015-03-8 23:00:00'].index,data['2015-03-07 21:00:00':'2015-03-08 23:00:00']['DUQ_MW'].values, 'o')\n",
    "plt.plot(data['2015-03-07 21:00:00':'2015-03-8 23:00:00'].index,data['2015-03-07 21:00:00':'2015-03-08 23:00:00']['DUQ_MW'].values, 'r')\n",
    "line_ = pd.to_datetime(pd.Series(['2015-03-08 03:00:00', '2015-03-08 03:00:00']))\n",
    "plt.plot(line_,np.array([1400, 1600]),'g')\n",
    "plt.xlabel('номер дня')\n",
    "plt.ylabel('Потребление , МВт')\n",
    "plt.title('потребление энергии 8 марта 2015')\n",
    "\n",
    "plt.show()"
   ]
  },
  {
   "cell_type": "code",
   "execution_count": 39,
   "metadata": {},
   "outputs": [
    {
     "data": {
      "text/plain": [
       "array([1709., 1676., 1598., 1499., 1452., 1411., 1378., 1367., 1406.,\n",
       "       1415., 1442., 1451., 1467., 1495., 1489., 1484., 1467., 1447.,\n",
       "       1451., 1450., 1461., 1489., 1577., 1620., 1563., 1495.])"
      ]
     },
     "execution_count": 39,
     "metadata": {},
     "output_type": "execute_result"
    }
   ],
   "source": [
    "data['2015-03-07 21:00:00':'2015-03-08 23:00:00']['DUQ_MW'].values"
   ]
  },
  {
   "cell_type": "markdown",
   "metadata": {},
   "source": [
    "Мы угадали одно пропущенное значение из множества возможных. Найдем все пропущенные индексы, исходя из общего количества индексов, находящихся между максимальным и минимальным"
   ]
  },
  {
   "cell_type": "markdown",
   "metadata": {},
   "source": [
    "### Найдем все пропущенные значения"
   ]
  },
  {
   "cell_type": "code",
   "execution_count": 40,
   "metadata": {},
   "outputs": [
    {
     "data": {
      "text/plain": [
       "(119064, 2)"
      ]
     },
     "execution_count": 40,
     "metadata": {},
     "output_type": "execute_result"
    }
   ],
   "source": [
    "data.shape"
   ]
  },
  {
   "cell_type": "code",
   "execution_count": 41,
   "metadata": {},
   "outputs": [
    {
     "data": {
      "text/plain": [
       "Timestamp('2005-01-01 01:00:00')"
      ]
     },
     "execution_count": 41,
     "metadata": {},
     "output_type": "execute_result"
    }
   ],
   "source": [
    "data.index[0]"
   ]
  },
  {
   "cell_type": "code",
   "execution_count": 42,
   "metadata": {},
   "outputs": [
    {
     "data": {
      "text/plain": [
       "Timestamp('2018-08-03 00:00:00')"
      ]
     },
     "execution_count": 42,
     "metadata": {},
     "output_type": "execute_result"
    }
   ],
   "source": [
    "data.index[-1]"
   ]
  },
  {
   "cell_type": "code",
   "execution_count": 43,
   "metadata": {},
   "outputs": [],
   "source": [
    "new_index = pd.date_range('2005-01-01 01:00:00', '2018-08-03 00:00:00', freq=\"H\")"
   ]
  },
  {
   "cell_type": "markdown",
   "metadata": {},
   "source": [
    "Получим все значения индекса, которые должны быть в промежутке между 2005-01-01 01:00:00 и 2018-08-03 00:00:00"
   ]
  },
  {
   "cell_type": "code",
   "execution_count": 44,
   "metadata": {},
   "outputs": [
    {
     "data": {
      "text/plain": [
       "DatetimeIndex(['2005-01-01 01:00:00', '2005-01-01 02:00:00',\n",
       "               '2005-01-01 03:00:00', '2005-01-01 04:00:00',\n",
       "               '2005-01-01 05:00:00', '2005-01-01 06:00:00',\n",
       "               '2005-01-01 07:00:00', '2005-01-01 08:00:00',\n",
       "               '2005-01-01 09:00:00', '2005-01-01 10:00:00',\n",
       "               ...\n",
       "               '2018-08-02 15:00:00', '2018-08-02 16:00:00',\n",
       "               '2018-08-02 17:00:00', '2018-08-02 18:00:00',\n",
       "               '2018-08-02 19:00:00', '2018-08-02 20:00:00',\n",
       "               '2018-08-02 21:00:00', '2018-08-02 22:00:00',\n",
       "               '2018-08-02 23:00:00', '2018-08-03 00:00:00'],\n",
       "              dtype='datetime64[ns]', length=119088, freq='H')"
      ]
     },
     "execution_count": 44,
     "metadata": {},
     "output_type": "execute_result"
    }
   ],
   "source": [
    "new_index"
   ]
  },
  {
   "cell_type": "code",
   "execution_count": 45,
   "metadata": {},
   "outputs": [
    {
     "name": "stdout",
     "output_type": "stream",
     "text": [
      "2005-04-03 03:00:00\n",
      "2005-10-30 02:00:00\n",
      "2006-04-02 03:00:00\n",
      "2006-10-29 02:00:00\n",
      "2007-03-11 03:00:00\n",
      "2007-11-04 02:00:00\n",
      "2008-03-09 03:00:00\n",
      "2008-11-02 02:00:00\n",
      "2009-03-08 03:00:00\n",
      "2009-11-01 02:00:00\n",
      "2010-03-14 03:00:00\n",
      "2010-11-07 02:00:00\n",
      "2010-12-10 00:00:00\n",
      "2011-03-13 03:00:00\n",
      "2011-11-06 02:00:00\n",
      "2012-03-11 03:00:00\n",
      "2012-11-04 02:00:00\n",
      "2013-03-10 03:00:00\n",
      "2013-11-03 02:00:00\n",
      "2014-03-09 03:00:00\n",
      "2015-03-08 03:00:00\n",
      "2016-03-13 03:00:00\n",
      "2017-03-12 03:00:00\n",
      "2018-03-11 03:00:00\n"
     ]
    }
   ],
   "source": [
    "for d in new_index:\n",
    "    if d not in data['date']:\n",
    "        print(d)"
   ]
  },
  {
   "cell_type": "code",
   "execution_count": 46,
   "metadata": {},
   "outputs": [],
   "source": [
    "missed_index = []"
   ]
  },
  {
   "cell_type": "code",
   "execution_count": 47,
   "metadata": {},
   "outputs": [],
   "source": [
    "for d in new_index:\n",
    "    if d not in data['date']:\n",
    "        missed_index.append(d)"
   ]
  },
  {
   "cell_type": "code",
   "execution_count": 48,
   "metadata": {},
   "outputs": [
    {
     "data": {
      "text/plain": [
       "24"
      ]
     },
     "execution_count": 48,
     "metadata": {},
     "output_type": "execute_result"
    }
   ],
   "source": [
    "len(missed_index)"
   ]
  },
  {
   "cell_type": "markdown",
   "metadata": {},
   "source": [
    "Итого, пропущено 24 индекса. Добавим их в data, а значения DUQ_MW возьмем как среднее арифметическое от соседних элементов"
   ]
  },
  {
   "cell_type": "code",
   "execution_count": 49,
   "metadata": {},
   "outputs": [],
   "source": [
    "new_data = pd.DataFrame(np.zeros(len(missed_index)), index = missed_index, columns = ['DUQ_MW'])"
   ]
  },
  {
   "cell_type": "code",
   "execution_count": 50,
   "metadata": {},
   "outputs": [],
   "source": [
    "from datetime import timedelta\n",
    "one_hour = timedelta(hours=1)"
   ]
  },
  {
   "cell_type": "code",
   "execution_count": 51,
   "metadata": {},
   "outputs": [
    {
     "data": {
      "text/html": [
       "<div>\n",
       "<style scoped>\n",
       "    .dataframe tbody tr th:only-of-type {\n",
       "        vertical-align: middle;\n",
       "    }\n",
       "\n",
       "    .dataframe tbody tr th {\n",
       "        vertical-align: top;\n",
       "    }\n",
       "\n",
       "    .dataframe thead th {\n",
       "        text-align: right;\n",
       "    }\n",
       "</style>\n",
       "<table border=\"1\" class=\"dataframe\">\n",
       "  <thead>\n",
       "    <tr style=\"text-align: right;\">\n",
       "      <th></th>\n",
       "      <th>DUQ_MW</th>\n",
       "    </tr>\n",
       "  </thead>\n",
       "  <tbody>\n",
       "    <tr>\n",
       "      <th>2005-04-03 03:00:00</th>\n",
       "      <td>0.0</td>\n",
       "    </tr>\n",
       "    <tr>\n",
       "      <th>2005-10-30 02:00:00</th>\n",
       "      <td>0.0</td>\n",
       "    </tr>\n",
       "    <tr>\n",
       "      <th>2006-04-02 03:00:00</th>\n",
       "      <td>0.0</td>\n",
       "    </tr>\n",
       "    <tr>\n",
       "      <th>2006-10-29 02:00:00</th>\n",
       "      <td>0.0</td>\n",
       "    </tr>\n",
       "    <tr>\n",
       "      <th>2007-03-11 03:00:00</th>\n",
       "      <td>0.0</td>\n",
       "    </tr>\n",
       "  </tbody>\n",
       "</table>\n",
       "</div>"
      ],
      "text/plain": [
       "                     DUQ_MW\n",
       "2005-04-03 03:00:00     0.0\n",
       "2005-10-30 02:00:00     0.0\n",
       "2006-04-02 03:00:00     0.0\n",
       "2006-10-29 02:00:00     0.0\n",
       "2007-03-11 03:00:00     0.0"
      ]
     },
     "execution_count": 51,
     "metadata": {},
     "output_type": "execute_result"
    }
   ],
   "source": [
    "new_data.head()"
   ]
  },
  {
   "cell_type": "code",
   "execution_count": 52,
   "metadata": {},
   "outputs": [],
   "source": [
    "new_data['index+hour'] = new_data.index + one_hour"
   ]
  },
  {
   "cell_type": "code",
   "execution_count": 53,
   "metadata": {},
   "outputs": [],
   "source": [
    "new_data['index-hour'] = new_data.index - one_hour"
   ]
  },
  {
   "cell_type": "code",
   "execution_count": 54,
   "metadata": {},
   "outputs": [
    {
     "data": {
      "text/html": [
       "<div>\n",
       "<style scoped>\n",
       "    .dataframe tbody tr th:only-of-type {\n",
       "        vertical-align: middle;\n",
       "    }\n",
       "\n",
       "    .dataframe tbody tr th {\n",
       "        vertical-align: top;\n",
       "    }\n",
       "\n",
       "    .dataframe thead th {\n",
       "        text-align: right;\n",
       "    }\n",
       "</style>\n",
       "<table border=\"1\" class=\"dataframe\">\n",
       "  <thead>\n",
       "    <tr style=\"text-align: right;\">\n",
       "      <th></th>\n",
       "      <th>DUQ_MW</th>\n",
       "      <th>index+hour</th>\n",
       "      <th>index-hour</th>\n",
       "    </tr>\n",
       "  </thead>\n",
       "  <tbody>\n",
       "    <tr>\n",
       "      <th>2005-04-03 03:00:00</th>\n",
       "      <td>0.0</td>\n",
       "      <td>2005-04-03 04:00:00</td>\n",
       "      <td>2005-04-03 02:00:00</td>\n",
       "    </tr>\n",
       "    <tr>\n",
       "      <th>2005-10-30 02:00:00</th>\n",
       "      <td>0.0</td>\n",
       "      <td>2005-10-30 03:00:00</td>\n",
       "      <td>2005-10-30 01:00:00</td>\n",
       "    </tr>\n",
       "    <tr>\n",
       "      <th>2006-04-02 03:00:00</th>\n",
       "      <td>0.0</td>\n",
       "      <td>2006-04-02 04:00:00</td>\n",
       "      <td>2006-04-02 02:00:00</td>\n",
       "    </tr>\n",
       "    <tr>\n",
       "      <th>2006-10-29 02:00:00</th>\n",
       "      <td>0.0</td>\n",
       "      <td>2006-10-29 03:00:00</td>\n",
       "      <td>2006-10-29 01:00:00</td>\n",
       "    </tr>\n",
       "    <tr>\n",
       "      <th>2007-03-11 03:00:00</th>\n",
       "      <td>0.0</td>\n",
       "      <td>2007-03-11 04:00:00</td>\n",
       "      <td>2007-03-11 02:00:00</td>\n",
       "    </tr>\n",
       "  </tbody>\n",
       "</table>\n",
       "</div>"
      ],
      "text/plain": [
       "                     DUQ_MW          index+hour          index-hour\n",
       "2005-04-03 03:00:00     0.0 2005-04-03 04:00:00 2005-04-03 02:00:00\n",
       "2005-10-30 02:00:00     0.0 2005-10-30 03:00:00 2005-10-30 01:00:00\n",
       "2006-04-02 03:00:00     0.0 2006-04-02 04:00:00 2006-04-02 02:00:00\n",
       "2006-10-29 02:00:00     0.0 2006-10-29 03:00:00 2006-10-29 01:00:00\n",
       "2007-03-11 03:00:00     0.0 2007-03-11 04:00:00 2007-03-11 02:00:00"
      ]
     },
     "execution_count": 54,
     "metadata": {},
     "output_type": "execute_result"
    }
   ],
   "source": [
    "new_data.head()"
   ]
  },
  {
   "cell_type": "code",
   "execution_count": 55,
   "metadata": {},
   "outputs": [
    {
     "data": {
      "text/plain": [
       "(24, 3)"
      ]
     },
     "execution_count": 55,
     "metadata": {},
     "output_type": "execute_result"
    }
   ],
   "source": [
    "new_data.shape"
   ]
  },
  {
   "cell_type": "code",
   "execution_count": 56,
   "metadata": {},
   "outputs": [
    {
     "data": {
      "text/plain": [
       "2005-04-03 02:00:00    1310.0\n",
       "2005-10-30 01:00:00    1338.0\n",
       "2006-04-02 02:00:00    1221.0\n",
       "2006-10-29 01:00:00    1411.0\n",
       "2007-03-11 02:00:00    1373.0\n",
       "2007-11-04 01:00:00    1309.0\n",
       "2008-03-09 02:00:00    1501.0\n",
       "2008-11-02 01:00:00    1263.0\n",
       "2009-03-08 02:00:00    1137.0\n",
       "2009-11-01 01:00:00    1255.0\n",
       "2010-03-14 02:00:00    1235.0\n",
       "2010-11-07 01:00:00    1417.0\n",
       "2010-12-09 23:00:00    1838.0\n",
       "2011-03-13 02:00:00    1301.0\n",
       "2011-11-06 01:00:00    1384.0\n",
       "2012-03-11 02:00:00    1389.0\n",
       "2012-11-04 01:00:00    1390.0\n",
       "2013-03-10 02:00:00    1347.0\n",
       "2013-11-03 01:00:00    1335.0\n",
       "2014-03-09 02:00:00    1429.0\n",
       "2015-03-08 02:00:00    1411.0\n",
       "2016-03-13 02:00:00    1124.0\n",
       "2017-03-12 02:00:00    1464.0\n",
       "2018-03-11 02:00:00    1346.0\n",
       "Name: DUQ_MW, dtype: float64"
      ]
     },
     "execution_count": 56,
     "metadata": {},
     "output_type": "execute_result"
    }
   ],
   "source": [
    "data.loc[new_data['index-hour']]['DUQ_MW']"
   ]
  },
  {
   "cell_type": "code",
   "execution_count": 57,
   "metadata": {},
   "outputs": [],
   "source": [
    "# Получим пропущенные значения как среднее арифметическое от соседних примеров"
   ]
  },
  {
   "cell_type": "code",
   "execution_count": 58,
   "metadata": {},
   "outputs": [],
   "source": [
    "new_data['DUQ_MW'] = (data.loc[new_data['index-hour']]['DUQ_MW'].values + \n",
    "                      data.loc[new_data['index+hour']]['DUQ_MW'].values)/2"
   ]
  },
  {
   "cell_type": "code",
   "execution_count": 59,
   "metadata": {},
   "outputs": [
    {
     "data": {
      "text/html": [
       "<div>\n",
       "<style scoped>\n",
       "    .dataframe tbody tr th:only-of-type {\n",
       "        vertical-align: middle;\n",
       "    }\n",
       "\n",
       "    .dataframe tbody tr th {\n",
       "        vertical-align: top;\n",
       "    }\n",
       "\n",
       "    .dataframe thead th {\n",
       "        text-align: right;\n",
       "    }\n",
       "</style>\n",
       "<table border=\"1\" class=\"dataframe\">\n",
       "  <thead>\n",
       "    <tr style=\"text-align: right;\">\n",
       "      <th></th>\n",
       "      <th>DUQ_MW</th>\n",
       "      <th>index+hour</th>\n",
       "      <th>index-hour</th>\n",
       "    </tr>\n",
       "  </thead>\n",
       "  <tbody>\n",
       "    <tr>\n",
       "      <th>2005-04-03 03:00:00</th>\n",
       "      <td>1286.5</td>\n",
       "      <td>2005-04-03 04:00:00</td>\n",
       "      <td>2005-04-03 02:00:00</td>\n",
       "    </tr>\n",
       "    <tr>\n",
       "      <th>2005-10-30 02:00:00</th>\n",
       "      <td>1299.5</td>\n",
       "      <td>2005-10-30 03:00:00</td>\n",
       "      <td>2005-10-30 01:00:00</td>\n",
       "    </tr>\n",
       "    <tr>\n",
       "      <th>2006-04-02 03:00:00</th>\n",
       "      <td>1201.5</td>\n",
       "      <td>2006-04-02 04:00:00</td>\n",
       "      <td>2006-04-02 02:00:00</td>\n",
       "    </tr>\n",
       "    <tr>\n",
       "      <th>2006-10-29 02:00:00</th>\n",
       "      <td>1355.5</td>\n",
       "      <td>2006-10-29 03:00:00</td>\n",
       "      <td>2006-10-29 01:00:00</td>\n",
       "    </tr>\n",
       "    <tr>\n",
       "      <th>2007-03-11 03:00:00</th>\n",
       "      <td>1385.5</td>\n",
       "      <td>2007-03-11 04:00:00</td>\n",
       "      <td>2007-03-11 02:00:00</td>\n",
       "    </tr>\n",
       "  </tbody>\n",
       "</table>\n",
       "</div>"
      ],
      "text/plain": [
       "                     DUQ_MW          index+hour          index-hour\n",
       "2005-04-03 03:00:00  1286.5 2005-04-03 04:00:00 2005-04-03 02:00:00\n",
       "2005-10-30 02:00:00  1299.5 2005-10-30 03:00:00 2005-10-30 01:00:00\n",
       "2006-04-02 03:00:00  1201.5 2006-04-02 04:00:00 2006-04-02 02:00:00\n",
       "2006-10-29 02:00:00  1355.5 2006-10-29 03:00:00 2006-10-29 01:00:00\n",
       "2007-03-11 03:00:00  1385.5 2007-03-11 04:00:00 2007-03-11 02:00:00"
      ]
     },
     "execution_count": 59,
     "metadata": {},
     "output_type": "execute_result"
    }
   ],
   "source": [
    "new_data.head()"
   ]
  },
  {
   "cell_type": "code",
   "execution_count": 60,
   "metadata": {},
   "outputs": [],
   "source": [
    "new_data['date'] = new_data.index"
   ]
  },
  {
   "cell_type": "code",
   "execution_count": 61,
   "metadata": {},
   "outputs": [],
   "source": [
    "new_data.drop(columns = ['index+hour', 'index-hour'], axis = 1, inplace = True)"
   ]
  },
  {
   "cell_type": "code",
   "execution_count": 62,
   "metadata": {},
   "outputs": [
    {
     "data": {
      "text/html": [
       "<div>\n",
       "<style scoped>\n",
       "    .dataframe tbody tr th:only-of-type {\n",
       "        vertical-align: middle;\n",
       "    }\n",
       "\n",
       "    .dataframe tbody tr th {\n",
       "        vertical-align: top;\n",
       "    }\n",
       "\n",
       "    .dataframe thead th {\n",
       "        text-align: right;\n",
       "    }\n",
       "</style>\n",
       "<table border=\"1\" class=\"dataframe\">\n",
       "  <thead>\n",
       "    <tr style=\"text-align: right;\">\n",
       "      <th></th>\n",
       "      <th>DUQ_MW</th>\n",
       "      <th>date</th>\n",
       "    </tr>\n",
       "  </thead>\n",
       "  <tbody>\n",
       "    <tr>\n",
       "      <th>2005-04-03 03:00:00</th>\n",
       "      <td>1286.5</td>\n",
       "      <td>2005-04-03 03:00:00</td>\n",
       "    </tr>\n",
       "    <tr>\n",
       "      <th>2005-10-30 02:00:00</th>\n",
       "      <td>1299.5</td>\n",
       "      <td>2005-10-30 02:00:00</td>\n",
       "    </tr>\n",
       "    <tr>\n",
       "      <th>2006-04-02 03:00:00</th>\n",
       "      <td>1201.5</td>\n",
       "      <td>2006-04-02 03:00:00</td>\n",
       "    </tr>\n",
       "    <tr>\n",
       "      <th>2006-10-29 02:00:00</th>\n",
       "      <td>1355.5</td>\n",
       "      <td>2006-10-29 02:00:00</td>\n",
       "    </tr>\n",
       "    <tr>\n",
       "      <th>2007-03-11 03:00:00</th>\n",
       "      <td>1385.5</td>\n",
       "      <td>2007-03-11 03:00:00</td>\n",
       "    </tr>\n",
       "  </tbody>\n",
       "</table>\n",
       "</div>"
      ],
      "text/plain": [
       "                     DUQ_MW                date\n",
       "2005-04-03 03:00:00  1286.5 2005-04-03 03:00:00\n",
       "2005-10-30 02:00:00  1299.5 2005-10-30 02:00:00\n",
       "2006-04-02 03:00:00  1201.5 2006-04-02 03:00:00\n",
       "2006-10-29 02:00:00  1355.5 2006-10-29 02:00:00\n",
       "2007-03-11 03:00:00  1385.5 2007-03-11 03:00:00"
      ]
     },
     "execution_count": 62,
     "metadata": {},
     "output_type": "execute_result"
    }
   ],
   "source": [
    "new_data.head()"
   ]
  },
  {
   "cell_type": "markdown",
   "metadata": {},
   "source": [
    "Добавим полученный датафрейм к исходному"
   ]
  },
  {
   "cell_type": "code",
   "execution_count": 63,
   "metadata": {},
   "outputs": [],
   "source": [
    "data = data.append(new_data,sort = False)"
   ]
  },
  {
   "cell_type": "code",
   "execution_count": 64,
   "metadata": {},
   "outputs": [
    {
     "data": {
      "text/plain": [
       "(119088, 2)"
      ]
     },
     "execution_count": 64,
     "metadata": {},
     "output_type": "execute_result"
    }
   ],
   "source": [
    "data.shape"
   ]
  },
  {
   "cell_type": "code",
   "execution_count": 65,
   "metadata": {},
   "outputs": [],
   "source": [
    "data = data.sort_index()"
   ]
  },
  {
   "cell_type": "markdown",
   "metadata": {},
   "source": [
    "Снова проверим на наличие дубликатов"
   ]
  },
  {
   "cell_type": "code",
   "execution_count": 66,
   "metadata": {},
   "outputs": [
    {
     "data": {
      "text/html": [
       "<div>\n",
       "<style scoped>\n",
       "    .dataframe tbody tr th:only-of-type {\n",
       "        vertical-align: middle;\n",
       "    }\n",
       "\n",
       "    .dataframe tbody tr th {\n",
       "        vertical-align: top;\n",
       "    }\n",
       "\n",
       "    .dataframe thead th {\n",
       "        text-align: right;\n",
       "    }\n",
       "</style>\n",
       "<table border=\"1\" class=\"dataframe\">\n",
       "  <thead>\n",
       "    <tr style=\"text-align: right;\">\n",
       "      <th></th>\n",
       "      <th>DUQ_MW</th>\n",
       "      <th>date</th>\n",
       "    </tr>\n",
       "  </thead>\n",
       "  <tbody>\n",
       "    <tr>\n",
       "      <th>2005-04-03 03:00:00</th>\n",
       "      <td>1286.5</td>\n",
       "      <td>2005-04-03 03:00:00</td>\n",
       "    </tr>\n",
       "    <tr>\n",
       "      <th>2005-10-30 02:00:00</th>\n",
       "      <td>1299.5</td>\n",
       "      <td>2005-10-30 02:00:00</td>\n",
       "    </tr>\n",
       "    <tr>\n",
       "      <th>2006-04-02 03:00:00</th>\n",
       "      <td>1201.5</td>\n",
       "      <td>2006-04-02 03:00:00</td>\n",
       "    </tr>\n",
       "    <tr>\n",
       "      <th>2006-10-29 02:00:00</th>\n",
       "      <td>1355.5</td>\n",
       "      <td>2006-10-29 02:00:00</td>\n",
       "    </tr>\n",
       "    <tr>\n",
       "      <th>2007-03-11 03:00:00</th>\n",
       "      <td>1385.5</td>\n",
       "      <td>2007-03-11 03:00:00</td>\n",
       "    </tr>\n",
       "    <tr>\n",
       "      <th>2007-11-04 02:00:00</th>\n",
       "      <td>1272.5</td>\n",
       "      <td>2007-11-04 02:00:00</td>\n",
       "    </tr>\n",
       "    <tr>\n",
       "      <th>2008-03-09 03:00:00</th>\n",
       "      <td>1491.0</td>\n",
       "      <td>2008-03-09 03:00:00</td>\n",
       "    </tr>\n",
       "    <tr>\n",
       "      <th>2008-11-02 02:00:00</th>\n",
       "      <td>1214.5</td>\n",
       "      <td>2008-11-02 02:00:00</td>\n",
       "    </tr>\n",
       "    <tr>\n",
       "      <th>2009-03-08 03:00:00</th>\n",
       "      <td>1127.0</td>\n",
       "      <td>2009-03-08 03:00:00</td>\n",
       "    </tr>\n",
       "    <tr>\n",
       "      <th>2009-11-01 02:00:00</th>\n",
       "      <td>1226.5</td>\n",
       "      <td>2009-11-01 02:00:00</td>\n",
       "    </tr>\n",
       "    <tr>\n",
       "      <th>2010-03-14 03:00:00</th>\n",
       "      <td>1255.5</td>\n",
       "      <td>2010-03-14 03:00:00</td>\n",
       "    </tr>\n",
       "    <tr>\n",
       "      <th>2010-11-07 02:00:00</th>\n",
       "      <td>1379.5</td>\n",
       "      <td>2010-11-07 02:00:00</td>\n",
       "    </tr>\n",
       "    <tr>\n",
       "      <th>2010-12-10 00:00:00</th>\n",
       "      <td>1732.5</td>\n",
       "      <td>2010-12-10 00:00:00</td>\n",
       "    </tr>\n",
       "    <tr>\n",
       "      <th>2011-03-13 03:00:00</th>\n",
       "      <td>1290.5</td>\n",
       "      <td>2011-03-13 03:00:00</td>\n",
       "    </tr>\n",
       "    <tr>\n",
       "      <th>2011-11-06 02:00:00</th>\n",
       "      <td>1347.0</td>\n",
       "      <td>2011-11-06 02:00:00</td>\n",
       "    </tr>\n",
       "    <tr>\n",
       "      <th>2012-03-11 03:00:00</th>\n",
       "      <td>1378.0</td>\n",
       "      <td>2012-03-11 03:00:00</td>\n",
       "    </tr>\n",
       "    <tr>\n",
       "      <th>2012-11-04 02:00:00</th>\n",
       "      <td>1357.5</td>\n",
       "      <td>2012-11-04 02:00:00</td>\n",
       "    </tr>\n",
       "    <tr>\n",
       "      <th>2013-03-10 03:00:00</th>\n",
       "      <td>1334.5</td>\n",
       "      <td>2013-03-10 03:00:00</td>\n",
       "    </tr>\n",
       "    <tr>\n",
       "      <th>2013-11-03 02:00:00</th>\n",
       "      <td>1300.5</td>\n",
       "      <td>2013-11-03 02:00:00</td>\n",
       "    </tr>\n",
       "    <tr>\n",
       "      <th>2014-03-09 03:00:00</th>\n",
       "      <td>1415.0</td>\n",
       "      <td>2014-03-09 03:00:00</td>\n",
       "    </tr>\n",
       "    <tr>\n",
       "      <th>2015-03-08 03:00:00</th>\n",
       "      <td>1394.5</td>\n",
       "      <td>2015-03-08 03:00:00</td>\n",
       "    </tr>\n",
       "    <tr>\n",
       "      <th>2016-03-13 03:00:00</th>\n",
       "      <td>1111.5</td>\n",
       "      <td>2016-03-13 03:00:00</td>\n",
       "    </tr>\n",
       "    <tr>\n",
       "      <th>2017-03-12 03:00:00</th>\n",
       "      <td>1454.0</td>\n",
       "      <td>2017-03-12 03:00:00</td>\n",
       "    </tr>\n",
       "    <tr>\n",
       "      <th>2018-03-11 03:00:00</th>\n",
       "      <td>1347.0</td>\n",
       "      <td>2018-03-11 03:00:00</td>\n",
       "    </tr>\n",
       "  </tbody>\n",
       "</table>\n",
       "</div>"
      ],
      "text/plain": [
       "                     DUQ_MW                date\n",
       "2005-04-03 03:00:00  1286.5 2005-04-03 03:00:00\n",
       "2005-10-30 02:00:00  1299.5 2005-10-30 02:00:00\n",
       "2006-04-02 03:00:00  1201.5 2006-04-02 03:00:00\n",
       "2006-10-29 02:00:00  1355.5 2006-10-29 02:00:00\n",
       "2007-03-11 03:00:00  1385.5 2007-03-11 03:00:00\n",
       "2007-11-04 02:00:00  1272.5 2007-11-04 02:00:00\n",
       "2008-03-09 03:00:00  1491.0 2008-03-09 03:00:00\n",
       "2008-11-02 02:00:00  1214.5 2008-11-02 02:00:00\n",
       "2009-03-08 03:00:00  1127.0 2009-03-08 03:00:00\n",
       "2009-11-01 02:00:00  1226.5 2009-11-01 02:00:00\n",
       "2010-03-14 03:00:00  1255.5 2010-03-14 03:00:00\n",
       "2010-11-07 02:00:00  1379.5 2010-11-07 02:00:00\n",
       "2010-12-10 00:00:00  1732.5 2010-12-10 00:00:00\n",
       "2011-03-13 03:00:00  1290.5 2011-03-13 03:00:00\n",
       "2011-11-06 02:00:00  1347.0 2011-11-06 02:00:00\n",
       "2012-03-11 03:00:00  1378.0 2012-03-11 03:00:00\n",
       "2012-11-04 02:00:00  1357.5 2012-11-04 02:00:00\n",
       "2013-03-10 03:00:00  1334.5 2013-03-10 03:00:00\n",
       "2013-11-03 02:00:00  1300.5 2013-11-03 02:00:00\n",
       "2014-03-09 03:00:00  1415.0 2014-03-09 03:00:00\n",
       "2015-03-08 03:00:00  1394.5 2015-03-08 03:00:00\n",
       "2016-03-13 03:00:00  1111.5 2016-03-13 03:00:00\n",
       "2017-03-12 03:00:00  1454.0 2017-03-12 03:00:00\n",
       "2018-03-11 03:00:00  1347.0 2018-03-11 03:00:00"
      ]
     },
     "execution_count": 66,
     "metadata": {},
     "output_type": "execute_result"
    }
   ],
   "source": [
    "new_data"
   ]
  },
  {
   "cell_type": "code",
   "execution_count": 67,
   "metadata": {},
   "outputs": [
    {
     "data": {
      "text/plain": [
       "True"
      ]
     },
     "execution_count": 67,
     "metadata": {},
     "output_type": "execute_result"
    }
   ],
   "source": [
    "data.shape[0] == data['date'].nunique()"
   ]
  },
  {
   "cell_type": "code",
   "execution_count": 68,
   "metadata": {},
   "outputs": [
    {
     "name": "stdout",
     "output_type": "stream",
     "text": [
      "число уникальных значений:    119088  : число наблюдений :  119088\n"
     ]
    }
   ],
   "source": [
    "ut = data['date'].unique()\n",
    "print('число уникальных значений:   ',ut.shape[0],' : число наблюдений : ', data.shape[0])"
   ]
  },
  {
   "cell_type": "code",
   "execution_count": 69,
   "metadata": {},
   "outputs": [
    {
     "data": {
      "text/plain": [
       "True"
      ]
     },
     "execution_count": 69,
     "metadata": {},
     "output_type": "execute_result"
    }
   ],
   "source": [
    "(data.index == data['date']).all()"
   ]
  },
  {
   "cell_type": "code",
   "execution_count": 70,
   "metadata": {},
   "outputs": [
    {
     "data": {
      "image/png": "[encoded data removed]",
      "text/plain": [
       "<Figure size 1440x216 with 1 Axes>"
      ]
     },
     "metadata": {},
     "output_type": "display_data"
    }
   ],
   "source": [
    "plt.figure(figsize=(20,3))\n",
    "plt.plot(data['2015-03-07 21:00:00':'2015-03-8 23:00:00'].index,data['2015-03-07 21:00:00':'2015-03-08 23:00:00']['DUQ_MW'].values, 'o')\n",
    "plt.plot(data['2015-03-07 21:00:00':'2015-03-8 23:00:00'].index,data['2015-03-07 21:00:00':'2015-03-08 23:00:00']['DUQ_MW'].values, 'r')\n",
    "line_ = pd.to_datetime(pd.Series(['2015-03-08 03:00:00', '2015-03-08 03:00:00']))\n",
    "plt.plot(line_,np.array([1400, 1600]),'g')\n",
    "plt.xlabel('номер дня')\n",
    "plt.ylabel('Потребление , МВт')\n",
    "plt.title('потребление энергии 8 марта 2015')\n",
    "\n",
    "plt.show()"
   ]
  },
  {
   "cell_type": "markdown",
   "metadata": {},
   "source": [
    "На графике видно, что отсутствующее значение заполнено. Проверим остальные"
   ]
  },
  {
   "cell_type": "code",
   "execution_count": 71,
   "metadata": {},
   "outputs": [],
   "source": [
    "z = data.loc[missed_index]"
   ]
  },
  {
   "cell_type": "code",
   "execution_count": 72,
   "metadata": {},
   "outputs": [],
   "source": [
    "z['date+H'] = z['date'] + one_hour"
   ]
  },
  {
   "cell_type": "code",
   "execution_count": 73,
   "metadata": {},
   "outputs": [],
   "source": [
    "z['date-H'] = z['date'] - one_hour"
   ]
  },
  {
   "cell_type": "code",
   "execution_count": 74,
   "metadata": {},
   "outputs": [
    {
     "data": {
      "text/plain": [
       "array([1310., 1338., 1221., 1411., 1373., 1309., 1501., 1263., 1137.,\n",
       "       1255., 1235., 1417., 1838., 1301., 1384., 1389., 1390., 1347.,\n",
       "       1335., 1429., 1411., 1124., 1464., 1346.])"
      ]
     },
     "execution_count": 74,
     "metadata": {},
     "output_type": "execute_result"
    }
   ],
   "source": [
    "data.loc[z['date-H']]['DUQ_MW'].values"
   ]
  },
  {
   "cell_type": "code",
   "execution_count": 75,
   "metadata": {},
   "outputs": [],
   "source": [
    "z['DUQ_MW+H'] = data.loc[z['date+H']]['DUQ_MW'].values"
   ]
  },
  {
   "cell_type": "code",
   "execution_count": 76,
   "metadata": {},
   "outputs": [],
   "source": [
    "z['DUQ_MW-H'] = data.loc[z['date-H']]['DUQ_MW'].values"
   ]
  },
  {
   "cell_type": "code",
   "execution_count": 77,
   "metadata": {},
   "outputs": [],
   "source": [
    "z['пров'] = (z['DUQ_MW+H'] + z['DUQ_MW-H'])/2"
   ]
  },
  {
   "cell_type": "code",
   "execution_count": 78,
   "metadata": {},
   "outputs": [
    {
     "data": {
      "text/html": [
       "<div>\n",
       "<style scoped>\n",
       "    .dataframe tbody tr th:only-of-type {\n",
       "        vertical-align: middle;\n",
       "    }\n",
       "\n",
       "    .dataframe tbody tr th {\n",
       "        vertical-align: top;\n",
       "    }\n",
       "\n",
       "    .dataframe thead th {\n",
       "        text-align: right;\n",
       "    }\n",
       "</style>\n",
       "<table border=\"1\" class=\"dataframe\">\n",
       "  <thead>\n",
       "    <tr style=\"text-align: right;\">\n",
       "      <th></th>\n",
       "      <th>DUQ_MW</th>\n",
       "      <th>date</th>\n",
       "      <th>date+H</th>\n",
       "      <th>date-H</th>\n",
       "      <th>DUQ_MW+H</th>\n",
       "      <th>DUQ_MW-H</th>\n",
       "      <th>пров</th>\n",
       "    </tr>\n",
       "  </thead>\n",
       "  <tbody>\n",
       "    <tr>\n",
       "      <th>2005-04-03 03:00:00</th>\n",
       "      <td>1286.5</td>\n",
       "      <td>2005-04-03 03:00:00</td>\n",
       "      <td>2005-04-03 04:00:00</td>\n",
       "      <td>2005-04-03 02:00:00</td>\n",
       "      <td>1263.0</td>\n",
       "      <td>1310.0</td>\n",
       "      <td>1286.5</td>\n",
       "    </tr>\n",
       "    <tr>\n",
       "      <th>2005-10-30 02:00:00</th>\n",
       "      <td>1299.5</td>\n",
       "      <td>2005-10-30 02:00:00</td>\n",
       "      <td>2005-10-30 03:00:00</td>\n",
       "      <td>2005-10-30 01:00:00</td>\n",
       "      <td>1261.0</td>\n",
       "      <td>1338.0</td>\n",
       "      <td>1299.5</td>\n",
       "    </tr>\n",
       "    <tr>\n",
       "      <th>2006-04-02 03:00:00</th>\n",
       "      <td>1201.5</td>\n",
       "      <td>2006-04-02 03:00:00</td>\n",
       "      <td>2006-04-02 04:00:00</td>\n",
       "      <td>2006-04-02 02:00:00</td>\n",
       "      <td>1182.0</td>\n",
       "      <td>1221.0</td>\n",
       "      <td>1201.5</td>\n",
       "    </tr>\n",
       "    <tr>\n",
       "      <th>2006-10-29 02:00:00</th>\n",
       "      <td>1355.5</td>\n",
       "      <td>2006-10-29 02:00:00</td>\n",
       "      <td>2006-10-29 03:00:00</td>\n",
       "      <td>2006-10-29 01:00:00</td>\n",
       "      <td>1300.0</td>\n",
       "      <td>1411.0</td>\n",
       "      <td>1355.5</td>\n",
       "    </tr>\n",
       "    <tr>\n",
       "      <th>2007-03-11 03:00:00</th>\n",
       "      <td>1385.5</td>\n",
       "      <td>2007-03-11 03:00:00</td>\n",
       "      <td>2007-03-11 04:00:00</td>\n",
       "      <td>2007-03-11 02:00:00</td>\n",
       "      <td>1398.0</td>\n",
       "      <td>1373.0</td>\n",
       "      <td>1385.5</td>\n",
       "    </tr>\n",
       "  </tbody>\n",
       "</table>\n",
       "</div>"
      ],
      "text/plain": [
       "                     DUQ_MW                date              date+H  \\\n",
       "2005-04-03 03:00:00  1286.5 2005-04-03 03:00:00 2005-04-03 04:00:00   \n",
       "2005-10-30 02:00:00  1299.5 2005-10-30 02:00:00 2005-10-30 03:00:00   \n",
       "2006-04-02 03:00:00  1201.5 2006-04-02 03:00:00 2006-04-02 04:00:00   \n",
       "2006-10-29 02:00:00  1355.5 2006-10-29 02:00:00 2006-10-29 03:00:00   \n",
       "2007-03-11 03:00:00  1385.5 2007-03-11 03:00:00 2007-03-11 04:00:00   \n",
       "\n",
       "                                 date-H  DUQ_MW+H  DUQ_MW-H    пров  \n",
       "2005-04-03 03:00:00 2005-04-03 02:00:00    1263.0    1310.0  1286.5  \n",
       "2005-10-30 02:00:00 2005-10-30 01:00:00    1261.0    1338.0  1299.5  \n",
       "2006-04-02 03:00:00 2006-04-02 02:00:00    1182.0    1221.0  1201.5  \n",
       "2006-10-29 02:00:00 2006-10-29 01:00:00    1300.0    1411.0  1355.5  \n",
       "2007-03-11 03:00:00 2007-03-11 02:00:00    1398.0    1373.0  1385.5  "
      ]
     },
     "execution_count": 78,
     "metadata": {},
     "output_type": "execute_result"
    }
   ],
   "source": [
    "z.head()"
   ]
  },
  {
   "cell_type": "code",
   "execution_count": 79,
   "metadata": {},
   "outputs": [
    {
     "data": {
      "image/png": "[encoded data removed]",
      "text/plain": [
       "<Figure size 1440x216 with 1 Axes>"
      ]
     },
     "metadata": {},
     "output_type": "display_data"
    }
   ],
   "source": [
    "plt.figure(figsize=(20,3))\n",
    "plt.plot(data['2012-03-01 01:00:00':'2015-03-17 03:00:00'].index,data['2012-03-01 01:00:00':'2015-03-17 03:00:00']['DUQ_MW'].values, '.')\n",
    "plt.plot(data['2012-03-01 01:00:00':'2015-03-17 03:00:00'].index,data['2012-03-01 01:00:00':'2015-03-17 03:00:00']['DUQ_MW'].values, 'r')\n",
    "\n",
    "plt.xlabel('номер дня')\n",
    "plt.ylabel('Потребление , МВт')\n",
    "plt.title('потребление энергии с 1  по 17 марта 2015 ')\n",
    "plt.show()"
   ]
  },
  {
   "cell_type": "code",
   "execution_count": 80,
   "metadata": {},
   "outputs": [
    {
     "data": {
      "image/png": "[encoded data removed]",
      "text/plain": [
       "<Figure size 1440x216 with 1 Axes>"
      ]
     },
     "metadata": {},
     "output_type": "display_data"
    }
   ],
   "source": [
    "plt.figure(figsize=(20,3))\n",
    "plt.plot(data['2015-03-01 01:00:00':'2015-03-17 03:00:00'].index,data['2015-03-01 01:00:00':'2015-03-17 03:00:00']['DUQ_MW'].values, '.')\n",
    "plt.plot(data['2015-03-01 01:00:00':'2015-03-17 03:00:00'].index,data['2015-03-01 01:00:00':'2015-03-17 03:00:00']['DUQ_MW'].values, 'r')\n",
    "\n",
    "plt.xlabel('номер дня')\n",
    "plt.ylabel('Потребление , МВт')\n",
    "plt.title('потребление энергии с 1  по 17 марта 2015 ')\n",
    "plt.show()"
   ]
  },
  {
   "cell_type": "markdown",
   "metadata": {},
   "source": [
    "Описание особенностей выборки: выбросов не обнаружено, пропуски были заполнены средними значениями соседних примеров. Зависимость имеет сезонные циклы и суточные циклы."
   ]
  },
  {
   "cell_type": "markdown",
   "metadata": {},
   "source": [
    "### 3. вариант 2) Сделайте ресемплинг COVID19 на интервалы 3 дня, неделя, 2 недели.Постройте график изменения среднего по выборке и среднего отклонения по выборке на группах для интервалах 3 дня, неделя, 2 недели (одна группа на интервале - одно значение std или mean, т.е. если было 28 деней, то 9 значений для ресемплинга на 3 дня, 4 значения при ресемплинге неделя и 2 значения при ресемплинге 2 недели )"
   ]
  },
  {
   "cell_type": "code",
   "execution_count": 81,
   "metadata": {},
   "outputs": [
    {
     "data": {
      "text/html": [
       "<div>\n",
       "<style scoped>\n",
       "    .dataframe tbody tr th:only-of-type {\n",
       "        vertical-align: middle;\n",
       "    }\n",
       "\n",
       "    .dataframe tbody tr th {\n",
       "        vertical-align: top;\n",
       "    }\n",
       "\n",
       "    .dataframe thead th {\n",
       "        text-align: right;\n",
       "    }\n",
       "</style>\n",
       "<table border=\"1\" class=\"dataframe\">\n",
       "  <thead>\n",
       "    <tr style=\"text-align: right;\">\n",
       "      <th></th>\n",
       "      <th>SNo</th>\n",
       "      <th>ObservationDate</th>\n",
       "      <th>Province/State</th>\n",
       "      <th>Country/Region</th>\n",
       "      <th>Last Update</th>\n",
       "      <th>Confirmed</th>\n",
       "      <th>Deaths</th>\n",
       "      <th>Recovered</th>\n",
       "    </tr>\n",
       "  </thead>\n",
       "  <tbody>\n",
       "    <tr>\n",
       "      <th>0</th>\n",
       "      <td>1</td>\n",
       "      <td>01/22/2020</td>\n",
       "      <td>Anhui</td>\n",
       "      <td>Mainland China</td>\n",
       "      <td>1/22/2020 17:00</td>\n",
       "      <td>1.0</td>\n",
       "      <td>0.0</td>\n",
       "      <td>0.0</td>\n",
       "    </tr>\n",
       "    <tr>\n",
       "      <th>1</th>\n",
       "      <td>2</td>\n",
       "      <td>01/22/2020</td>\n",
       "      <td>Beijing</td>\n",
       "      <td>Mainland China</td>\n",
       "      <td>1/22/2020 17:00</td>\n",
       "      <td>14.0</td>\n",
       "      <td>0.0</td>\n",
       "      <td>0.0</td>\n",
       "    </tr>\n",
       "    <tr>\n",
       "      <th>2</th>\n",
       "      <td>3</td>\n",
       "      <td>01/22/2020</td>\n",
       "      <td>Chongqing</td>\n",
       "      <td>Mainland China</td>\n",
       "      <td>1/22/2020 17:00</td>\n",
       "      <td>6.0</td>\n",
       "      <td>0.0</td>\n",
       "      <td>0.0</td>\n",
       "    </tr>\n",
       "    <tr>\n",
       "      <th>3</th>\n",
       "      <td>4</td>\n",
       "      <td>01/22/2020</td>\n",
       "      <td>Fujian</td>\n",
       "      <td>Mainland China</td>\n",
       "      <td>1/22/2020 17:00</td>\n",
       "      <td>1.0</td>\n",
       "      <td>0.0</td>\n",
       "      <td>0.0</td>\n",
       "    </tr>\n",
       "    <tr>\n",
       "      <th>4</th>\n",
       "      <td>5</td>\n",
       "      <td>01/22/2020</td>\n",
       "      <td>Gansu</td>\n",
       "      <td>Mainland China</td>\n",
       "      <td>1/22/2020 17:00</td>\n",
       "      <td>0.0</td>\n",
       "      <td>0.0</td>\n",
       "      <td>0.0</td>\n",
       "    </tr>\n",
       "    <tr>\n",
       "      <th>5</th>\n",
       "      <td>6</td>\n",
       "      <td>01/22/2020</td>\n",
       "      <td>Guangdong</td>\n",
       "      <td>Mainland China</td>\n",
       "      <td>1/22/2020 17:00</td>\n",
       "      <td>26.0</td>\n",
       "      <td>0.0</td>\n",
       "      <td>0.0</td>\n",
       "    </tr>\n",
       "    <tr>\n",
       "      <th>6</th>\n",
       "      <td>7</td>\n",
       "      <td>01/22/2020</td>\n",
       "      <td>Guangxi</td>\n",
       "      <td>Mainland China</td>\n",
       "      <td>1/22/2020 17:00</td>\n",
       "      <td>2.0</td>\n",
       "      <td>0.0</td>\n",
       "      <td>0.0</td>\n",
       "    </tr>\n",
       "    <tr>\n",
       "      <th>7</th>\n",
       "      <td>8</td>\n",
       "      <td>01/22/2020</td>\n",
       "      <td>Guizhou</td>\n",
       "      <td>Mainland China</td>\n",
       "      <td>1/22/2020 17:00</td>\n",
       "      <td>1.0</td>\n",
       "      <td>0.0</td>\n",
       "      <td>0.0</td>\n",
       "    </tr>\n",
       "    <tr>\n",
       "      <th>8</th>\n",
       "      <td>9</td>\n",
       "      <td>01/22/2020</td>\n",
       "      <td>Hainan</td>\n",
       "      <td>Mainland China</td>\n",
       "      <td>1/22/2020 17:00</td>\n",
       "      <td>4.0</td>\n",
       "      <td>0.0</td>\n",
       "      <td>0.0</td>\n",
       "    </tr>\n",
       "    <tr>\n",
       "      <th>9</th>\n",
       "      <td>10</td>\n",
       "      <td>01/22/2020</td>\n",
       "      <td>Hebei</td>\n",
       "      <td>Mainland China</td>\n",
       "      <td>1/22/2020 17:00</td>\n",
       "      <td>1.0</td>\n",
       "      <td>0.0</td>\n",
       "      <td>0.0</td>\n",
       "    </tr>\n",
       "    <tr>\n",
       "      <th>10</th>\n",
       "      <td>11</td>\n",
       "      <td>01/22/2020</td>\n",
       "      <td>Heilongjiang</td>\n",
       "      <td>Mainland China</td>\n",
       "      <td>1/22/2020 17:00</td>\n",
       "      <td>0.0</td>\n",
       "      <td>0.0</td>\n",
       "      <td>0.0</td>\n",
       "    </tr>\n",
       "    <tr>\n",
       "      <th>11</th>\n",
       "      <td>12</td>\n",
       "      <td>01/22/2020</td>\n",
       "      <td>Henan</td>\n",
       "      <td>Mainland China</td>\n",
       "      <td>1/22/2020 17:00</td>\n",
       "      <td>5.0</td>\n",
       "      <td>0.0</td>\n",
       "      <td>0.0</td>\n",
       "    </tr>\n",
       "    <tr>\n",
       "      <th>12</th>\n",
       "      <td>13</td>\n",
       "      <td>01/22/2020</td>\n",
       "      <td>Hong Kong</td>\n",
       "      <td>Hong Kong</td>\n",
       "      <td>1/22/2020 17:00</td>\n",
       "      <td>0.0</td>\n",
       "      <td>0.0</td>\n",
       "      <td>0.0</td>\n",
       "    </tr>\n",
       "    <tr>\n",
       "      <th>13</th>\n",
       "      <td>14</td>\n",
       "      <td>01/22/2020</td>\n",
       "      <td>Hubei</td>\n",
       "      <td>Mainland China</td>\n",
       "      <td>1/22/2020 17:00</td>\n",
       "      <td>444.0</td>\n",
       "      <td>17.0</td>\n",
       "      <td>28.0</td>\n",
       "    </tr>\n",
       "    <tr>\n",
       "      <th>14</th>\n",
       "      <td>15</td>\n",
       "      <td>01/22/2020</td>\n",
       "      <td>Hunan</td>\n",
       "      <td>Mainland China</td>\n",
       "      <td>1/22/2020 17:00</td>\n",
       "      <td>4.0</td>\n",
       "      <td>0.0</td>\n",
       "      <td>0.0</td>\n",
       "    </tr>\n",
       "    <tr>\n",
       "      <th>15</th>\n",
       "      <td>16</td>\n",
       "      <td>01/22/2020</td>\n",
       "      <td>Inner Mongolia</td>\n",
       "      <td>Mainland China</td>\n",
       "      <td>1/22/2020 17:00</td>\n",
       "      <td>0.0</td>\n",
       "      <td>0.0</td>\n",
       "      <td>0.0</td>\n",
       "    </tr>\n",
       "    <tr>\n",
       "      <th>16</th>\n",
       "      <td>17</td>\n",
       "      <td>01/22/2020</td>\n",
       "      <td>Jiangsu</td>\n",
       "      <td>Mainland China</td>\n",
       "      <td>1/22/2020 17:00</td>\n",
       "      <td>1.0</td>\n",
       "      <td>0.0</td>\n",
       "      <td>0.0</td>\n",
       "    </tr>\n",
       "    <tr>\n",
       "      <th>17</th>\n",
       "      <td>18</td>\n",
       "      <td>01/22/2020</td>\n",
       "      <td>Jiangxi</td>\n",
       "      <td>Mainland China</td>\n",
       "      <td>1/22/2020 17:00</td>\n",
       "      <td>2.0</td>\n",
       "      <td>0.0</td>\n",
       "      <td>0.0</td>\n",
       "    </tr>\n",
       "    <tr>\n",
       "      <th>18</th>\n",
       "      <td>19</td>\n",
       "      <td>01/22/2020</td>\n",
       "      <td>Jilin</td>\n",
       "      <td>Mainland China</td>\n",
       "      <td>1/22/2020 17:00</td>\n",
       "      <td>0.0</td>\n",
       "      <td>0.0</td>\n",
       "      <td>0.0</td>\n",
       "    </tr>\n",
       "    <tr>\n",
       "      <th>19</th>\n",
       "      <td>20</td>\n",
       "      <td>01/22/2020</td>\n",
       "      <td>Liaoning</td>\n",
       "      <td>Mainland China</td>\n",
       "      <td>1/22/2020 17:00</td>\n",
       "      <td>2.0</td>\n",
       "      <td>0.0</td>\n",
       "      <td>0.0</td>\n",
       "    </tr>\n",
       "  </tbody>\n",
       "</table>\n",
       "</div>"
      ],
      "text/plain": [
       "    SNo ObservationDate  Province/State  Country/Region      Last Update  \\\n",
       "0     1      01/22/2020           Anhui  Mainland China  1/22/2020 17:00   \n",
       "1     2      01/22/2020         Beijing  Mainland China  1/22/2020 17:00   \n",
       "2     3      01/22/2020       Chongqing  Mainland China  1/22/2020 17:00   \n",
       "3     4      01/22/2020          Fujian  Mainland China  1/22/2020 17:00   \n",
       "4     5      01/22/2020           Gansu  Mainland China  1/22/2020 17:00   \n",
       "5     6      01/22/2020       Guangdong  Mainland China  1/22/2020 17:00   \n",
       "6     7      01/22/2020         Guangxi  Mainland China  1/22/2020 17:00   \n",
       "7     8      01/22/2020         Guizhou  Mainland China  1/22/2020 17:00   \n",
       "8     9      01/22/2020          Hainan  Mainland China  1/22/2020 17:00   \n",
       "9    10      01/22/2020           Hebei  Mainland China  1/22/2020 17:00   \n",
       "10   11      01/22/2020    Heilongjiang  Mainland China  1/22/2020 17:00   \n",
       "11   12      01/22/2020           Henan  Mainland China  1/22/2020 17:00   \n",
       "12   13      01/22/2020       Hong Kong       Hong Kong  1/22/2020 17:00   \n",
       "13   14      01/22/2020           Hubei  Mainland China  1/22/2020 17:00   \n",
       "14   15      01/22/2020           Hunan  Mainland China  1/22/2020 17:00   \n",
       "15   16      01/22/2020  Inner Mongolia  Mainland China  1/22/2020 17:00   \n",
       "16   17      01/22/2020         Jiangsu  Mainland China  1/22/2020 17:00   \n",
       "17   18      01/22/2020         Jiangxi  Mainland China  1/22/2020 17:00   \n",
       "18   19      01/22/2020           Jilin  Mainland China  1/22/2020 17:00   \n",
       "19   20      01/22/2020        Liaoning  Mainland China  1/22/2020 17:00   \n",
       "\n",
       "    Confirmed  Deaths  Recovered  \n",
       "0         1.0     0.0        0.0  \n",
       "1        14.0     0.0        0.0  \n",
       "2         6.0     0.0        0.0  \n",
       "3         1.0     0.0        0.0  \n",
       "4         0.0     0.0        0.0  \n",
       "5        26.0     0.0        0.0  \n",
       "6         2.0     0.0        0.0  \n",
       "7         1.0     0.0        0.0  \n",
       "8         4.0     0.0        0.0  \n",
       "9         1.0     0.0        0.0  \n",
       "10        0.0     0.0        0.0  \n",
       "11        5.0     0.0        0.0  \n",
       "12        0.0     0.0        0.0  \n",
       "13      444.0    17.0       28.0  \n",
       "14        4.0     0.0        0.0  \n",
       "15        0.0     0.0        0.0  \n",
       "16        1.0     0.0        0.0  \n",
       "17        2.0     0.0        0.0  \n",
       "18        0.0     0.0        0.0  \n",
       "19        2.0     0.0        0.0  "
      ]
     },
     "execution_count": 81,
     "metadata": {},
     "output_type": "execute_result"
    }
   ],
   "source": [
    "COVID = pd.read_csv('covid_19_data_1.csv')\n",
    "COVID.head(20)"
   ]
  },
  {
   "cell_type": "code",
   "execution_count": 82,
   "metadata": {},
   "outputs": [
    {
     "data": {
      "text/plain": [
       "(13850, 8)"
      ]
     },
     "execution_count": 82,
     "metadata": {},
     "output_type": "execute_result"
    }
   ],
   "source": [
    "COVID.shape"
   ]
  },
  {
   "cell_type": "code",
   "execution_count": 83,
   "metadata": {},
   "outputs": [],
   "source": [
    "COVID['Data']= pd.to_datetime(COVID['ObservationDate'])"
   ]
  },
  {
   "cell_type": "code",
   "execution_count": 84,
   "metadata": {},
   "outputs": [],
   "source": [
    "COVID_Italy = COVID.loc[COVID['Country/Region'] == 'Italy']"
   ]
  },
  {
   "cell_type": "code",
   "execution_count": 85,
   "metadata": {},
   "outputs": [],
   "source": [
    "COVID_Italy = COVID_Italy.set_index(COVID_Italy['Data'])"
   ]
  },
  {
   "cell_type": "code",
   "execution_count": 86,
   "metadata": {},
   "outputs": [],
   "source": [
    "COVID_Italy.drop(columns = ['SNo', 'ObservationDate', 'Province/State', 'Country/Region', 'Data', 'Last Update'], inplace = True)"
   ]
  },
  {
   "cell_type": "code",
   "execution_count": 87,
   "metadata": {},
   "outputs": [
    {
     "data": {
      "text/html": [
       "<div>\n",
       "<style scoped>\n",
       "    .dataframe tbody tr th:only-of-type {\n",
       "        vertical-align: middle;\n",
       "    }\n",
       "\n",
       "    .dataframe tbody tr th {\n",
       "        vertical-align: top;\n",
       "    }\n",
       "\n",
       "    .dataframe thead th {\n",
       "        text-align: right;\n",
       "    }\n",
       "</style>\n",
       "<table border=\"1\" class=\"dataframe\">\n",
       "  <thead>\n",
       "    <tr style=\"text-align: right;\">\n",
       "      <th></th>\n",
       "      <th>Confirmed</th>\n",
       "      <th>Deaths</th>\n",
       "      <th>Recovered</th>\n",
       "    </tr>\n",
       "    <tr>\n",
       "      <th>Data</th>\n",
       "      <th></th>\n",
       "      <th></th>\n",
       "      <th></th>\n",
       "    </tr>\n",
       "  </thead>\n",
       "  <tbody>\n",
       "    <tr>\n",
       "      <th>2020-01-31</th>\n",
       "      <td>2.0</td>\n",
       "      <td>0.0</td>\n",
       "      <td>0.0</td>\n",
       "    </tr>\n",
       "    <tr>\n",
       "      <th>2020-02-01</th>\n",
       "      <td>2.0</td>\n",
       "      <td>0.0</td>\n",
       "      <td>0.0</td>\n",
       "    </tr>\n",
       "    <tr>\n",
       "      <th>2020-02-02</th>\n",
       "      <td>2.0</td>\n",
       "      <td>0.0</td>\n",
       "      <td>0.0</td>\n",
       "    </tr>\n",
       "    <tr>\n",
       "      <th>2020-02-03</th>\n",
       "      <td>2.0</td>\n",
       "      <td>0.0</td>\n",
       "      <td>0.0</td>\n",
       "    </tr>\n",
       "    <tr>\n",
       "      <th>2020-02-04</th>\n",
       "      <td>2.0</td>\n",
       "      <td>0.0</td>\n",
       "      <td>0.0</td>\n",
       "    </tr>\n",
       "    <tr>\n",
       "      <th>...</th>\n",
       "      <td>...</td>\n",
       "      <td>...</td>\n",
       "      <td>...</td>\n",
       "    </tr>\n",
       "    <tr>\n",
       "      <th>2020-04-06</th>\n",
       "      <td>132547.0</td>\n",
       "      <td>16523.0</td>\n",
       "      <td>22837.0</td>\n",
       "    </tr>\n",
       "    <tr>\n",
       "      <th>2020-04-07</th>\n",
       "      <td>135586.0</td>\n",
       "      <td>17127.0</td>\n",
       "      <td>24392.0</td>\n",
       "    </tr>\n",
       "    <tr>\n",
       "      <th>2020-04-08</th>\n",
       "      <td>139422.0</td>\n",
       "      <td>17669.0</td>\n",
       "      <td>26491.0</td>\n",
       "    </tr>\n",
       "    <tr>\n",
       "      <th>2020-04-09</th>\n",
       "      <td>143626.0</td>\n",
       "      <td>18279.0</td>\n",
       "      <td>28470.0</td>\n",
       "    </tr>\n",
       "    <tr>\n",
       "      <th>2020-04-10</th>\n",
       "      <td>147577.0</td>\n",
       "      <td>18849.0</td>\n",
       "      <td>30455.0</td>\n",
       "    </tr>\n",
       "  </tbody>\n",
       "</table>\n",
       "<p>71 rows × 3 columns</p>\n",
       "</div>"
      ],
      "text/plain": [
       "            Confirmed   Deaths  Recovered\n",
       "Data                                     \n",
       "2020-01-31        2.0      0.0        0.0\n",
       "2020-02-01        2.0      0.0        0.0\n",
       "2020-02-02        2.0      0.0        0.0\n",
       "2020-02-03        2.0      0.0        0.0\n",
       "2020-02-04        2.0      0.0        0.0\n",
       "...               ...      ...        ...\n",
       "2020-04-06   132547.0  16523.0    22837.0\n",
       "2020-04-07   135586.0  17127.0    24392.0\n",
       "2020-04-08   139422.0  17669.0    26491.0\n",
       "2020-04-09   143626.0  18279.0    28470.0\n",
       "2020-04-10   147577.0  18849.0    30455.0\n",
       "\n",
       "[71 rows x 3 columns]"
      ]
     },
     "execution_count": 87,
     "metadata": {},
     "output_type": "execute_result"
    }
   ],
   "source": [
    "COVID_Italy"
   ]
  },
  {
   "cell_type": "code",
   "execution_count": 88,
   "metadata": {},
   "outputs": [],
   "source": [
    "COVID_Italy.sort_index(inplace=True)"
   ]
  },
  {
   "cell_type": "code",
   "execution_count": 89,
   "metadata": {},
   "outputs": [
    {
     "data": {
      "text/plain": [
       "DatetimeIndex(['2020-01-31', '2020-02-01', '2020-02-02', '2020-02-03',\n",
       "               '2020-02-04', '2020-02-05', '2020-02-06', '2020-02-07',\n",
       "               '2020-02-08', '2020-02-09', '2020-02-10', '2020-02-11',\n",
       "               '2020-02-12', '2020-02-13', '2020-02-14', '2020-02-15',\n",
       "               '2020-02-16', '2020-02-17', '2020-02-18', '2020-02-19',\n",
       "               '2020-02-20', '2020-02-21', '2020-02-22', '2020-02-23',\n",
       "               '2020-02-24', '2020-02-25', '2020-02-26', '2020-02-27',\n",
       "               '2020-02-28', '2020-02-29', '2020-03-01', '2020-03-02',\n",
       "               '2020-03-03', '2020-03-04', '2020-03-05', '2020-03-06',\n",
       "               '2020-03-07', '2020-03-08', '2020-03-09', '2020-03-10',\n",
       "               '2020-03-11', '2020-03-12', '2020-03-13', '2020-03-14',\n",
       "               '2020-03-15', '2020-03-16', '2020-03-17', '2020-03-18',\n",
       "               '2020-03-19', '2020-03-20', '2020-03-21', '2020-03-22',\n",
       "               '2020-03-23', '2020-03-24', '2020-03-25', '2020-03-26',\n",
       "               '2020-03-27', '2020-03-28', '2020-03-29', '2020-03-30',\n",
       "               '2020-03-31', '2020-04-01', '2020-04-02', '2020-04-03',\n",
       "               '2020-04-04', '2020-04-05', '2020-04-06', '2020-04-07',\n",
       "               '2020-04-08', '2020-04-09', '2020-04-10'],\n",
       "              dtype='datetime64[ns]', name='Data', freq=None)"
      ]
     },
     "execution_count": 89,
     "metadata": {},
     "output_type": "execute_result"
    }
   ],
   "source": [
    "COVID_Italy.index"
   ]
  },
  {
   "cell_type": "code",
   "execution_count": 90,
   "metadata": {},
   "outputs": [
    {
     "data": {
      "text/plain": [
       "Text(0, 0.5, '3 Days std')"
      ]
     },
     "execution_count": 90,
     "metadata": {},
     "output_type": "execute_result"
    },
    {
     "data": {
      "image/png": "[encoded data removed]",
      "text/plain": [
       "<Figure size 576x396 with 1 Axes>"
      ]
     },
     "metadata": {},
     "output_type": "display_data"
    }
   ],
   "source": [
    "COVID_Italy.resample(\"3D\").std().plot()\n",
    "plt.ylabel(\"3 Days std\")"
   ]
  },
  {
   "cell_type": "code",
   "execution_count": 91,
   "metadata": {},
   "outputs": [
    {
     "data": {
      "text/plain": [
       "Text(0, 0.5, '3 Days Mean')"
      ]
     },
     "execution_count": 91,
     "metadata": {},
     "output_type": "execute_result"
    },
    {
     "data": {
      "image/png": "[encoded data removed]",
      "text/plain": [
       "<Figure size 576x396 with 1 Axes>"
      ]
     },
     "metadata": {},
     "output_type": "display_data"
    }
   ],
   "source": [
    "COVID_Italy.resample(\"3D\").mean().plot()\n",
    "plt.ylabel(\"3 Days Mean\")"
   ]
  },
  {
   "cell_type": "code",
   "execution_count": 92,
   "metadata": {},
   "outputs": [
    {
     "data": {
      "text/plain": [
       "Text(0, 0.5, 'Week std')"
      ]
     },
     "execution_count": 92,
     "metadata": {},
     "output_type": "execute_result"
    },
    {
     "data": {
      "image/png": "[encoded data removed]",
      "text/plain": [
       "<Figure size 576x396 with 1 Axes>"
      ]
     },
     "metadata": {},
     "output_type": "display_data"
    }
   ],
   "source": [
    "COVID_Italy.resample(\"W\").std().plot()\n",
    "plt.ylabel(\"Week std\")"
   ]
  },
  {
   "cell_type": "code",
   "execution_count": 93,
   "metadata": {},
   "outputs": [
    {
     "data": {
      "text/plain": [
       "Text(0, 0.5, 'Week Mean')"
      ]
     },
     "execution_count": 93,
     "metadata": {},
     "output_type": "execute_result"
    },
    {
     "data": {
      "image/png": "[encoded data removed]",
      "text/plain": [
       "<Figure size 576x396 with 1 Axes>"
      ]
     },
     "metadata": {},
     "output_type": "display_data"
    }
   ],
   "source": [
    "COVID_Italy.resample(\"W\").mean().plot()\n",
    "plt.ylabel(\"Week Mean\")"
   ]
  },
  {
   "cell_type": "code",
   "execution_count": 94,
   "metadata": {},
   "outputs": [
    {
     "data": {
      "text/plain": [
       "Text(0, 0.5, 'Two Week std')"
      ]
     },
     "execution_count": 94,
     "metadata": {},
     "output_type": "execute_result"
    },
    {
     "data": {
      "image/png": "[encoded data removed]",
      "text/plain": [
       "<Figure size 576x396 with 1 Axes>"
      ]
     },
     "metadata": {},
     "output_type": "display_data"
    }
   ],
   "source": [
    "COVID_Italy.resample(\"2W\").std().plot()\n",
    "plt.ylabel(\"Two Week std\")"
   ]
  },
  {
   "cell_type": "code",
   "execution_count": 97,
   "metadata": {},
   "outputs": [
    {
     "data": {
      "text/plain": [
       "Text(0, 0.5, 'Two Week Mean')"
      ]
     },
     "execution_count": 97,
     "metadata": {},
     "output_type": "execute_result"
    },
    {
     "data": {
      "image/png": "[encoded data removed]",
      "text/plain": [
       "<Figure size 576x396 with 1 Axes>"
      ]
     },
     "metadata": {},
     "output_type": "display_data"
    }
   ],
   "source": [
    "COVID_Italy.resample(\"2W\").mean().plot()\n",
    "plt.ylabel(\"Two Week Mean\")"
   ]
  },
  {
   "cell_type": "markdown",
   "metadata": {},
   "source": [
    "### 4. Сделайте вывод о том, как изменилось поведение данных по заболеваемости на разных графиках."
   ]
  },
  {
   "cell_type": "markdown",
   "metadata": {},
   "source": [
    "Значения std становятся больше с увеличением интервалов при ресемплинге. Значения mean практически не изменяются. В обоих случаях снижается уровень детализации."
   ]
  }
 ],
 "metadata": {
  "kernelspec": {
   "display_name": "Python 3",
   "language": "python",
   "name": "python3"
  },
  "language_info": {
   "codemirror_mode": {
    "name": "ipython",
    "version": 3
   },
   "file_extension": ".py",
   "mimetype": "text/x-python",
   "name": "python",
   "nbconvert_exporter": "python",
   "pygments_lexer": "ipython3",
   "version": "3.7.3"
  }
 },
 "nbformat": 4,
 "nbformat_minor": 2
}
