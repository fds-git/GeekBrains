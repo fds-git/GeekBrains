{
 "cells": [
  {
   "cell_type": "markdown",
   "metadata": {},
   "source": [
    "## Домашнее задание"
   ]
  },
  {
   "cell_type": "markdown",
   "metadata": {},
   "source": [
    "### 1. Прочитайте базу my_BRENT2019.csv и перейдите к представлению ряда первыми разностями"
   ]
  },
  {
   "cell_type": "code",
   "execution_count": 1,
   "metadata": {},
   "outputs": [],
   "source": [
    "%matplotlib inline\n",
    "import matplotlib.pyplot as plt\n",
    "\n",
    "import numpy as np\n",
    "import pandas as pd \n",
    "import seaborn as sns\n",
    "\n",
    "from sklearn.metrics import mean_squared_error\n",
    "import os\n",
    "\n",
    "import statsmodels.api as sm\n",
    "from sklearn.metrics import mean_squared_error\n",
    "\n",
    "import warnings\n",
    "warnings.filterwarnings(\"ignore\")"
   ]
  },
  {
   "cell_type": "code",
   "execution_count": 2,
   "metadata": {},
   "outputs": [
    {
     "data": {
      "text/html": [
       "<div>\n",
       "<style scoped>\n",
       "    .dataframe tbody tr th:only-of-type {\n",
       "        vertical-align: middle;\n",
       "    }\n",
       "\n",
       "    .dataframe tbody tr th {\n",
       "        vertical-align: top;\n",
       "    }\n",
       "\n",
       "    .dataframe thead th {\n",
       "        text-align: right;\n",
       "    }\n",
       "</style>\n",
       "<table border=\"1\" class=\"dataframe\">\n",
       "  <thead>\n",
       "    <tr style=\"text-align: right;\">\n",
       "      <th></th>\n",
       "      <th>Значение</th>\n",
       "      <th>year</th>\n",
       "      <th>month</th>\n",
       "      <th>dayofmonth</th>\n",
       "      <th>quarter</th>\n",
       "      <th>dayofyear</th>\n",
       "      <th>weekofyear</th>\n",
       "      <th>dayofweek</th>\n",
       "      <th>is_holiday</th>\n",
       "      <th>is_prev_holiday</th>\n",
       "      <th>is_next_holiday</th>\n",
       "    </tr>\n",
       "    <tr>\n",
       "      <th>Дата</th>\n",
       "      <th></th>\n",
       "      <th></th>\n",
       "      <th></th>\n",
       "      <th></th>\n",
       "      <th></th>\n",
       "      <th></th>\n",
       "      <th></th>\n",
       "      <th></th>\n",
       "      <th></th>\n",
       "      <th></th>\n",
       "      <th></th>\n",
       "    </tr>\n",
       "  </thead>\n",
       "  <tbody>\n",
       "    <tr>\n",
       "      <th>2010-09-01</th>\n",
       "      <td>76.37</td>\n",
       "      <td>2010</td>\n",
       "      <td>9</td>\n",
       "      <td>1</td>\n",
       "      <td>3</td>\n",
       "      <td>244</td>\n",
       "      <td>35</td>\n",
       "      <td>2</td>\n",
       "      <td>0</td>\n",
       "      <td>0</td>\n",
       "      <td>0</td>\n",
       "    </tr>\n",
       "    <tr>\n",
       "      <th>2010-09-02</th>\n",
       "      <td>76.89</td>\n",
       "      <td>2010</td>\n",
       "      <td>9</td>\n",
       "      <td>2</td>\n",
       "      <td>3</td>\n",
       "      <td>245</td>\n",
       "      <td>35</td>\n",
       "      <td>3</td>\n",
       "      <td>0</td>\n",
       "      <td>0</td>\n",
       "      <td>0</td>\n",
       "    </tr>\n",
       "    <tr>\n",
       "      <th>2010-09-03</th>\n",
       "      <td>76.57</td>\n",
       "      <td>2010</td>\n",
       "      <td>9</td>\n",
       "      <td>3</td>\n",
       "      <td>3</td>\n",
       "      <td>246</td>\n",
       "      <td>35</td>\n",
       "      <td>4</td>\n",
       "      <td>0</td>\n",
       "      <td>0</td>\n",
       "      <td>0</td>\n",
       "    </tr>\n",
       "    <tr>\n",
       "      <th>2010-09-04</th>\n",
       "      <td>76.62</td>\n",
       "      <td>2010</td>\n",
       "      <td>9</td>\n",
       "      <td>4</td>\n",
       "      <td>3</td>\n",
       "      <td>247</td>\n",
       "      <td>35</td>\n",
       "      <td>5</td>\n",
       "      <td>0</td>\n",
       "      <td>0</td>\n",
       "      <td>0</td>\n",
       "    </tr>\n",
       "    <tr>\n",
       "      <th>2010-09-05</th>\n",
       "      <td>76.63</td>\n",
       "      <td>2010</td>\n",
       "      <td>9</td>\n",
       "      <td>5</td>\n",
       "      <td>3</td>\n",
       "      <td>248</td>\n",
       "      <td>35</td>\n",
       "      <td>6</td>\n",
       "      <td>0</td>\n",
       "      <td>1</td>\n",
       "      <td>0</td>\n",
       "    </tr>\n",
       "  </tbody>\n",
       "</table>\n",
       "</div>"
      ],
      "text/plain": [
       "            Значение  year  month  dayofmonth  quarter  dayofyear  weekofyear  \\\n",
       "Дата                                                                            \n",
       "2010-09-01     76.37  2010      9           1        3        244          35   \n",
       "2010-09-02     76.89  2010      9           2        3        245          35   \n",
       "2010-09-03     76.57  2010      9           3        3        246          35   \n",
       "2010-09-04     76.62  2010      9           4        3        247          35   \n",
       "2010-09-05     76.63  2010      9           5        3        248          35   \n",
       "\n",
       "            dayofweek  is_holiday  is_prev_holiday  is_next_holiday  \n",
       "Дата                                                                 \n",
       "2010-09-01          2           0                0                0  \n",
       "2010-09-02          3           0                0                0  \n",
       "2010-09-03          4           0                0                0  \n",
       "2010-09-04          5           0                0                0  \n",
       "2010-09-05          6           0                1                0  "
      ]
     },
     "execution_count": 2,
     "metadata": {},
     "output_type": "execute_result"
    }
   ],
   "source": [
    "path_brent = 'my_BRENT2019.csv'\n",
    "brent_data = pd.read_csv(path_brent,sep = ',', index_col=[0], parse_dates=[0])\n",
    "brent_data.head()"
   ]
  },
  {
   "cell_type": "code",
   "execution_count": 3,
   "metadata": {},
   "outputs": [],
   "source": [
    "brent_data = brent_data.sort_index()"
   ]
  },
  {
   "cell_type": "code",
   "execution_count": 4,
   "metadata": {},
   "outputs": [
    {
     "data": {
      "text/plain": [
       "(2667, 11)"
      ]
     },
     "execution_count": 4,
     "metadata": {},
     "output_type": "execute_result"
    }
   ],
   "source": [
    "brent_data.shape"
   ]
  },
  {
   "cell_type": "markdown",
   "metadata": {},
   "source": [
    "Вычисляем первые разности стоимости нефти"
   ]
  },
  {
   "cell_type": "code",
   "execution_count": 5,
   "metadata": {},
   "outputs": [],
   "source": [
    "brent_data['diff_1'] = (brent_data['Значение'] - brent_data['Значение'].shift(1)).fillna(0)"
   ]
  },
  {
   "cell_type": "code",
   "execution_count": 6,
   "metadata": {},
   "outputs": [],
   "source": [
    "d_brent_data = brent_data['Значение'].values[1:] - brent_data['Значение'].values[:-1]"
   ]
  },
  {
   "cell_type": "markdown",
   "metadata": {},
   "source": [
    "### 2. Добавьте первые разности по стоимости доллара и евро к рублю"
   ]
  },
  {
   "cell_type": "markdown",
   "metadata": {},
   "source": [
    "Считываем курсы валют из внешних источников"
   ]
  },
  {
   "cell_type": "code",
   "execution_count": 7,
   "metadata": {},
   "outputs": [
    {
     "data": {
      "text/html": [
       "<div>\n",
       "<style scoped>\n",
       "    .dataframe tbody tr th:only-of-type {\n",
       "        vertical-align: middle;\n",
       "    }\n",
       "\n",
       "    .dataframe tbody tr th {\n",
       "        vertical-align: top;\n",
       "    }\n",
       "\n",
       "    .dataframe thead th {\n",
       "        text-align: right;\n",
       "    }\n",
       "</style>\n",
       "<table border=\"1\" class=\"dataframe\">\n",
       "  <thead>\n",
       "    <tr style=\"text-align: right;\">\n",
       "      <th></th>\n",
       "      <th>curs</th>\n",
       "    </tr>\n",
       "  </thead>\n",
       "  <tbody>\n",
       "    <tr>\n",
       "      <th>2010-09-01</th>\n",
       "      <td>30.8669</td>\n",
       "    </tr>\n",
       "    <tr>\n",
       "      <th>2010-09-02</th>\n",
       "      <td>30.8001</td>\n",
       "    </tr>\n",
       "    <tr>\n",
       "      <th>2010-09-03</th>\n",
       "      <td>30.6858</td>\n",
       "    </tr>\n",
       "    <tr>\n",
       "      <th>2010-09-04</th>\n",
       "      <td>30.6922</td>\n",
       "    </tr>\n",
       "    <tr>\n",
       "      <th>2010-09-07</th>\n",
       "      <td>30.5771</td>\n",
       "    </tr>\n",
       "  </tbody>\n",
       "</table>\n",
       "</div>"
      ],
      "text/plain": [
       "               curs\n",
       "2010-09-01  30.8669\n",
       "2010-09-02  30.8001\n",
       "2010-09-03  30.6858\n",
       "2010-09-04  30.6922\n",
       "2010-09-07  30.5771"
      ]
     },
     "execution_count": 7,
     "metadata": {},
     "output_type": "execute_result"
    }
   ],
   "source": [
    "rub_doll=pd.read_excel('RC_F01_09_2010_T01_09_2019.xlsx')\n",
    "rub_doll.index = pd.to_datetime(rub_doll['data'].values).date\n",
    "rub_doll.drop(['nominal','cdx','data'], axis=1,inplace = True)\n",
    "rub_doll.head()"
   ]
  },
  {
   "cell_type": "code",
   "execution_count": 8,
   "metadata": {},
   "outputs": [
    {
     "data": {
      "text/html": [
       "<div>\n",
       "<style scoped>\n",
       "    .dataframe tbody tr th:only-of-type {\n",
       "        vertical-align: middle;\n",
       "    }\n",
       "\n",
       "    .dataframe tbody tr th {\n",
       "        vertical-align: top;\n",
       "    }\n",
       "\n",
       "    .dataframe thead th {\n",
       "        text-align: right;\n",
       "    }\n",
       "</style>\n",
       "<table border=\"1\" class=\"dataframe\">\n",
       "  <thead>\n",
       "    <tr style=\"text-align: right;\">\n",
       "      <th></th>\n",
       "      <th>curs</th>\n",
       "    </tr>\n",
       "  </thead>\n",
       "  <tbody>\n",
       "    <tr>\n",
       "      <th>2010-09-01</th>\n",
       "      <td>39.0127</td>\n",
       "    </tr>\n",
       "    <tr>\n",
       "      <th>2010-09-02</th>\n",
       "      <td>39.1654</td>\n",
       "    </tr>\n",
       "    <tr>\n",
       "      <th>2010-09-03</th>\n",
       "      <td>39.2901</td>\n",
       "    </tr>\n",
       "    <tr>\n",
       "      <th>2010-09-04</th>\n",
       "      <td>39.3505</td>\n",
       "    </tr>\n",
       "    <tr>\n",
       "      <th>2010-09-07</th>\n",
       "      <td>39.4720</td>\n",
       "    </tr>\n",
       "  </tbody>\n",
       "</table>\n",
       "</div>"
      ],
      "text/plain": [
       "               curs\n",
       "2010-09-01  39.0127\n",
       "2010-09-02  39.1654\n",
       "2010-09-03  39.2901\n",
       "2010-09-04  39.3505\n",
       "2010-09-07  39.4720"
      ]
     },
     "execution_count": 8,
     "metadata": {},
     "output_type": "execute_result"
    }
   ],
   "source": [
    "rub_e=pd.read_excel('R_E01_09_2010_T01_09_2019.xlsx')\n",
    "rub_e.index = pd.to_datetime(rub_e['data'].values).date\n",
    "rub_e.drop(['nominal','cdx','data'], axis=1,inplace = True)\n",
    "rub_e.head()"
   ]
  },
  {
   "cell_type": "markdown",
   "metadata": {},
   "source": [
    "Выведем стоимость нефти и курсы валют на одном графике"
   ]
  },
  {
   "cell_type": "code",
   "execution_count": 9,
   "metadata": {},
   "outputs": [
    {
     "data": {
      "image/png": "[encoded data removed]",
      "text/plain": [
       "<Figure size 1080x504 with 1 Axes>"
      ]
     },
     "metadata": {
      "needs_background": "light"
     },
     "output_type": "display_data"
    }
   ],
   "source": [
    "_ = brent_data['Значение'].plot( style='.', figsize=( 15, 7 ), title='Brent ')\n",
    "plt.plot(rub_doll.index,rub_doll['curs'].values,'*k', label='doll - rub')\n",
    "plt.plot(rub_e.index,rub_e['curs'].values,'*r', label='euro - rub')\n",
    "plt.ylabel('USA dollar')\n",
    "plt.xlabel('t')\n",
    "plt.legend()\n",
    "plt.show()"
   ]
  },
  {
   "cell_type": "markdown",
   "metadata": {},
   "source": [
    "Выведем производные стоимости нефти и курсов валют на одном графике"
   ]
  },
  {
   "cell_type": "code",
   "execution_count": 10,
   "metadata": {},
   "outputs": [],
   "source": [
    "s_brent = np.std(d_brent_data)**0.5*3"
   ]
  },
  {
   "cell_type": "code",
   "execution_count": 11,
   "metadata": {},
   "outputs": [
    {
     "data": {
      "image/png": "[encoded data removed]",
      "text/plain": [
       "<Figure size 1440x720 with 3 Axes>"
      ]
     },
     "metadata": {
      "needs_background": "light"
     },
     "output_type": "display_data"
    }
   ],
   "source": [
    "d_rub_doll = rub_doll['curs'].values[1:] - rub_doll['curs'].values[:-1]\n",
    "s_rub = np.std(d_rub_doll)**0.5 *3\n",
    "\n",
    "d_rub_e = rub_e['curs'].values[1:] - rub_e['curs'].values[:-1]\n",
    "s_rube = np.std(d_rub_e)**0.5 *3\n",
    "\n",
    "plt.figure(figsize=(20,10))\n",
    "plt.subplot(3,1,1)\n",
    "plt.plot(brent_data.iloc[:-1].index,d_brent_data,'.', label='d(BRENT)/dt')\n",
    "plt.plot(brent_data.iloc[[0,-1]].index,[s_brent, s_brent],'--k',label ='3 sig')\n",
    "plt.plot(brent_data.iloc[[0,-1]].index,[-s_brent, -s_brent],'--k')\n",
    "plt.legend()\n",
    "\n",
    "plt.subplot(3,1,2)\n",
    "plt.plot(rub_doll.iloc[:-1].index,d_rub_doll,'.r', label='d(doll)/dt')\n",
    "plt.plot(rub_doll.iloc[[0,-1]].index,[s_rub, s_rub],'--r',label ='3 sig')\n",
    "plt.plot(rub_doll.iloc[[0,-1]].index,[-s_rub, -s_rub],'--r')\n",
    "plt.legend()\n",
    "\n",
    "plt.subplot(3,1,3)\n",
    "plt.plot(rub_e.iloc[:-1].index,d_rub_e,'+k', label='d(euro)/dt')\n",
    "plt.plot(rub_e.iloc[[0,-1]].index,[s_rube, s_rube],'--g',label ='3 sig')\n",
    "plt.plot(rub_e.iloc[[0,-1]].index,[-s_rube, -s_rube],'--g')\n",
    "\n",
    "plt.xlabel('t')\n",
    "plt.legend()\n",
    "plt.title('Цена нефти Brent, USA Dollar')\n",
    "plt.show()\n",
    "\n",
    "ind_anomal_brent = np.where( abs(d_brent_data)>s_brent)[0]\n",
    "ind_anomal_rubl_d = np.where( abs(d_rub_doll)>s_rub)[0]\n",
    "ind_anomal_rubl_e = np.where( abs(d_rub_e)>s_rube)[0]"
   ]
  },
  {
   "cell_type": "markdown",
   "metadata": {},
   "source": [
    "Добавим курсы валют в таблицу"
   ]
  },
  {
   "cell_type": "code",
   "execution_count": 12,
   "metadata": {},
   "outputs": [],
   "source": [
    "brent_data['rub_doll'] = rub_doll"
   ]
  },
  {
   "cell_type": "code",
   "execution_count": 13,
   "metadata": {},
   "outputs": [],
   "source": [
    "brent_data['rub_e'] = rub_e"
   ]
  },
  {
   "cell_type": "markdown",
   "metadata": {},
   "source": [
    "В новых колонка много NAN, заполним их линейной интерполяцией"
   ]
  },
  {
   "cell_type": "code",
   "execution_count": 14,
   "metadata": {},
   "outputs": [],
   "source": [
    "brent_data['rub_doll'] = brent_data['rub_doll'].interpolate(method ='linear', limit_direction ='forward') "
   ]
  },
  {
   "cell_type": "code",
   "execution_count": 15,
   "metadata": {},
   "outputs": [],
   "source": [
    "brent_data['rub_e'] = brent_data['rub_e'].interpolate(method ='linear', limit_direction ='forward')"
   ]
  },
  {
   "cell_type": "markdown",
   "metadata": {},
   "source": [
    "Добавим признаки с производными от курсов валют"
   ]
  },
  {
   "cell_type": "code",
   "execution_count": 16,
   "metadata": {},
   "outputs": [],
   "source": [
    "brent_data['d_rub_doll'] = (brent_data['rub_doll'] - brent_data['rub_doll'].shift(1)).fillna(0)"
   ]
  },
  {
   "cell_type": "code",
   "execution_count": 17,
   "metadata": {},
   "outputs": [],
   "source": [
    "brent_data['d_rub_e'] = (brent_data['rub_e'] - brent_data['rub_e'].shift(1)).fillna(0)"
   ]
  },
  {
   "cell_type": "markdown",
   "metadata": {},
   "source": [
    "### 3. Сделайте ее перрасчет (ресемплинг) в представление по неделям."
   ]
  },
  {
   "cell_type": "code",
   "execution_count": 18,
   "metadata": {},
   "outputs": [],
   "source": [
    "brent_data_w = brent_data.resample('W').mean()"
   ]
  },
  {
   "cell_type": "markdown",
   "metadata": {},
   "source": [
    "Удаляем столбцы, которые стали неинформативными после ресемплинга или ошибочно усреднились"
   ]
  },
  {
   "cell_type": "code",
   "execution_count": 19,
   "metadata": {},
   "outputs": [
    {
     "data": {
      "text/plain": [
       "(470, 16)"
      ]
     },
     "execution_count": 19,
     "metadata": {},
     "output_type": "execute_result"
    }
   ],
   "source": [
    "brent_data_w.shape"
   ]
  },
  {
   "cell_type": "code",
   "execution_count": 20,
   "metadata": {},
   "outputs": [],
   "source": [
    "brent_data_w.drop(columns = ['year','month', 'dayofmonth', 'quarter', 'dayofyear', 'weekofyear',\n",
    "                            'is_holiday', 'is_prev_holiday', 'is_next_holiday', 'dayofweek'], inplace=True)"
   ]
  },
  {
   "cell_type": "code",
   "execution_count": 21,
   "metadata": {},
   "outputs": [
    {
     "data": {
      "text/html": [
       "<div>\n",
       "<style scoped>\n",
       "    .dataframe tbody tr th:only-of-type {\n",
       "        vertical-align: middle;\n",
       "    }\n",
       "\n",
       "    .dataframe tbody tr th {\n",
       "        vertical-align: top;\n",
       "    }\n",
       "\n",
       "    .dataframe thead th {\n",
       "        text-align: right;\n",
       "    }\n",
       "</style>\n",
       "<table border=\"1\" class=\"dataframe\">\n",
       "  <thead>\n",
       "    <tr style=\"text-align: right;\">\n",
       "      <th></th>\n",
       "      <th>Значение</th>\n",
       "      <th>diff_1</th>\n",
       "      <th>rub_doll</th>\n",
       "      <th>rub_e</th>\n",
       "      <th>d_rub_doll</th>\n",
       "      <th>d_rub_e</th>\n",
       "    </tr>\n",
       "    <tr>\n",
       "      <th>Дата</th>\n",
       "      <th></th>\n",
       "      <th></th>\n",
       "      <th></th>\n",
       "      <th></th>\n",
       "      <th></th>\n",
       "      <th></th>\n",
       "    </tr>\n",
       "  </thead>\n",
       "  <tbody>\n",
       "    <tr>\n",
       "      <th>2010-09-05</th>\n",
       "      <td>76.616000</td>\n",
       "      <td>0.052000</td>\n",
       "      <td>30.739767</td>\n",
       "      <td>39.241940</td>\n",
       "      <td>-0.042613</td>\n",
       "      <td>0.075660</td>\n",
       "    </tr>\n",
       "    <tr>\n",
       "      <th>2010-09-12</th>\n",
       "      <td>77.673333</td>\n",
       "      <td>0.288333</td>\n",
       "      <td>30.764261</td>\n",
       "      <td>39.316383</td>\n",
       "      <td>0.039978</td>\n",
       "      <td>-0.033217</td>\n",
       "    </tr>\n",
       "    <tr>\n",
       "      <th>2010-09-19</th>\n",
       "      <td>78.693333</td>\n",
       "      <td>-0.021667</td>\n",
       "      <td>30.824650</td>\n",
       "      <td>39.787733</td>\n",
       "      <td>0.019133</td>\n",
       "      <td>0.199983</td>\n",
       "    </tr>\n",
       "    <tr>\n",
       "      <th>2010-09-26</th>\n",
       "      <td>78.518333</td>\n",
       "      <td>0.118333</td>\n",
       "      <td>30.985900</td>\n",
       "      <td>40.975428</td>\n",
       "      <td>-0.022633</td>\n",
       "      <td>0.173511</td>\n",
       "    </tr>\n",
       "    <tr>\n",
       "      <th>2010-10-03</th>\n",
       "      <td>81.211667</td>\n",
       "      <td>0.791667</td>\n",
       "      <td>30.563028</td>\n",
       "      <td>41.340456</td>\n",
       "      <td>-0.060939</td>\n",
       "      <td>0.030839</td>\n",
       "    </tr>\n",
       "  </tbody>\n",
       "</table>\n",
       "</div>"
      ],
      "text/plain": [
       "             Значение    diff_1   rub_doll      rub_e  d_rub_doll   d_rub_e\n",
       "Дата                                                                       \n",
       "2010-09-05  76.616000  0.052000  30.739767  39.241940   -0.042613  0.075660\n",
       "2010-09-12  77.673333  0.288333  30.764261  39.316383    0.039978 -0.033217\n",
       "2010-09-19  78.693333 -0.021667  30.824650  39.787733    0.019133  0.199983\n",
       "2010-09-26  78.518333  0.118333  30.985900  40.975428   -0.022633  0.173511\n",
       "2010-10-03  81.211667  0.791667  30.563028  41.340456   -0.060939  0.030839"
      ]
     },
     "execution_count": 21,
     "metadata": {},
     "output_type": "execute_result"
    }
   ],
   "source": [
    "brent_data_w.head()"
   ]
  },
  {
   "cell_type": "markdown",
   "metadata": {},
   "source": [
    "Заново сгенерируем признаки на основе индекса"
   ]
  },
  {
   "cell_type": "code",
   "execution_count": 22,
   "metadata": {},
   "outputs": [],
   "source": [
    "brent_data_w['date'] = brent_data_w.index"
   ]
  },
  {
   "cell_type": "markdown",
   "metadata": {},
   "source": [
    "Обнаружена строка со множеством NaN"
   ]
  },
  {
   "cell_type": "code",
   "execution_count": 23,
   "metadata": {},
   "outputs": [
    {
     "data": {
      "text/html": [
       "<div>\n",
       "<style scoped>\n",
       "    .dataframe tbody tr th:only-of-type {\n",
       "        vertical-align: middle;\n",
       "    }\n",
       "\n",
       "    .dataframe tbody tr th {\n",
       "        vertical-align: top;\n",
       "    }\n",
       "\n",
       "    .dataframe thead th {\n",
       "        text-align: right;\n",
       "    }\n",
       "</style>\n",
       "<table border=\"1\" class=\"dataframe\">\n",
       "  <thead>\n",
       "    <tr style=\"text-align: right;\">\n",
       "      <th></th>\n",
       "      <th>Значение</th>\n",
       "      <th>diff_1</th>\n",
       "      <th>rub_doll</th>\n",
       "      <th>rub_e</th>\n",
       "      <th>d_rub_doll</th>\n",
       "      <th>d_rub_e</th>\n",
       "      <th>date</th>\n",
       "    </tr>\n",
       "    <tr>\n",
       "      <th>Дата</th>\n",
       "      <th></th>\n",
       "      <th></th>\n",
       "      <th></th>\n",
       "      <th></th>\n",
       "      <th></th>\n",
       "      <th></th>\n",
       "      <th></th>\n",
       "    </tr>\n",
       "  </thead>\n",
       "  <tbody>\n",
       "    <tr>\n",
       "      <th>2011-10-16</th>\n",
       "      <td>NaN</td>\n",
       "      <td>NaN</td>\n",
       "      <td>NaN</td>\n",
       "      <td>NaN</td>\n",
       "      <td>NaN</td>\n",
       "      <td>NaN</td>\n",
       "      <td>2011-10-16</td>\n",
       "    </tr>\n",
       "  </tbody>\n",
       "</table>\n",
       "</div>"
      ],
      "text/plain": [
       "            Значение  diff_1  rub_doll  rub_e  d_rub_doll  d_rub_e       date\n",
       "Дата                                                                         \n",
       "2011-10-16       NaN     NaN       NaN    NaN         NaN      NaN 2011-10-16"
      ]
     },
     "execution_count": 23,
     "metadata": {},
     "output_type": "execute_result"
    }
   ],
   "source": [
    "brent_data_w.loc[brent_data_w['Значение'].isnull()]"
   ]
  },
  {
   "cell_type": "code",
   "execution_count": 24,
   "metadata": {},
   "outputs": [],
   "source": [
    "brent_data_w['year'] = brent_data_w['date'].dt.year\n",
    "brent_data_w['month'] = brent_data_w['date'].dt.month\n",
    "brent_data_w['quarter'] = brent_data_w['date'].dt.quarter\n",
    "brent_data_w['weekofyear'] = brent_data_w['date'].dt.weekofyear"
   ]
  },
  {
   "cell_type": "code",
   "execution_count": 25,
   "metadata": {},
   "outputs": [],
   "source": [
    "brent_data_w.drop(columns = ['date'], inplace=True)"
   ]
  },
  {
   "cell_type": "code",
   "execution_count": 26,
   "metadata": {},
   "outputs": [
    {
     "data": {
      "text/html": [
       "<div>\n",
       "<style scoped>\n",
       "    .dataframe tbody tr th:only-of-type {\n",
       "        vertical-align: middle;\n",
       "    }\n",
       "\n",
       "    .dataframe tbody tr th {\n",
       "        vertical-align: top;\n",
       "    }\n",
       "\n",
       "    .dataframe thead th {\n",
       "        text-align: right;\n",
       "    }\n",
       "</style>\n",
       "<table border=\"1\" class=\"dataframe\">\n",
       "  <thead>\n",
       "    <tr style=\"text-align: right;\">\n",
       "      <th></th>\n",
       "      <th>Значение</th>\n",
       "      <th>diff_1</th>\n",
       "      <th>rub_doll</th>\n",
       "      <th>rub_e</th>\n",
       "      <th>d_rub_doll</th>\n",
       "      <th>d_rub_e</th>\n",
       "      <th>year</th>\n",
       "      <th>month</th>\n",
       "      <th>quarter</th>\n",
       "      <th>weekofyear</th>\n",
       "    </tr>\n",
       "    <tr>\n",
       "      <th>Дата</th>\n",
       "      <th></th>\n",
       "      <th></th>\n",
       "      <th></th>\n",
       "      <th></th>\n",
       "      <th></th>\n",
       "      <th></th>\n",
       "      <th></th>\n",
       "      <th></th>\n",
       "      <th></th>\n",
       "      <th></th>\n",
       "    </tr>\n",
       "  </thead>\n",
       "  <tbody>\n",
       "    <tr>\n",
       "      <th>2010-09-05</th>\n",
       "      <td>76.616000</td>\n",
       "      <td>0.052000</td>\n",
       "      <td>30.739767</td>\n",
       "      <td>39.241940</td>\n",
       "      <td>-0.042613</td>\n",
       "      <td>0.075660</td>\n",
       "      <td>2010</td>\n",
       "      <td>9</td>\n",
       "      <td>3</td>\n",
       "      <td>35</td>\n",
       "    </tr>\n",
       "    <tr>\n",
       "      <th>2010-09-12</th>\n",
       "      <td>77.673333</td>\n",
       "      <td>0.288333</td>\n",
       "      <td>30.764261</td>\n",
       "      <td>39.316383</td>\n",
       "      <td>0.039978</td>\n",
       "      <td>-0.033217</td>\n",
       "      <td>2010</td>\n",
       "      <td>9</td>\n",
       "      <td>3</td>\n",
       "      <td>36</td>\n",
       "    </tr>\n",
       "    <tr>\n",
       "      <th>2010-09-19</th>\n",
       "      <td>78.693333</td>\n",
       "      <td>-0.021667</td>\n",
       "      <td>30.824650</td>\n",
       "      <td>39.787733</td>\n",
       "      <td>0.019133</td>\n",
       "      <td>0.199983</td>\n",
       "      <td>2010</td>\n",
       "      <td>9</td>\n",
       "      <td>3</td>\n",
       "      <td>37</td>\n",
       "    </tr>\n",
       "    <tr>\n",
       "      <th>2010-09-26</th>\n",
       "      <td>78.518333</td>\n",
       "      <td>0.118333</td>\n",
       "      <td>30.985900</td>\n",
       "      <td>40.975428</td>\n",
       "      <td>-0.022633</td>\n",
       "      <td>0.173511</td>\n",
       "      <td>2010</td>\n",
       "      <td>9</td>\n",
       "      <td>3</td>\n",
       "      <td>38</td>\n",
       "    </tr>\n",
       "    <tr>\n",
       "      <th>2010-10-03</th>\n",
       "      <td>81.211667</td>\n",
       "      <td>0.791667</td>\n",
       "      <td>30.563028</td>\n",
       "      <td>41.340456</td>\n",
       "      <td>-0.060939</td>\n",
       "      <td>0.030839</td>\n",
       "      <td>2010</td>\n",
       "      <td>10</td>\n",
       "      <td>4</td>\n",
       "      <td>39</td>\n",
       "    </tr>\n",
       "  </tbody>\n",
       "</table>\n",
       "</div>"
      ],
      "text/plain": [
       "             Значение    diff_1   rub_doll      rub_e  d_rub_doll   d_rub_e  \\\n",
       "Дата                                                                          \n",
       "2010-09-05  76.616000  0.052000  30.739767  39.241940   -0.042613  0.075660   \n",
       "2010-09-12  77.673333  0.288333  30.764261  39.316383    0.039978 -0.033217   \n",
       "2010-09-19  78.693333 -0.021667  30.824650  39.787733    0.019133  0.199983   \n",
       "2010-09-26  78.518333  0.118333  30.985900  40.975428   -0.022633  0.173511   \n",
       "2010-10-03  81.211667  0.791667  30.563028  41.340456   -0.060939  0.030839   \n",
       "\n",
       "            year  month  quarter  weekofyear  \n",
       "Дата                                          \n",
       "2010-09-05  2010      9        3          35  \n",
       "2010-09-12  2010      9        3          36  \n",
       "2010-09-19  2010      9        3          37  \n",
       "2010-09-26  2010      9        3          38  \n",
       "2010-10-03  2010     10        4          39  "
      ]
     },
     "execution_count": 26,
     "metadata": {},
     "output_type": "execute_result"
    }
   ],
   "source": [
    "brent_data_w.head()"
   ]
  },
  {
   "cell_type": "markdown",
   "metadata": {},
   "source": [
    "### 4. Постройте модель предсказания 1-й точки от текущей (h=1)."
   ]
  },
  {
   "cell_type": "code",
   "execution_count": 27,
   "metadata": {},
   "outputs": [
    {
     "name": "stdout",
     "output_type": "stream",
     "text": [
      "Populating the interactive namespace from numpy and matplotlib\n"
     ]
    }
   ],
   "source": [
    "%pylab inline"
   ]
  },
  {
   "cell_type": "code",
   "execution_count": 28,
   "metadata": {},
   "outputs": [],
   "source": [
    "p = 3\n",
    "\n",
    "#добавляем историю длиной р\n",
    "for i in range(p):\n",
    "    brent_data_w['t'+str(p-i)]=0.\n",
    "    brent_data_w['t'+str(p-i)].values[p+1:] = brent_data_w['Значение'].values[i+1:-(p-i)]\n",
    "for i in range(p):\n",
    "    brent_data_w['d'+str(p-i)]=0.   \n",
    "    brent_data_w['d'+str(p-i)].values[p+1:] = brent_data_w['diff_1'].values[i+1:-(p-i)]"
   ]
  },
  {
   "cell_type": "code",
   "execution_count": 29,
   "metadata": {},
   "outputs": [
    {
     "data": {
      "text/html": [
       "<div>\n",
       "<style scoped>\n",
       "    .dataframe tbody tr th:only-of-type {\n",
       "        vertical-align: middle;\n",
       "    }\n",
       "\n",
       "    .dataframe tbody tr th {\n",
       "        vertical-align: top;\n",
       "    }\n",
       "\n",
       "    .dataframe thead th {\n",
       "        text-align: right;\n",
       "    }\n",
       "</style>\n",
       "<table border=\"1\" class=\"dataframe\">\n",
       "  <thead>\n",
       "    <tr style=\"text-align: right;\">\n",
       "      <th></th>\n",
       "      <th>Значение</th>\n",
       "      <th>diff_1</th>\n",
       "      <th>rub_doll</th>\n",
       "      <th>rub_e</th>\n",
       "      <th>d_rub_doll</th>\n",
       "      <th>d_rub_e</th>\n",
       "      <th>year</th>\n",
       "      <th>month</th>\n",
       "      <th>quarter</th>\n",
       "      <th>weekofyear</th>\n",
       "      <th>t3</th>\n",
       "      <th>t2</th>\n",
       "      <th>t1</th>\n",
       "      <th>d3</th>\n",
       "      <th>d2</th>\n",
       "      <th>d1</th>\n",
       "    </tr>\n",
       "    <tr>\n",
       "      <th>Дата</th>\n",
       "      <th></th>\n",
       "      <th></th>\n",
       "      <th></th>\n",
       "      <th></th>\n",
       "      <th></th>\n",
       "      <th></th>\n",
       "      <th></th>\n",
       "      <th></th>\n",
       "      <th></th>\n",
       "      <th></th>\n",
       "      <th></th>\n",
       "      <th></th>\n",
       "      <th></th>\n",
       "      <th></th>\n",
       "      <th></th>\n",
       "      <th></th>\n",
       "    </tr>\n",
       "  </thead>\n",
       "  <tbody>\n",
       "    <tr>\n",
       "      <th>2010-09-05</th>\n",
       "      <td>76.616000</td>\n",
       "      <td>0.052000</td>\n",
       "      <td>30.739767</td>\n",
       "      <td>39.241940</td>\n",
       "      <td>-0.042613</td>\n",
       "      <td>0.075660</td>\n",
       "      <td>2010</td>\n",
       "      <td>9</td>\n",
       "      <td>3</td>\n",
       "      <td>35</td>\n",
       "      <td>0.000000</td>\n",
       "      <td>0.000000</td>\n",
       "      <td>0.000000</td>\n",
       "      <td>0.000000</td>\n",
       "      <td>0.000000</td>\n",
       "      <td>0.000000</td>\n",
       "    </tr>\n",
       "    <tr>\n",
       "      <th>2010-09-12</th>\n",
       "      <td>77.673333</td>\n",
       "      <td>0.288333</td>\n",
       "      <td>30.764261</td>\n",
       "      <td>39.316383</td>\n",
       "      <td>0.039978</td>\n",
       "      <td>-0.033217</td>\n",
       "      <td>2010</td>\n",
       "      <td>9</td>\n",
       "      <td>3</td>\n",
       "      <td>36</td>\n",
       "      <td>0.000000</td>\n",
       "      <td>0.000000</td>\n",
       "      <td>0.000000</td>\n",
       "      <td>0.000000</td>\n",
       "      <td>0.000000</td>\n",
       "      <td>0.000000</td>\n",
       "    </tr>\n",
       "    <tr>\n",
       "      <th>2010-09-19</th>\n",
       "      <td>78.693333</td>\n",
       "      <td>-0.021667</td>\n",
       "      <td>30.824650</td>\n",
       "      <td>39.787733</td>\n",
       "      <td>0.019133</td>\n",
       "      <td>0.199983</td>\n",
       "      <td>2010</td>\n",
       "      <td>9</td>\n",
       "      <td>3</td>\n",
       "      <td>37</td>\n",
       "      <td>0.000000</td>\n",
       "      <td>0.000000</td>\n",
       "      <td>0.000000</td>\n",
       "      <td>0.000000</td>\n",
       "      <td>0.000000</td>\n",
       "      <td>0.000000</td>\n",
       "    </tr>\n",
       "    <tr>\n",
       "      <th>2010-09-26</th>\n",
       "      <td>78.518333</td>\n",
       "      <td>0.118333</td>\n",
       "      <td>30.985900</td>\n",
       "      <td>40.975428</td>\n",
       "      <td>-0.022633</td>\n",
       "      <td>0.173511</td>\n",
       "      <td>2010</td>\n",
       "      <td>9</td>\n",
       "      <td>3</td>\n",
       "      <td>38</td>\n",
       "      <td>0.000000</td>\n",
       "      <td>0.000000</td>\n",
       "      <td>0.000000</td>\n",
       "      <td>0.000000</td>\n",
       "      <td>0.000000</td>\n",
       "      <td>0.000000</td>\n",
       "    </tr>\n",
       "    <tr>\n",
       "      <th>2010-10-03</th>\n",
       "      <td>81.211667</td>\n",
       "      <td>0.791667</td>\n",
       "      <td>30.563028</td>\n",
       "      <td>41.340456</td>\n",
       "      <td>-0.060939</td>\n",
       "      <td>0.030839</td>\n",
       "      <td>2010</td>\n",
       "      <td>10</td>\n",
       "      <td>4</td>\n",
       "      <td>39</td>\n",
       "      <td>77.673333</td>\n",
       "      <td>78.693333</td>\n",
       "      <td>78.518333</td>\n",
       "      <td>0.288333</td>\n",
       "      <td>-0.021667</td>\n",
       "      <td>0.118333</td>\n",
       "    </tr>\n",
       "  </tbody>\n",
       "</table>\n",
       "</div>"
      ],
      "text/plain": [
       "             Значение    diff_1   rub_doll      rub_e  d_rub_doll   d_rub_e  \\\n",
       "Дата                                                                          \n",
       "2010-09-05  76.616000  0.052000  30.739767  39.241940   -0.042613  0.075660   \n",
       "2010-09-12  77.673333  0.288333  30.764261  39.316383    0.039978 -0.033217   \n",
       "2010-09-19  78.693333 -0.021667  30.824650  39.787733    0.019133  0.199983   \n",
       "2010-09-26  78.518333  0.118333  30.985900  40.975428   -0.022633  0.173511   \n",
       "2010-10-03  81.211667  0.791667  30.563028  41.340456   -0.060939  0.030839   \n",
       "\n",
       "            year  month  quarter  weekofyear         t3         t2         t1  \\\n",
       "Дата                                                                            \n",
       "2010-09-05  2010      9        3          35   0.000000   0.000000   0.000000   \n",
       "2010-09-12  2010      9        3          36   0.000000   0.000000   0.000000   \n",
       "2010-09-19  2010      9        3          37   0.000000   0.000000   0.000000   \n",
       "2010-09-26  2010      9        3          38   0.000000   0.000000   0.000000   \n",
       "2010-10-03  2010     10        4          39  77.673333  78.693333  78.518333   \n",
       "\n",
       "                  d3        d2        d1  \n",
       "Дата                                      \n",
       "2010-09-05  0.000000  0.000000  0.000000  \n",
       "2010-09-12  0.000000  0.000000  0.000000  \n",
       "2010-09-19  0.000000  0.000000  0.000000  \n",
       "2010-09-26  0.000000  0.000000  0.000000  \n",
       "2010-10-03  0.288333 -0.021667  0.118333  "
      ]
     },
     "execution_count": 29,
     "metadata": {},
     "output_type": "execute_result"
    }
   ],
   "source": [
    "brent_data_w.head()"
   ]
  },
  {
   "cell_type": "markdown",
   "metadata": {},
   "source": [
    "Удалим строки с неполной информацией"
   ]
  },
  {
   "cell_type": "code",
   "execution_count": 30,
   "metadata": {},
   "outputs": [],
   "source": [
    "brent_data_w.drop(brent_data_w.index[:4], inplace=True)"
   ]
  },
  {
   "cell_type": "markdown",
   "metadata": {},
   "source": [
    "Заполняем пропуски в строке с индексом 2011-10-16"
   ]
  },
  {
   "cell_type": "code",
   "execution_count": 31,
   "metadata": {},
   "outputs": [],
   "source": [
    "brent_data_w = brent_data_w.interpolate(method ='linear', limit_direction ='forward')"
   ]
  },
  {
   "cell_type": "markdown",
   "metadata": {},
   "source": [
    "Вот в этой строке было много NaNов"
   ]
  },
  {
   "cell_type": "code",
   "execution_count": 32,
   "metadata": {},
   "outputs": [
    {
     "data": {
      "text/plain": [
       "Значение       106.616667\n",
       "diff_1           1.130833\n",
       "rub_doll        31.790056\n",
       "rub_e           43.101208\n",
       "d_rub_doll      -0.120119\n",
       "d_rub_e         -0.044025\n",
       "year          2011.000000\n",
       "month           10.000000\n",
       "quarter          4.000000\n",
       "weekofyear      41.000000\n",
       "t3             107.106667\n",
       "t2             103.878333\n",
       "t1             103.476667\n",
       "d3              -1.223333\n",
       "d2              -0.481667\n",
       "d1               0.455000\n",
       "Name: 2011-10-16 00:00:00, dtype: float64"
      ]
     },
     "execution_count": 32,
     "metadata": {},
     "output_type": "execute_result"
    }
   ],
   "source": [
    "brent_data_w.loc['2011-10-16']"
   ]
  },
  {
   "cell_type": "markdown",
   "metadata": {},
   "source": [
    "### Выделение существенных признаков"
   ]
  },
  {
   "cell_type": "markdown",
   "metadata": {},
   "source": [
    "Запишем итоговую систему признаков и проведем ее анализ. Горизонт прогнозирования h = 1, тогда target = y(t+h)=y(t+1)"
   ]
  },
  {
   "cell_type": "code",
   "execution_count": 33,
   "metadata": {},
   "outputs": [],
   "source": [
    "from sklearn.ensemble import GradientBoostingRegressor\n",
    "from sklearn.preprocessing import StandardScaler"
   ]
  },
  {
   "cell_type": "code",
   "execution_count": 34,
   "metadata": {},
   "outputs": [
    {
     "data": {
      "text/plain": [
       "(465, 1)"
      ]
     },
     "execution_count": 34,
     "metadata": {},
     "output_type": "execute_result"
    }
   ],
   "source": [
    "scl_target=StandardScaler() \n",
    "\n",
    "h=1\n",
    "target = brent_data_w[\"Значение\"].values[h:].reshape((brent_data_w.shape[0]-h,1))\n",
    "y = scl_target.fit_transform(target)\n",
    "y.shape"
   ]
  },
  {
   "cell_type": "code",
   "execution_count": 35,
   "metadata": {
    "scrolled": true
   },
   "outputs": [
    {
     "data": {
      "text/plain": [
       "(465, 16)"
      ]
     },
     "execution_count": 35,
     "metadata": {},
     "output_type": "execute_result"
    }
   ],
   "source": [
    "scl_x=StandardScaler() \n",
    "\n",
    "X = brent_data_w.iloc[:-h,:].values\n",
    "X = scl_x.fit_transform(X.astype('float64'))\n",
    "X.shape"
   ]
  },
  {
   "cell_type": "markdown",
   "metadata": {},
   "source": [
    "Размеры выборок по строкам совпали. Мы взяли на h строк меньше для Х и на h значений позднее по target. Таким образом, входной набор данных сформирован."
   ]
  },
  {
   "cell_type": "code",
   "execution_count": 36,
   "metadata": {},
   "outputs": [
    {
     "name": "stdout",
     "output_type": "stream",
     "text": [
      "F-test=65200.22,  I=0\n",
      "F-test=2.30,  I=1\n",
      "F-test=2868.82,  I=2\n",
      "F-test=1866.56,  I=3\n",
      "F-test=0.42,  I=4\n",
      "F-test=0.26,  I=5\n",
      "F-test=521.03,  I=6\n",
      "F-test=0.10,  I=7\n",
      "F-test=0.16,  I=8\n",
      "F-test=0.23,  I=9\n",
      "F-test=10201.92,  I=10\n",
      "F-test=14492.84,  I=11\n",
      "F-test=24150.40,  I=12\n",
      "F-test=2.54,  I=13\n",
      "F-test=2.64,  I=14\n",
      "F-test=2.54,  I=15\n"
     ]
    }
   ],
   "source": [
    "from sklearn.feature_selection import SelectKBest, SelectPercentile\n",
    "from sklearn.feature_selection import SelectFromModel\n",
    "\n",
    "from sklearn.ensemble import GradientBoostingRegressor\n",
    "\n",
    "from sklearn.feature_selection import f_regression, mutual_info_regression\n",
    "\n",
    "f_test, _ = f_regression(X, y.ravel())\n",
    "\n",
    "for i in range(X.shape[1]):\n",
    "    print(\"F-test={:.2f},  I={}\".format(f_test[i],i))"
   ]
  },
  {
   "cell_type": "markdown",
   "metadata": {},
   "source": [
    "Проверка через F-test показывает, что есть корреляционная связь с предшествующим значением ряда (признак X[:,0]), а кроме этого интересные признаки 1 , 2, 3, 6, 10, 11, 12. Применим автоматизацию выбора через SelectKBest c выделением 5 лучших признаков."
   ]
  },
  {
   "cell_type": "markdown",
   "metadata": {},
   "source": [
    "#### Одномерные статистики"
   ]
  },
  {
   "cell_type": "code",
   "execution_count": 99,
   "metadata": {},
   "outputs": [
    {
     "data": {
      "text/plain": [
       "(465, 7)"
      ]
     },
     "execution_count": 99,
     "metadata": {},
     "output_type": "execute_result"
    }
   ],
   "source": [
    "sfk1 =SelectKBest(f_regression, k=7)\n",
    "X_new1 =sfk1.fit_transform(X, y.ravel())\n",
    "X_new1.shape"
   ]
  },
  {
   "cell_type": "code",
   "execution_count": 100,
   "metadata": {},
   "outputs": [
    {
     "data": {
      "text/plain": [
       "Index(['Значение', 'rub_doll', 'rub_e', 'year', 't3', 't2', 't1'], dtype='object')"
      ]
     },
     "execution_count": 100,
     "metadata": {},
     "output_type": "execute_result"
    }
   ],
   "source": [
    "column_names = brent_data_w.columns[sfk1.get_support()]\n",
    "column_names"
   ]
  },
  {
   "cell_type": "code",
   "execution_count": 101,
   "metadata": {},
   "outputs": [
    {
     "data": {
      "text/plain": [
       "(465, 7)"
      ]
     },
     "execution_count": 101,
     "metadata": {},
     "output_type": "execute_result"
    }
   ],
   "source": [
    "sfk2=SelectKBest(mutual_info_regression, k=7)\n",
    "X_new2 = sfk2.fit_transform(X, y.ravel())\n",
    "X_new2.shape"
   ]
  },
  {
   "cell_type": "code",
   "execution_count": 102,
   "metadata": {},
   "outputs": [
    {
     "data": {
      "text/plain": [
       "Index(['Значение', 'rub_doll', 'rub_e', 'year', 't3', 't2', 't1'], dtype='object')"
      ]
     },
     "execution_count": 102,
     "metadata": {},
     "output_type": "execute_result"
    }
   ],
   "source": [
    "column_names = brent_data_w.columns[sfk2.get_support()]\n",
    "column_names"
   ]
  },
  {
   "cell_type": "markdown",
   "metadata": {},
   "source": [
    "#### Отбор на основе модели"
   ]
  },
  {
   "cell_type": "code",
   "execution_count": 103,
   "metadata": {},
   "outputs": [
    {
     "data": {
      "text/plain": [
       "(465, 3)"
      ]
     },
     "execution_count": 103,
     "metadata": {},
     "output_type": "execute_result"
    }
   ],
   "source": [
    "gr_model = GradientBoostingRegressor(max_depth=5, random_state=40, n_estimators=100).fit(X, y.ravel())\n",
    "sfm = SelectFromModel(gr_model,  max_features = 5)\n",
    "\n",
    "sfm.fit(X, y.ravel())\n",
    "X_new3 = sfm.transform(X)\n",
    "X_new3.shape"
   ]
  },
  {
   "cell_type": "code",
   "execution_count": 104,
   "metadata": {},
   "outputs": [
    {
     "data": {
      "text/plain": [
       "Index(['Значение', 'rub_doll', 'rub_e'], dtype='object')"
      ]
     },
     "execution_count": 104,
     "metadata": {},
     "output_type": "execute_result"
    }
   ],
   "source": [
    "column_names = brent_data_w.columns[sfm.get_support()]\n",
    "column_names"
   ]
  },
  {
   "cell_type": "code",
   "execution_count": 105,
   "metadata": {},
   "outputs": [
    {
     "name": "stdout",
     "output_type": "stream",
     "text": [
      "Номера признаков k1 лучших :  [ 0  2  3  6 10 11 12]\n",
      "Номера признаков k2 лучших:  [ 0  2  3  6 10 11 12]\n",
      "Номера признаков для выбора по модели :  [0 2 3]\n"
     ]
    }
   ],
   "source": [
    "list_param_k1 =np.where(sfk1.get_support())[0]\n",
    "list_param_k2 =np.where(sfk2.get_support())[0]\n",
    "list_param_m =np.where(sfm.get_support())[0]\n",
    "\n",
    "print('Номера признаков k1 лучших : ',list_param_k1)\n",
    "print('Номера признаков k2 лучших: ',list_param_k2)\n",
    "print('Номера признаков для выбора по модели : ',list_param_m)"
   ]
  },
  {
   "cell_type": "code",
   "execution_count": 211,
   "metadata": {},
   "outputs": [],
   "source": [
    "par_with_val = [0,2,3,4,5,6,10,11,12]\n",
    "par_without_val = [0,6,10,11,12]\n",
    "X_with_val = X[:,par_with_val]\n",
    "X_without_val = X[:,par_without_val]"
   ]
  },
  {
   "cell_type": "markdown",
   "metadata": {},
   "source": [
    "Список параметров включая данные по курсам валют"
   ]
  },
  {
   "cell_type": "code",
   "execution_count": 212,
   "metadata": {},
   "outputs": [
    {
     "data": {
      "text/plain": [
       "Index(['Значение', 'rub_doll', 'rub_e', 'd_rub_doll', 'd_rub_e', 'year', 't3',\n",
       "       't2', 't1'],\n",
       "      dtype='object')"
      ]
     },
     "execution_count": 212,
     "metadata": {},
     "output_type": "execute_result"
    }
   ],
   "source": [
    "brent_data_w.columns[par_with_val]"
   ]
  },
  {
   "cell_type": "markdown",
   "metadata": {},
   "source": [
    "Список параметров без данных по курсам валют"
   ]
  },
  {
   "cell_type": "code",
   "execution_count": 213,
   "metadata": {},
   "outputs": [
    {
     "data": {
      "text/plain": [
       "Index(['Значение', 'year', 't3', 't2', 't1'], dtype='object')"
      ]
     },
     "execution_count": 213,
     "metadata": {},
     "output_type": "execute_result"
    }
   ],
   "source": [
    "brent_data_w.columns[par_without_val]"
   ]
  },
  {
   "cell_type": "markdown",
   "metadata": {},
   "source": [
    "### Разделение данных на тестовые и тренировочные "
   ]
  },
  {
   "cell_type": "code",
   "execution_count": 214,
   "metadata": {},
   "outputs": [],
   "source": [
    "def split_data( data, split_date ):\n",
    "    return data.iloc[:split_date,:].copy(), \\\n",
    "           data.iloc[split_date:,:].copy()"
   ]
  },
  {
   "cell_type": "code",
   "execution_count": 215,
   "metadata": {},
   "outputs": [
    {
     "data": {
      "image/png": "[encoded data removed]",
      "text/plain": [
       "<Figure size 1080x504 with 1 Axes>"
      ]
     },
     "metadata": {
      "needs_background": "light"
     },
     "output_type": "display_data"
    }
   ],
   "source": [
    "train, test = split_data(brent_data_w, -30)\n",
    "\n",
    "plt.figure( figsize=( 15, 7 ))\n",
    "plt.xlabel('Время')\n",
    "plt.ylabel('Нефть')\n",
    "plt.plot(train.index,train.iloc[:,0], label='train data' )\n",
    "plt.plot(test.index,test.iloc[:,0], label='test data')\n",
    "plt.title( 'Тестовые и тренировочные данные' )\n",
    "plt.grid()\n",
    "plt.legend()\n",
    "plt.show()"
   ]
  },
  {
   "cell_type": "markdown",
   "metadata": {},
   "source": [
    "Данные с признаками по валюте"
   ]
  },
  {
   "cell_type": "code",
   "execution_count": 216,
   "metadata": {},
   "outputs": [],
   "source": [
    "X_train_val = X_with_val[:train.shape[0],:]\n",
    "y_train = y[:train.shape[0],0]\n",
    "X_test_val = X_with_val[train.shape[0]:,:]\n",
    "y_test = y[train.shape[0]:,0]"
   ]
  },
  {
   "cell_type": "markdown",
   "metadata": {},
   "source": [
    "Данные без признаков по валюте"
   ]
  },
  {
   "cell_type": "code",
   "execution_count": 217,
   "metadata": {},
   "outputs": [],
   "source": [
    "X_train = X_without_val[:train.shape[0],:]\n",
    "X_test = X_without_val[train.shape[0]:,:]"
   ]
  },
  {
   "cell_type": "markdown",
   "metadata": {},
   "source": [
    "### Построение модели без признаков по валюте"
   ]
  },
  {
   "cell_type": "code",
   "execution_count": 218,
   "metadata": {},
   "outputs": [],
   "source": [
    "from sklearn.metrics import mean_squared_error\n",
    "from sklearn.metrics import mean_absolute_error\n",
    "from sklearn.metrics import r2_score"
   ]
  },
  {
   "cell_type": "code",
   "execution_count": 219,
   "metadata": {},
   "outputs": [],
   "source": [
    "from sklearn.ensemble import GradientBoostingRegressor"
   ]
  },
  {
   "cell_type": "code",
   "execution_count": 220,
   "metadata": {},
   "outputs": [],
   "source": [
    "# from sklearn.model_selection import GridSearchCV\n",
    "\n",
    "# def report(results, n_top=3):\n",
    "#     for i in range(1, n_top + 1):\n",
    "#         candidates = np.flatnonzero(results['rank_test_score'] == i)\n",
    "#         for candidate in candidates:\n",
    "#             print(\"Model with rank: {0}\".format(i))\n",
    "#             print(\"Mean validation score: {0:.3f} (std: {1:.3f})\".format(\n",
    "#                   results['mean_test_score'][candidate],\n",
    "#                   results['std_test_score'][candidate]))\n",
    "#             print(\"Parameters: {0}\".format(results['params'][candidate]))\n",
    "#             print(\"\")\n",
    "\n",
    "# #param_dist = {\"max_depth\": [1, 2, 3], \n",
    "# #              \"n_estimators\":[100, 150, 200, 250, 300]}\n",
    "\n",
    "# param_dist = {\"max_depth\": [3], \n",
    "#               \"n_estimators\":[i for i in range(10, 1000, 10)]}\n",
    "\n",
    "\n",
    "# #  randomized search\n",
    "# n_iter_search = 10\n",
    "\n",
    "# model_gr =GradientBoostingRegressor()\n",
    "\n",
    "# random_search = GridSearchCV(model_gr, param_grid=param_dist, cv=5, iid=False)\n",
    "\n",
    "# random_search.fit(X_train, y_train)\n",
    "\n",
    "# report(random_search.cv_results_)"
   ]
  },
  {
   "cell_type": "markdown",
   "metadata": {},
   "source": [
    "1-960 2-400 3-610"
   ]
  },
  {
   "cell_type": "code",
   "execution_count": 221,
   "metadata": {},
   "outputs": [],
   "source": [
    "model_g = GradientBoostingRegressor(max_depth=2, random_state=10, n_estimators=400)"
   ]
  },
  {
   "cell_type": "code",
   "execution_count": 222,
   "metadata": {},
   "outputs": [
    {
     "data": {
      "text/plain": [
       "GradientBoostingRegressor(alpha=0.9, ccp_alpha=0.0, criterion='friedman_mse',\n",
       "                          init=None, learning_rate=0.1, loss='ls', max_depth=2,\n",
       "                          max_features=None, max_leaf_nodes=None,\n",
       "                          min_impurity_decrease=0.0, min_impurity_split=None,\n",
       "                          min_samples_leaf=1, min_samples_split=2,\n",
       "                          min_weight_fraction_leaf=0.0, n_estimators=400,\n",
       "                          n_iter_no_change=None, presort='deprecated',\n",
       "                          random_state=10, subsample=1.0, tol=0.0001,\n",
       "                          validation_fraction=0.1, verbose=0, warm_start=False)"
      ]
     },
     "execution_count": 222,
     "metadata": {},
     "output_type": "execute_result"
    }
   ],
   "source": [
    "model_g.fit( X_train, y_train ) "
   ]
  },
  {
   "cell_type": "code",
   "execution_count": 223,
   "metadata": {},
   "outputs": [],
   "source": [
    "y_pred_g = model_g.predict(X_train)\n",
    "y_test_pred_g = model_g.predict(X_test)"
   ]
  },
  {
   "cell_type": "code",
   "execution_count": 224,
   "metadata": {},
   "outputs": [
    {
     "data": {
      "image/png": "[encoded data removed]",
      "text/plain": [
       "<Figure size 1080x504 with 1 Axes>"
      ]
     },
     "metadata": {
      "needs_background": "light"
     },
     "output_type": "display_data"
    }
   ],
   "source": [
    "plt.figure( figsize=( 15, 7 ))\n",
    "\n",
    "plt.title('Тренировочный набор')\n",
    "plt.xlabel('Время')\n",
    "plt.ylabel('BRENT')\n",
    "plt.plot(y_pred_g[-100:],'or', label='predict GB data' )\n",
    "plt.plot(y_train[-100:], label='test data')\n",
    "plt.grid()\n",
    "plt.legend()\n",
    "plt.show()"
   ]
  },
  {
   "cell_type": "code",
   "execution_count": 225,
   "metadata": {},
   "outputs": [
    {
     "data": {
      "image/png": "[encoded data removed]",
      "text/plain": [
       "<Figure size 1080x504 with 1 Axes>"
      ]
     },
     "metadata": {
      "needs_background": "light"
     },
     "output_type": "display_data"
    }
   ],
   "source": [
    "plt.figure( figsize=( 15, 7 ))\n",
    "plt.title('Тестовый набор')\n",
    "plt.xlabel('Время')\n",
    "plt.ylabel('BRENT')\n",
    "plt.plot(y_test_pred_g,'or', label='predict GB data' )\n",
    "plt.plot(y_test_pred_g,'r' )\n",
    "plt.plot(y_test, label='test data')\n",
    "plt.grid()\n",
    "plt.legend()\n",
    "plt.show()"
   ]
  },
  {
   "cell_type": "code",
   "execution_count": 226,
   "metadata": {},
   "outputs": [
    {
     "name": "stdout",
     "output_type": "stream",
     "text": [
      "ошибка mse :   0.007995865202569927 \n",
      "ошибка mae  :   0.07452421637389353 \n",
      "оценка R2 :   0.6634891783001406\n"
     ]
    }
   ],
   "source": [
    "er_s = mean_squared_error(y_true=y_test, y_pred=y_test_pred_g) \n",
    "er_a = mean_absolute_error(y_true=y_test, y_pred=y_test_pred_g) \n",
    "er_r2 = r2_score(y_true=y_test, y_pred=y_test_pred_g)\n",
    "\n",
    "print('ошибка mse :  ', er_s,'\\nошибка mae  :  ', er_a,'\\nоценка R2 :  ', er_r2)"
   ]
  },
  {
   "cell_type": "code",
   "execution_count": 227,
   "metadata": {},
   "outputs": [],
   "source": [
    "def mean_absolute_percentage_error(y_true, y_pred): \n",
    "    y_true, y_pred = np.array(y_true), np.array(y_pred)\n",
    "    return np.mean(np.abs((y_true - y_pred) / y_true)) * 100"
   ]
  },
  {
   "cell_type": "code",
   "execution_count": 228,
   "metadata": {},
   "outputs": [
    {
     "name": "stdout",
     "output_type": "stream",
     "text": [
      "ошибка градиентного бустинга MAPE :   3.0391014697069973 %\n"
     ]
    }
   ],
   "source": [
    "er_g = mean_absolute_percentage_error(y_true=scl_target.inverse_transform( y_test),y_pred = scl_target.inverse_transform( y_test_pred_g))\n",
    "\n",
    "print('ошибка градиентного бустинга MAPE :  ', er_g,'%')"
   ]
  },
  {
   "cell_type": "markdown",
   "metadata": {},
   "source": [
    "### Построение модели с признаками по валюте"
   ]
  },
  {
   "cell_type": "code",
   "execution_count": 229,
   "metadata": {},
   "outputs": [
    {
     "data": {
      "text/plain": [
       "GradientBoostingRegressor(alpha=0.9, ccp_alpha=0.0, criterion='friedman_mse',\n",
       "                          init=None, learning_rate=0.1, loss='ls', max_depth=2,\n",
       "                          max_features=None, max_leaf_nodes=None,\n",
       "                          min_impurity_decrease=0.0, min_impurity_split=None,\n",
       "                          min_samples_leaf=1, min_samples_split=2,\n",
       "                          min_weight_fraction_leaf=0.0, n_estimators=400,\n",
       "                          n_iter_no_change=None, presort='deprecated',\n",
       "                          random_state=10, subsample=1.0, tol=0.0001,\n",
       "                          validation_fraction=0.1, verbose=0, warm_start=False)"
      ]
     },
     "execution_count": 229,
     "metadata": {},
     "output_type": "execute_result"
    }
   ],
   "source": [
    "model_g.fit( X_train_val, y_train ) "
   ]
  },
  {
   "cell_type": "code",
   "execution_count": 230,
   "metadata": {},
   "outputs": [],
   "source": [
    "y_pred_g = model_g.predict(X_train_val)\n",
    "y_test_pred_g = model_g.predict(X_test_val)"
   ]
  },
  {
   "cell_type": "code",
   "execution_count": 231,
   "metadata": {},
   "outputs": [
    {
     "name": "stdout",
     "output_type": "stream",
     "text": [
      "ошибка mse :   0.006597993865484748 \n",
      "ошибка mae  :   0.06684675023413163 \n",
      "оценка R2 :   0.7223194387354999\n"
     ]
    }
   ],
   "source": [
    "er_s = mean_squared_error(y_true=y_test, y_pred=y_test_pred_g) \n",
    "er_a = mean_absolute_error(y_true=y_test, y_pred=y_test_pred_g) \n",
    "er_r2 = r2_score(y_true=y_test, y_pred=y_test_pred_g)\n",
    "\n",
    "print('ошибка mse :  ', er_s,'\\nошибка mae  :  ', er_a,'\\nоценка R2 :  ', er_r2)"
   ]
  },
  {
   "cell_type": "code",
   "execution_count": 232,
   "metadata": {},
   "outputs": [
    {
     "name": "stdout",
     "output_type": "stream",
     "text": [
      "ошибка градиентного бустинга MAPE :   2.702915897544799 %\n"
     ]
    }
   ],
   "source": [
    "er_g = mean_absolute_percentage_error(y_true=scl_target.inverse_transform( y_test),y_pred = scl_target.inverse_transform( y_test_pred_g))\n",
    "\n",
    "print('ошибка градиентного бустинга MAPE :  ', er_g,'%')"
   ]
  },
  {
   "cell_type": "markdown",
   "metadata": {},
   "source": [
    "### 5. Сделайте вывод о поведении ошибки предсказания ряда в сравнении с прямым прогнозированием."
   ]
  },
  {
   "cell_type": "markdown",
   "metadata": {},
   "source": [
    "Таким образом MAPE модели при использовании признаков, содержащих информацию о курсах валют, уменьшилась на 10%"
   ]
  }
 ],
 "metadata": {
  "kernelspec": {
   "display_name": "Python 3",
   "language": "python",
   "name": "python3"
  },
  "language_info": {
   "codemirror_mode": {
    "name": "ipython",
    "version": 3
   },
   "file_extension": ".py",
   "mimetype": "text/x-python",
   "name": "python",
   "nbconvert_exporter": "python",
   "pygments_lexer": "ipython3",
   "version": "3.7.3"
  }
 },
 "nbformat": 4,
 "nbformat_minor": 2
}
